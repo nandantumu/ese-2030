{
 "cells": [
  {
   "cell_type": "markdown",
   "id": "fd7554ca-5ac4-4958-b713-648e3fd54114",
   "metadata": {
    "editable": true,
    "slideshow": {
     "slide_type": ""
    },
    "tags": []
   },
   "source": [
    "---\n",
    "title: Angles and the Cauchy–Schwarz Inequality\n",
    "subject: Inner Products and Norms\n",
    "subtitle: angle between vectors\n",
    "short_title: Angles\n",
    "authors:\n",
    "  - name: Nikolai Matni\n",
    "    affiliations:\n",
    "      - Dept. of Electrical and Systems Engineering\n",
    "      - University of Pennsylvania\n",
    "    email: nmatni@seas.upenn.edu\n",
    "license: CC-BY-4.0\n",
    "keywords: Angle, Cauchy–Schwarz Inequality\n",
    "math:\n",
    "  '\\vv': '\\mathbf{#1}'\n",
    "  '\\bm': '\\begin{bmatrix}'\n",
    "  '\\em': '\\end{bmatrix}'\n",
    "  '\\R': '\\mathbb{R}'\n",
    "---"
   ]
  },
  {
   "cell_type": "markdown",
   "id": "a46f522d-2995-412b-92cf-9ff085526b18",
   "metadata": {},
   "source": [
    "## Reading\n",
    "\n",
    "Material related to this page, as well as additional exercises, can be found in ALA Ch. 3.2."
   ]
  },
  {
   "cell_type": "markdown",
   "id": "d276bcc3-237d-4cda-8bf0-39285b0a09f3",
   "metadata": {},
   "source": [
    "## Learning Objectives\n",
    "\n",
    "By the end of this page, you should know:\n",
    "- what is the Cauchy-Schwarz Inequality\n",
    "- what is the generalized angle between vectors"
   ]
  },
  {
   "cell_type": "markdown",
   "id": "a1b52c01-f3b4-4b43-baeb-f97bc73802a8",
   "metadata": {},
   "source": [
    "## Generalized angle\n",
    "\n",
    "Our starting point in defining the notion of angle in a general inner product space is the familiar formula\n",
    "\\begin{equation}\n",
    "\\label{angle_fam}\n",
    "\\vv v . \\vv w = \\|\\vv v\\| \\|\\vv w\\| \\cos(\\theta),\n",
    "\\end{equation}\n",
    "where $\\theta$ measures the angle between $\\vv v$ and $\\vv w$.\n",
    ":::{figure}../figures/04-angle.png\n",
    ":label:Angle\n",
    ":alt: Angle\n",
    ":width: 200px\n",
    ":align: center\n",
    ":::\n",
    "Since $\\|\\cos(\\theta)\\| \\leq 1$, we can bound the magnitude of $\\vv v . \\vv w$ as\n",
    "\\begin{equation}\n",
    "\\label{cauchy_simple}\n",
    "|\\vv v . \\vv w| \\leq \\|\\vv v\\| . \\|\\vv w\\|.\n",
    "\\end{equation}\n",
    ":::{prf:theorem} Cauchy-Schwarz Inequality\n",
    ":label:cauchy_schwarz\n",
    "The simplest form of _Cauchy-Schwarz Inequality_ is [](#cauchy_simple), which holds for any inner product. That is, it is always true that\n",
    "\\begin{equation}\n",
    "\\label{cauchy}\n",
    "|\\langle \\vv v , \\vv w \\rangle| \\leq \\|\\vv v\\| . \\|\\vv w\\| \\ \\textrm{for all} \\ \\vv v, \\vv w \\in V.\n",
    "\\end{equation}\n",
    "Here, $\\|\\vv v\\| = \\sqrt{\\langle \\vv v, \\vv v\\rangle}$ is the norm induced by the inner product, and $|\\cdot|$ denotes the absolute value of a real number. \n",
    ":::\n",
    "\n",
    "```{note}\n",
    "Equality holds in [](#cauchy) if and only if $\\vv v$ and $\\vv w$ are parallel vectors.\n",
    "```\n",
    "\n",
    ":::{prf:definition} Generalized angle\n",
    ":label: angle_defn\n",
    "The [inequality](#cauchy) lets us define the following _generalized angle_ between any two vectors $\\vv v$ and $\\vv w$ in an inner product space:\n",
    "\\begin{equation}\n",
    "\\label{angle_defn}\n",
    "\\cos(\\theta) = \\frac{\\langle \\vv v, \\vv w \\rangle}{\\|\\vv v\\|. \\|\\vv w\\|}\n",
    "\\end{equation}\n",
    ":::\n",
    "[](#angle_defn) makes sense because, by [](#cauchy), we know that\n",
    "\\begin{equation}\n",
    "\\label{angle_bounds}\n",
    "-1 \\leq \\frac{\\langle \\vv v, \\vv w \\rangle}{\\|\\vv v\\|. \\|\\vv w\\|} \\leq 1.\n",
    "\\end{equation}\n",
    "Hence, $\\theta$ is well defined, and unique if restricted to be in $[0, \\pi]$. "
   ]
  },
  {
   "cell_type": "markdown",
   "id": "40399492",
   "metadata": {},
   "source": [
    "## Angles between generic vectors\n",
    "\n",
    ":::{prf:example} \n",
    ":label:dot_eg\n",
    "The vectors $\\vv v = \\bm 1 \\\\ 1 \\\\ 0\\em$ and $\\vv w = \\bm 2 \\\\ 1 \\\\ 1\\em$ have dot product $\\vv v . \\vv w = 3$ and norms $\\|\\vv v\\| = \\sqrt{2}, \\|\\vv w\\| = \\sqrt{6}$. Hence,\n",
    "$$\n",
    "\\cos(\\theta) = \\frac{3}{\\sqrt{2}\\sqrt{6}} = \\frac{\\sqrt{3}}{2} \\Rightarrow \\theta = \\arccos\\left(\\frac{\\sqrt{3}}{2}\\right) = \\frac{\\pi}{6}  \\ \\textrm{rad},\n",
    "$$\n",
    "which is the usual notion of angle. \n",
    "\n",
    "We can also compute the _angle_ between $\\vv v$ and $\\vv w$ with respect to the weighted inner product $\\langle \\vv v, \\vv w \\rangle = 2v_1w_1 + 3v_3w_3$. For this inner product, $\\langle \\vv v, \\vv w \\rangle = 4, \\| \\vv v\\| = \\sqrt{2}, \\|\\vv w\\| = \\sqrt{11}$. Hence,\n",
    "$$\n",
    "\\cos(\\theta) = \\frac{4}{\\sqrt{2}\\sqrt{11}} = 0.8528 \\Rightarrow \\theta = \\arccos\\left(0.8528\\right) = 0.5495 \\ \\textrm{rad}.\n",
    "$$\n",
    ":::\n",
    "\n",
    ":::{prf:example} \n",
    ":label:poly_eg\n",
    "We can also define angles between vectors in a generic vector space, for example, polynomials. For ${p(x) = a_0 + a_1 x +a_2x^2, q(x) = b_0 + b_1x + b_2x^2 \\in P^{(2)}}$, we define the $\\langle p, q\\rangle = a_0b_0 + a_1b_1 + a_2b_2$. This agrees with the standard [dot product](./041-inner.ipynb#dot-product-defn) applied to $\\vv p = \\bm a_0 \\\\ a_1 \\\\ a_2\\em, \\vv q = \\bm b_0 \\\\ b_1 \\\\ b_2\\em$ and hence immediately satisfies [this definition](./041-inner.ipynb#inner_defn).  The angle between $p(x)$ and $q(x)$ is computed as\n",
    "$$\n",
    "\\cos(\\theta) = \\frac{\\langle p, q \\rangle}{\\|p\\|. \\|q\\|} = \\frac{\\langle \\vv p, \\vv q \\rangle}{\\|\\vv p\\|. \\|\\vv q\\|}.\n",
    "$$\n",
    "For example, if $p(x)  = 1 + x$ and $q(x) = -1 + x^2$, then $\\langle p, q \\rangle = -1$ and $\\| p \\| = \\sqrt{2}, \\| q \\| = \\sqrt{2}$, and ${\\cos(\\theta) = \\frac{-1}{2} \\Rightarrow \\theta = \\frac{2\\pi}{3}}$.\n",
    ":::\n",
    "\n",
    "```{note}\n",
    "The expression ([angle](#angle_defn)) is called the _cosine similarity_ of two vectors and measures how \"aligned\" they are. Cosine similarity plays an important role in modern chatbots like ChatGPT, which will be discussed in the case study.\n",
    "```"
   ]
  }
 ],
 "metadata": {
  "jupytext": {
   "cell_metadata_filter": "-all",
   "main_language": "python"
  },
  "kernelspec": {
   "display_name": "Python 3 (ipykernel)",
   "language": "python",
   "name": "python3"
  },
  "language_info": {
   "codemirror_mode": {
    "name": "ipython",
    "version": 3
   },
   "file_extension": ".py",
   "mimetype": "text/x-python",
   "name": "python",
   "nbconvert_exporter": "python",
   "pygments_lexer": "ipython3",
   "version": "3.8.19"
  }
 },
 "nbformat": 4,
 "nbformat_minor": 5
}
