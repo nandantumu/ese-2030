{
 "cells": [
  {
   "cell_type": "markdown",
   "metadata": {},
   "source": [
    "---\n",
    "title: The Gram-Schmidt Process\n",
    "subject: Inner Products and Norms\n",
    "subtitle: \n",
    "short_title: The Gram-Schmidt Process\n",
    "authors:\n",
    "  - name: Nikolai Matni\n",
    "    affiliations:\n",
    "      - Dept. of Electrical and Systems Engineering\n",
    "      - University of Pennsylvania\n",
    "    email: nmatni@seas.upenn.edu\n",
    "license: CC-BY-4.0\n",
    "keywords: Gram-Schmidt\n",
    "math:\n",
    "  '\\vv': '\\mathbf{#1}'\n",
    "  '\\bm': '\\begin{bmatrix}'\n",
    "  '\\em': '\\end{bmatrix}'\n",
    "  '\\R': '\\mathbb{R}'\n",
    "---"
   ]
  },
  {
   "cell_type": "markdown",
   "metadata": {},
   "source": [
    "## Reading\n",
    "\n",
    "Material related to this page, as well as additional exercises, can be found in ALA 4.2.\n",
    "\n",
    "## Learning Objectives\n",
    "\n",
    "By the end of this page, you should know:\n",
    "- What is the Gram-Schmidt process for finding an orthogonal basis of a vector space?"
   ]
  },
  {
   "cell_type": "markdown",
   "metadata": {},
   "source": [
    "# The Gram-Schmidt Process\n",
    "\n",
    "Hopefully we've convinced you that orthogonal bases are useful, so now the natural question becomes: how do I compute one? That's where the famed Gram-Schmidt process (GSP) comes into play.\n",
    "\n",
    "The idea behind GSP is farily straightforward: given an initial basis for a vector space, iteratively modify until it is orthogonal. Let's start with a simple concrete example, and then introduce the general algorithm:\n",
    "\n",
    ":::{prf:example} Finding an orthogonal basis\n",
    ":label: computing-orthogonal-basis-ex\n",
    "\n",
    "Let $W = \\text{span}\\{\\vv{x_1}, \\vv{x_2}\\}$, where $\\vv{x_1} = \\bm 3\\\\6\\\\0 \\em$ and $\\vv{x_2} = \\bm 1\\\\2\\\\2 \\em$.\n",
    "\n",
    "Since $\\vv{x_1}$ and $\\vv{x_2}$ are linearly independent (why?), they form a basis for the subspace $W \\subseteq \\mathbb{R}^3$, where $\\text{dim}(W) = 2$.\n",
    "\n",
    "However, $\\vv{x_1}$ and $\\vv{x_2}$ are not [orthogonal](#orthogonal-defn) because\n",
    "\n",
    "\\begin{align*}\n",
    "    \\langle \\vv{x_1}, \\vv{x_2}\\rangle = 3(1) + 6(2) + 0(2) = 15.\n",
    "\\end{align*}\n",
    "\n",
    "Let's use $\\{\\vv{v_1}, \\vv{v_2} \\}$ for our new basis, and set $\\vv{v_1} = \\vv{x_1}$. We need to find a vector $\\vv{v_2}$ that is orthogonal to $\\vv{v_1}$ such that $\\text{span}\\{\\vv{v_1}, \\vv{v_2}\\} = W$.\n",
    "\n",
    "Let's look at a picture first:\n",
    "\n",
    "![Parallel and perpendicular components of $\\vv{x_2}$ along $\\vv{v_1}$](../figures/04-gram_schmidt.png)\n",
    "\n",
    "From this picture, we observe that we can write $\\vv{x_2} = \\vv p  +\\vv{v_2}$ where $\\vv{p}$ is the component of $\\vv{x_2}$ parallel with $\\vv{x_1}$ and $\\vv{v_2}$ is what's left over, i.e., the part of $\\vv{x_2}$ that is orthogonal to $\\vv{x_1} = \\vv{v_1}$.\n",
    "\n",
    "If $\\vv p$ is parallel with $\\vv{v_1}$, then we must have that $\\vv{p} = c\\vv{v_1}$ for some constant $c$, and therefore $\\vv{2} = \\vv{x_2} - \\vv p = \\vv{x_2} - c\\vv{v_1}$.\n",
    "\n",
    "Now from our [previous discussion](#coordinates-norm-orthogonal-thm), we know that $c = \\frac{\\langle \\vv{x_2}, \\vv{v_1}\\rangle}{\\|\\vv{v_1}\\|^2}$ (why?) but let's see a different way of computing $c$. We want $\\langle \\vv{v_2}, \\vv{v_1} \\rangle = 0$, so we must have:\n",
    "\n",
    "\\begin{align*}\n",
    "    \\langle \\vv{v_2}, \\vv{v_1} \\rangle = \\langle \\vv{x_2} - c\\vv{v_1}, \\vv{v_1}\\rangle = \\langle \\vv{x_2}, \\vv{v_1} \\rangle - c\\|\\vv{v_1}\\|^2 = 0\n",
    "\\end{align*}\n",
    "\n",
    "or equivalently, $c = \\frac{\\langle \\vv{x_2}, \\vv{v_1}\\rangle}{\\|\\vv{v_1}\\|^2}$. Therefore, $\\vv{v_2} = \\vv{x_2} - \\frac{\\langle \\vv{x_2}, \\vv{v_1} \\rangle}{\\|\\vv{v_1}\\|^2} \\vv{v_1}$.\n",
    "\n",
    "By construction, we have that $\\langle \\vv{v_1}, \\vv{v_2}\\rangle = 0$, and since $\\vv{v_1} = \\vv{x_1}$ and $\\vv{v_2} = \\vv{x_2} - c\\vv{x_1}$, both $\\vv{v_1}, \\vv{v_2} \\in W$. So $\\vv{v_1}$ and $\\vv{v_2}$ are linearly independent and contained in $W$ (a subspace of dimension $2$), so form a basis for $W$. \n",
    "\n",
    "After actually plugging in our values of $\\vv{x_1}$ and $\\vv{x_2}$, you can verify that \n",
    "\n",
    "\\begin{align*}\n",
    "    \\vv{v_1} = \\bm 3\\\\6\\\\0 \\em, \\quad \\vv{v_2} = \\bm 0\\\\0\\\\2 \\em\n",
    "\\end{align*}\n",
    "\n",
    "is an orthogonal basis for $\\text{span}\\left\\{\\bm 3\\\\6\\\\0 \\em, \\bm 1\\\\2\\\\2 \\em\\right\\}$.\n",
    "\n",
    ":::\n",
    "\n",
    "The Gram-Schmidt process simply repeats [this process](#computing-orthogonal-basis-ex) over and over if there are more than two vectors, but the idea remains the same: at each step you subtract off the directions of the current vector that are parallel with previous ones.\n",
    "\n",
    "TOOD: PSEUDO CODE, EXAMPLE/EXERCISE, NOTES"
   ]
  }
 ],
 "metadata": {
  "language_info": {
   "name": "python"
  }
 },
 "nbformat": 4,
 "nbformat_minor": 2
}
