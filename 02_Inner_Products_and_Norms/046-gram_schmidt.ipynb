{
 "cells": [
  {
   "cell_type": "markdown",
   "metadata": {},
   "source": [
    "---\n",
    "title: The Gram-Schmidt Process\n",
    "subject: Inner Products and Norms\n",
    "subtitle: \n",
    "short_title: The Gram-Schmidt Process\n",
    "authors:\n",
    "  - name: Nikolai Matni\n",
    "    affiliations:\n",
    "      - Dept. of Electrical and Systems Engineering\n",
    "      - University of Pennsylvania\n",
    "    email: nmatni@seas.upenn.edu\n",
    "license: CC-BY-4.0\n",
    "keywords: Gram-Schmidt\n",
    "math:\n",
    "  '\\vv': '\\mathbf{#1}'\n",
    "  '\\bm': '\\begin{bmatrix}'\n",
    "  '\\em': '\\end{bmatrix}'\n",
    "  '\\R': '\\mathbb{R}'\n",
    "---"
   ]
  },
  {
   "cell_type": "markdown",
   "metadata": {},
   "source": [
    "## Reading\n",
    "\n",
    "Material related to this page, as well as additional exercises, can be found in ALA 4.2.\n",
    "\n",
    "## Learning Objectives\n",
    "\n",
    "By the end of this page, you should know:\n",
    "- What is the Gram-Schmidt process for finding an orthogonal basis of a vector space?"
   ]
  },
  {
   "cell_type": "markdown",
   "metadata": {},
   "source": [
    "# The Gram-Schmidt Process\n",
    "\n",
    "Hopefully we've convinced you that orthogonal bases are useful, so now the natural question becomes: how do I compute one? That's where the famed Gram-Schmidt process (GSP) comes into play.\n",
    "\n",
    "The idea behind GSP is farily straightforward: given an initial basis for a vector space, iteratively modify until it is orthogonal. Let's start with a simple concrete example, and then introduce the general algorithm:\n",
    "\n",
    ":::{prf:example} Finding an orthogonal basis\n",
    ":label: computing-orthogonal-basis-ex\n",
    "\n",
    "Let $W = \\text{span}\\{\\vv{x_1}, \\vv{x_2}\\}$, where $\\vv{x_1} = \\bm 3\\\\6\\\\0 \\em$ and $\\vv{x_2} = \\bm 1\\\\2\\\\2 \\em$.\n",
    "\n",
    "Since $\\vv{x_1}$ and $\\vv{x_2}$ are linearly independent (why?), they form a basis for the subspace $W \\subseteq \\mathbb{R}^3$, where $\\text{dim}(W) = 2$.\n",
    "\n",
    "However, $\\vv{x_1}$ and $\\vv{x_2}$ are not [orthogonal](#orthogonal-defn) because\n",
    "\n",
    "\n",
    "\n",
    ":::"
   ]
  }
 ],
 "metadata": {
  "kernelspec": {
   "display_name": "Python 3 (ipykernel)",
   "language": "python",
   "name": "python3"
  },
  "language_info": {
   "codemirror_mode": {
    "name": "ipython",
    "version": 3
   },
   "file_extension": ".py",
   "mimetype": "text/x-python",
   "name": "python",
   "nbconvert_exporter": "python",
   "pygments_lexer": "ipython3",
   "version": "3.8.19"
  }
 },
 "nbformat": 4,
 "nbformat_minor": 4
}
