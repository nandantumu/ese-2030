{
 "cells": [
  {
   "cell_type": "markdown",
   "id": "fd7554ca-5ac4-4958-b713-648e3fd54114",
   "metadata": {
    "editable": true,
    "slideshow": {
     "slide_type": ""
    },
    "tags": []
   },
   "source": [
    "---\n",
    "title: Inner Products\n",
    "subject: Inner Products and Norms\n",
    "subtitle: generalizing dot product\n",
    "short_title: Inner Products\n",
    "authors:\n",
    "  - name: Nikolai Matni\n",
    "    affiliations:\n",
    "      - Dept. of Electrical and Systems Engineering\n",
    "      - University of Pennsylvania\n",
    "    email: nmatni@seas.upenn.edu\n",
    "license: CC-BY-4.0\n",
    "keywords: inner product, norm, length\n",
    "math:\n",
    "  '\\vv': '\\mathbf{#1}'\n",
    "  '\\bm': '\\begin{bmatrix}'\n",
    "  '\\em': '\\end{bmatrix}'\n",
    "  '\\R': '\\mathbb{R}'\n",
    "---"
   ]
  },
  {
   "cell_type": "markdown",
   "id": "a46f522d-2995-412b-92cf-9ff085526b18",
   "metadata": {},
   "source": [
    "## Reading\n",
    "\n",
    "Material related to this page, as well as additional exercises, can be found in ALA Ch. 3.1."
   ]
  },
  {
   "cell_type": "markdown",
   "id": "d276bcc3-237d-4cda-8bf0-39285b0a09f3",
   "metadata": {},
   "source": [
    "## Learning Objectives\n",
    "\n",
    "By the end of this page, you should know:\n",
    "- what is an inner product on vector spaces\n",
    "- what is the norm induced norm by the inner product\n",
    "- examples of inner products"
   ]
  },
  {
   "cell_type": "markdown",
   "id": "a1b52c01-f3b4-4b43-baeb-f97bc73802a8",
   "metadata": {},
   "source": [
    "## From Dot product to Inner product\n",
    "\n",
    "A familiar example of an inner-product for vectors in $\\mathbb{R}^n$ is the _dot product_. For two vectors $\\vv v, \\vv w \\in \\mathbb{R}^n$, their _dot product_ is defined as\n",
    "\\begin{equation}\n",
    "\\label{dot}\n",
    "\\vv v . \\vv w = v_1 w_1 + v_2 w_2 + \\ldots + v_n w_n\n",
    "\\end{equation}\n",
    "From [](#dot), note that $\\vv v \\vv w = \\vv v^{\\top} \\vv w = \\vv w^{\\top} \\vv v$: written as a row-vector clumn-vector product.\n",
    "\n",
    "```{note}\n",
    "A key property of the dot product is that \n",
    "\\begin{equation}\n",
    "\\label{dot_prop}\n",
    "\\vv v . \\vv v = \\vv v^{\\top} \\vv v = v_1^2 + v_2^2 + \\ldots + v_n^2,\n",
    "\\end{equation}\n",
    "that is, the dot product of a vector $\\vv v$ with itself is given by the sum of the square of its entries.\n",
    "```\n",
    "\n",
    "The Pythagorean theorem extends to $n-$dimensional space and tells us that $\\vv v . \\vv v$ is the square of the length of $\\vv v$. We use this observation to define the _Eucledian norm_ (or length) $\\| \\vv v \\|$ of a vector $\\vv v$ to be\n",
    "\\begin{equation}\n",
    "\\label{euc_norm}\n",
    "\\| \\vv v \\| = \\sqrt{\\vv v^{\\top} \\vv v} = \\sqrt{v_1^2 + v_2^2 + \\ldots + v_n^2}.\n",
    "\\end{equation}\n",
    "This generalizes our idea of length from $\\mathbb{R}^2$ and $\\mathbb{R}^3$ to $\\mathbb{R}^n$.\n",
    "\n",
    ":::{figure}../figures/04-euc_norm.png\n",
    ":label:euc_norm\n",
    ":alt: Eucledian Norm\n",
    ":width: 500px\n",
    ":align: center\n",
    ":::\n",
    "\n",
    "```{note} Properties of length\n",
    "The Eucledian norm $\\| \\vv v \\|$ has the same intuitive properties of a length. For example,\n",
    "1. If $\\vv v \\neq \\vv 0$, then $\\| \\vv v\\| > 0$ (all non zero vectors have positive length)\n",
    "2. $\\| \\vv v\\| = 0$ if and only if $\\vv v = \\vv 0$ (only the zero vector has zero length)\n",
    "```\n",
    "\n",
    "The above properties follow from the more abstract definition for general vector spaces.\n",
    "\n",
    ":::{prf:definition} Inner Product\n",
    ":label: inner_defn\n",
    "An inner product on the real vector space $V$ is a pairing that takes two vectors $\\vv v, \\vv w \\in V$ and produces a real number $\\langle \\vv v, \\vv w\\rangle \\in \\mathbb{R}$. The inner product is required to satisfy the following three axioms for all $\\vv u, \\vv v, \\vv w \\in V$, and scalars $c, d \\in \\mathbb{R}$.\n",
    "1. *Bilinearity*\n",
    "\\begin{equation}\n",
    "\\label{bil}\n",
    "\\langle c \\vv u + d \\vv v, \\vv w \\rangle &= c \\langle \\vv u, \\vv w \\rangle + d \\langle \\vv v, \\vv w \\rangle, \\\\\n",
    "\\langle \\vv u, c \\vv v + d \\vv w \\rangle &= c \\langle \\vv u, \\vv v \\rangle + d \\langle \\vv u, \\vv w \\rangle.\n",
    "\\end{equation}\n",
    "2. *Symmetry*\n",
    "\\begin{equation}\n",
    "\\label{symm}\n",
    "\\langle \\vv v , \\vv w \\rangle &= \\langle \\vv w , \\vv v \\rangle. \n",
    "\\end{equation}\n",
    "3. *Positivity*\n",
    "\\begin{equation}\n",
    "\\label{pos}\n",
    "\\langle \\vv v , \\vv v \\rangle > 0 \\ \\textrm{whenever} \\ \\vv v \\neq \\vv 0, \\ \\textrm{while} \\ \\langle \\vv 0, \\vv 0 \\rangle = 0. \n",
    "\\end{equation}\n",
    "\n",
    ":::\n",
    "An inner product allows us to define notions of angle, length, and distance in a vector space. When a vector space is equipped with an inner product, we call it an _inner product space_.\n",
    "\n",
    "```{warning}\n",
    "A vector space can admit many different inner products. It is therefore necessary (and polite) to specify which inner product is being used when defining an inner product space.\n",
    "```\n",
    "\n",
    "You should verify that the _dot product_ satisfies [](#inner_defn). \n",
    "\n",
    "We can also define a norm induced by a general inner-product as $\\| \\vv v \\| = \\sqrt{\\langle \\vv v, \\vv v\\rangle}$. The positivity axiom ensures that $\\|\\vv v \\| \\geq 0$ for all $\\vv v \\in V$, and that $\\|\\vv v\\| = \\vv 0$ if and only if $\\vv v = \\vv 0$. \n",
    "```{warning}\n",
    "We are using the same norm symbol $\\| \\cdot \\|$ for many different norms. If we do not specify which norm/inner-product is being used, you should interpret this as a \"generic\" norm induced by a \"generic\" inner-product satisfying [](#inner_defn). The good news is that both behave in ways similar to the familiar inner product and Eucledian norm. \n",
    "```"
   ]
  },
  {
   "cell_type": "markdown",
   "id": "a30472b0-7c57-460c-9f0b-e210be8b9a3c",
   "metadata": {},
   "source": [
    "## TODO Examples"
   ]
  }
 ],
 "metadata": {
  "jupytext": {
   "cell_metadata_filter": "-all",
   "main_language": "python"
  },
  "kernelspec": {
   "display_name": "Python 3 (ipykernel)",
   "language": "python",
   "name": "python3"
  },
  "language_info": {
   "codemirror_mode": {
    "name": "ipython",
    "version": 3
   },
   "file_extension": ".py",
   "mimetype": "text/x-python",
   "name": "python",
   "nbconvert_exporter": "python",
   "pygments_lexer": "ipython3",
   "version": "3.8.19"
  }
 },
 "nbformat": 4,
 "nbformat_minor": 5
}
