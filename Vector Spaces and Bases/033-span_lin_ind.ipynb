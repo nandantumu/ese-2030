{
 "cells": [
  {
   "cell_type": "markdown",
   "id": "fd7554ca-5ac4-4958-b713-648e3fd54114",
   "metadata": {
    "editable": true,
    "slideshow": {
     "slide_type": ""
    },
    "tags": []
   },
   "source": [
    "---\n",
    "title: Span and Linear Independence\n",
    "subject: Vector Spaces and Bases\n",
    "subtitle: building blocks of subspaces\n",
    "short_title: Span and Linear Independence\n",
    "authors:\n",
    "  - name: Nikolai Matni\n",
    "    affiliations:\n",
    "      - Dept. of Electrical and Systems Engineering\n",
    "      - University of Pennsylvania\n",
    "    email: nmatni@seas.upenn.edu\n",
    "license: CC-BY-4.0\n",
    "keywords: linear combination, span, linear independence, dependence, linear systems\n",
    "math:\n",
    "  '\\vv': '\\mathbf{#1}'\n",
    "  '\\bm': '\\begin{bmatrix}'\n",
    "  '\\em': '\\end{bmatrix}'\n",
    "  '\\R': '\\mathbb{R}'\n",
    "---"
   ]
  },
  {
   "cell_type": "markdown",
   "id": "a46f522d-2995-412b-92cf-9ff085526b18",
   "metadata": {},
   "source": [
    "## Reading\n",
    "\n",
    "Material related to this page, as well as additional exercises, can be found in ALA Ch. 2.3 and LAA 4.1."
   ]
  },
  {
   "cell_type": "markdown",
   "id": "d276bcc3-237d-4cda-8bf0-39285b0a09f3",
   "metadata": {},
   "source": [
    "## Learning Objectives\n",
    "\n",
    "By the end of this page, you should know:\n",
    "- what are linear combination of vectors\n",
    "- what is a _span_ of a set of vectors\n",
    "- what is linear dependence (and independence)\n",
    "- how to check linear dependence"
   ]
  },
  {
   "cell_type": "markdown",
   "id": "170438e7",
   "metadata": {},
   "source": [
    "## Spanning a subspace\n",
    "\n",
    "One natural way of constructing a subspace is using some fundamental vectors in the subspace and takng all possible linear combinations of them.\n",
    "\n",
    "```{prf:definition} Linear Combination and Span\n",
    ":label:ln_comb\n",
    "Let $\\vv v_1 , \\ldots, \\vv v_k$ be elements of a vector space $V$. A sum of the form\n",
    "\\begin{equation}\n",
    "\\label{lin_comb_eqn}\n",
    "c_1 \\vv v_1 + c_2 \\vv v_2 + \\ldots + c_k \\vv v_k = \\sum_{i=1}^k c_i \\vv v_i,\n",
    "\\end{equation}\n",
    "where the coeﬃcients $c_1 , c_2 ,\\ldots , c_k$ are any scalars, is known as a _linear combination_ of the elements $\\vv v_1 , \\ldots, \\vv v_k$. Their _span_ is the subset\n",
    "\\begin{equation}\n",
    "\\label{span_eqn}\n",
    "W =\\textrm{span}\\{\\vv v_1 , \\ldots, \\vv v_k\\} \\subset V\n",
    "\\end{equation}\n",
    "consisting of all possible linear combinations with scalars $c_1 , c_2 ,\\ldots , c_k \\in \\mathbb{R}$.\n",
    "```\n",
    "\n",
    ":::{figure}../figures/03-span.png\n",
    ":label: span_fig\n",
    ":alt: Span\n",
    ":width: 500px\n",
    ":align: center\n",
    ":::\n",
    "\n",
    "A plane and a line spanned by two vectors $\\vv v_1, \\vv v_2$ is given in [](#span_fig). In the case of the line, there is some scalar $c \\in \\mathbb{R}$ such that $\\vv v_1 = c \\vv v_2$. \n",
    "\n",
    "```{important}\n",
    "The span $W =\\textrm{span}\\{\\vv v_1 , \\ldots, \\vv v_k\\}$ of any finite collection of vector space elements $\\vv v_1 , \\ldots, \\vv v_k \\in V$ is a [subspace](./03-subspaces#sub_def) of $V$.\n",
    "```"
   ]
  },
  {
   "cell_type": "markdown",
   "id": "af7f5403-8949-4fd6-92ed-30b6de0894b5",
   "metadata": {},
   "source": [
    ":::{prf:example}\n",
    ":label:R3_ex1_span\n",
    "\n",
    "Let $\\vv v_1, \\vv v_2 \\in \\mathbb{R}^3$.\n",
    "1. If $\\vv v_1$ and $\\vv v_2 $ are not parallel, they define a plane composed of vectors of the form $c \\vv v_1 + d \\vv v_2$.\n",
    "2.  If $\\vv v_1$ and $\\vv v_2 $ are parallel, they define a line composed of vectors of the form $c \\vv v_1$.\n",
    "\n",
    "See [](#span_fig) for both the above cases.\n",
    ":::"
   ]
  },
  {
   "cell_type": "markdown",
   "id": "e26bdb53-3bb2-4dd6-94e3-b17d4b294785",
   "metadata": {
    "editable": true,
    "slideshow": {
     "slide_type": ""
    },
    "tags": []
   },
   "source": [
    ":::{exercise}\n",
    ":label:span_ex2\n",
    "\n",
    "Let $W = \\textrm{span}\\{\\vv v_1, \\vv v_2\\} \\subset \\mathbb{R}^3$, where \n",
    "\\begin{equation}\n",
    "\\label{span_ex2_eqn}\n",
    "\\vv v_1 = \\bm 1 \\\\ 2 \\\\ 1 \\em, \\ \\vv v_2 = \\bm -2 \\\\ -3 \\\\ 5 \\em.\n",
    "\\end{equation}\n",
    "Is the vector $\\vv v = \\bm 1 \\\\ 3 \\\\ 8 \\em$ an element of $W$?\n",
    "\n",
    "```{solution} span_ex2\n",
    ":class: dropdown\n",
    "If $\\vv v \\in W$, then we can find scalars $c_1, c_2 \\in \\mathbb{R}$ such that $\\vv v = c_1 \\vv v_1 + c_2 \\vv v_2$, that is,\n",
    "\\begin{equation}\n",
    "\\label{span_ex2_soln}\n",
    "\\bm 1 \\\\ 3 \\\\ 8 \\em = c_1\\bm 1 \\\\ 2 \\\\ 1 \\em + c_2\\bm -2 \\\\ -3 \\\\ 5 \\em = \\bm c_1 - 2c_2 \\\\ 2c_1 - 3 c_2 \\\\ c_1 + 5c_2 \\em,\n",
    "\\end{equation}\n",
    "that is, $(c_1, c_2)$ should satisfy the linear system\n",
    "\\begin{equation}\n",
    "\\label{span_ex2_soln_sys}\n",
    "c_1 - 2c_2 &= 1, \\\\\n",
    "2c_1 - 3c_2 &= 3, \\\\\n",
    "c_1 + 5c_2 &= 8.\n",
    "\\end{equation}\n",
    "Solving [](#span_ex2_soln_sys) using Gaussian elimination, we get $c_1 = 3, c_2 = 1$. However, $\\vv v = \\bm 1 \\\\ 3 \\\\ 2 \\em \\notin W$, since the corresponding system of equations will have no solution. \n",
    "```\n",
    ":::"
   ]
  },
  {
   "cell_type": "markdown",
   "id": "074b4c99-6806-4d0c-b595-f0ae8f9ea783",
   "metadata": {},
   "source": [
    "## Linear Independence and Dependence\n",
    "\n",
    "_Linear dependence_ captures a notion of \"redundancy\" in a collection of vectors. \n",
    "\n",
    "```{prf:definition} Linear dependency\n",
    ":label:lin_dep\n",
    "The vector space elements $\\vv v_1 , \\ldots , \\vv v_k \\in V$ are called _linearly dependent_ if there exist scalars $c_1 , \\ldots , c_k$, not all zero, such that\n",
    "\\begin{equation}\n",
    "\\label{lin_dep_eqn}\n",
    "c_1 \\vv v_1 + \\ldots + c_k \\vv  v_k = \\vv 0.\n",
    "\\end{equation}\n",
    "Elements that are not linearly dependent are called _linearly independent_.\n",
    "```\n",
    "\n",
    "The condition [](#lin_dep_eqn) implies that we can write each of the $\\vv v_i$ as a linear combination of the other vectors. Hence, it does not add anything new to the span of the collection $\\vv v_1 , \\ldots , \\vv v_k$."
   ]
  },
  {
   "cell_type": "markdown",
   "id": "56f437fe-db8f-4017-adae-ce687c78e7c9",
   "metadata": {},
   "source": [
    ":::{prf:example}\n",
    ":label:ex_e_dep\n",
    "\n",
    "The vectors\n",
    "\\begin{equation}\n",
    "\\label{ex_e_eqn}\n",
    "\\vv e_1 = \\bm 1 \\\\ 0 \\\\ 0\\em,\n",
    "\\vv e_2 = \\bm 0 \\\\ 1 \\\\ 0\\em,\n",
    "\\vv e_3 = \\bm 0 \\\\ 0 \\\\ 1\\em\n",
    "\\end{equation}\n",
    "are linearly dependent because the only way \n",
    "$$\n",
    "c_1 \\vv e_1 + c_2 \\vv e_2 + c_3 \\vv e_3 = \\bm c_1 \\\\ c_2 \\\\ c_3 \\em = \\vv 0\n",
    "$$\n",
    "can be satisfied is if $c_1 = c_2 = c_3 = 0$.\n",
    ":::\n",
    "\n",
    ":::{prf:example}\n",
    ":label:ex_v_dep\n",
    "\n",
    "For any vector $\\vv v = \\bm v_1 \\\\ v_2 \\\\ v_3 \\em \\in \\mathbb{R}^3$, the collection of vectors $\\{\\vv e_1, \\vv e_2, \\vv e_3, \\vv v\\}$ are linearly dependent because\n",
    "\\begin{equation}\n",
    "\\label{ex_v_eqn}\n",
    "\\vv v = v_1 \\bm 1 \\\\ 0 \\\\ 0\\em + v_2 \\bm 0 \\\\ 1 \\\\ 0\\em + v_3 \\bm 0 \\\\ 0 \\\\ 1\\em = v_1 \\vv e_1 + v_2 \\vv e_2 + v_3 \\vv e_3.\n",
    "\\end{equation}\n",
    ":::"
   ]
  },
  {
   "cell_type": "markdown",
   "id": "b51a81e6-553c-46d7-b0f8-7e32475c1212",
   "metadata": {},
   "source": [
    "## Checking linear independence in $\\mathbb{R}^n$\n",
    "\n",
    "Given the task of checking whether $\\vv v_1 , \\ldots , \\vv v_k \\in \\mathbb{R}^n$ is linearly dependent, we start by constructing the $n \\times k$ matrix $A = \\bm \\vv v_1 & \\ldots & \\vv v_k \\em$ with columns defined by $\\vv v_i$. Using matrix-vector multiplication, we interpret [](#lin_dep_eqn) as \n",
    "\\begin{equation}\n",
    "\\label{mat_vec_dep}\n",
    "A \\vv c =  c_1 \\vv v_1 + \\ldots + c_k \\vv  v_k, \\ \\textrm{where} \\ \\vv c = \\bm c_1 \\\\ c_2 \\\\ \\vdots \\\\ c_k \\em\n",
    "\\end{equation}\n",
    "The above equation helps us relate linear algebraic systems with the geometry of the span of vectors.\n",
    "\n",
    "```{prf:theorem}\n",
    ":label: lin_dep_thm\n",
    "Let $\\vv v_1 , \\ldots , \\vv v_k \\in \\mathbb{R}^n$ and $A = \\bm \\vv v_1 & \\ldots & \\vv v_k \\em \\in \\mathbb{R}^{n \\times k}$. Then\n",
    "1. The $\\vv v_1 , \\ldots , \\vv v_k \\in \\mathbb{R}^n$ are linearly dependent if and only if there is a non-zero solution $\\vv c = \\vv 0$ to the linear system $A \\vv c = 0$.\n",
    "2. The vectors are linearly independent if and only if the only solution to the system $A \\vv c = 0$ is the trivial one, $\\vv c = \\vv 0$.\n",
    "3. A vector $\\vv b$ lies in the span of $\\vv v_1 , \\ldots , \\vv v_k$ if and only if the linear system $ A \\vv c = \\vv b$ is compatible, i.e., has at least one solution.\n",
    ":::{prf:proof} Proof of [](#lin_dep_thm)\n",
    ":label: proof-lin_dep_thm\n",
    ":class: dropdown\n",
    "We prove the ﬁrst statement, leaving the other two as exercises for you. The condition that $\\vv v_1 , \\ldots , \\vv v_k$  be linearly dependent is that there exists a nonzero vector\n",
    "\\begin{equation}\n",
    "\\vv c = \\bm c_1 \\\\ c_2 \\\\ \\vdots \\\\ c_k \\em \\neq \\vv 0 \\ \\textrm{such that} \\ \n",
    "A \\vv c = c_1 \\vv v_1 + \\ldots + c_k \\vv v_k = \\vv 0.\n",
    "\\end{equation}\n",
    "Therefore, linear dependence requires the existence of a nontrivial solution to the linear system $A \\vv c = \\vv 0$.\n",
    ":::\n",
    "```\n",
    "\n",
    "```{note} Observations from [](#lin_dep_thm)\n",
    "1. Any collection of $k > n$ vectors in $\\mathbb{R}^n$ is linearly dependent because we have more variables (columns) than equations (rows). Hence, we must have at least one [free variable](./026-linsys-general#free_basic_defn).\n",
    "2. A collection of $k$ vectors in $\\mathbb{R}^n$ is linearly independent if and only if the equation $A \\vv c = \\vv 0$ has no free variables, that is, [rank](./026-linsys-general#rank_defn)($A$) = number of pivots = $k$. This requires $k \\leq n$. \n",
    "3. A collection of $k$ vectors span $\\mathbb{R}^n$ if and only if the corresponding $n \\times k$ matrix has rank $n$. This requires $k \\geq n$.\n",
    "```"
   ]
  }
 ],
 "metadata": {
  "jupytext": {
   "cell_metadata_filter": "-all",
   "main_language": "python"
  },
  "kernelspec": {
   "display_name": "Python 3 (ipykernel)",
   "language": "python",
   "name": "python3"
  },
  "language_info": {
   "codemirror_mode": {
    "name": "ipython",
    "version": 3
   },
   "file_extension": ".py",
   "mimetype": "text/x-python",
   "name": "python",
   "nbconvert_exporter": "python",
   "pygments_lexer": "ipython3",
   "version": "3.8.19"
  }
 },
 "nbformat": 4,
 "nbformat_minor": 5
}
