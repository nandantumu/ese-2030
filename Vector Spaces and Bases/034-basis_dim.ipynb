{
 "cells": [
  {
   "cell_type": "markdown",
   "id": "fd7554ca-5ac4-4958-b713-648e3fd54114",
   "metadata": {
    "editable": true,
    "slideshow": {
     "slide_type": ""
    },
    "tags": []
   },
   "source": [
    "---\n",
    "title: Basis and Dimension\n",
    "subject: Vector Spaces and Bases\n",
    "subtitle: Distinct elements of a space\n",
    "short_title: Basis and Dimension\n",
    "authors:\n",
    "  - name: Nikolai Matni\n",
    "    affiliations:\n",
    "      - Dept. of Electrical and Systems Engineering\n",
    "      - University of Pennsylvania\n",
    "    email: nmatni@seas.upenn.edu\n",
    "license: CC-BY-4.0\n",
    "keywords: subspaces, closure\n",
    "math:\n",
    "  '\\vv': '\\mathbf{#1}'\n",
    "  '\\bm': '\\begin{bmatrix}'\n",
    "  '\\em': '\\end{bmatrix}'\n",
    "  '\\R': '\\mathbb{R}'\n",
    "---"
   ]
  },
  {
   "cell_type": "markdown",
   "id": "a46f522d-2995-412b-92cf-9ff085526b18",
   "metadata": {},
   "source": [
    "## Reading\n",
    "\n",
    "Material related to this page, as well as additional exercises, can be found in ALA Ch. 2.4 and LAA 4.3-4.5."
   ]
  },
  {
   "cell_type": "markdown",
   "id": "d276bcc3-237d-4cda-8bf0-39285b0a09f3",
   "metadata": {},
   "source": [
    "## Learning Objectives\n",
    "\n",
    "By the end of this page, you should know:\n",
    "- what is a basis\n",
    "- what is a dimension\n",
    "- coordinate system for generic vector spaces"
   ]
  },
  {
   "cell_type": "markdown",
   "id": "95553d95-0888-448b-a55f-3147b14b90c4",
   "metadata": {},
   "source": [
    "## Basis\n",
    "\n",
    "In this section, we will show that any $n$ _dimensional_ vector space looks like and \"behaves\" the same as $\\mathbb{R}^n$. \n",
    "\n",
    "```{prf:definition} Basis\n",
    ":label: basis_defn\n",
    "A basis of a vector space $V$ is a ﬁnite collection of elements $\\vv v_1 ,\\ldots, \\vv v_n \\in\n",
    "V$ that\n",
    "1. [spans](./033-span_lin_dep#ln_comb) $V$, and \n",
    "2. is [linearly independent](./033-span_lin_dep#lin_dep).\n",
    "```\n",
    "\n",
    "A basis is the smallest collection of vectors that allows us to express any vector $\\vv v \\in V$ as a linear combination of the basis vectors.\n",
    "\n",
    ":::{prf:example}\n",
    ":label:basis_eg\n",
    "\n",
    "The _standard basis of $\\mathbb{R}^n$ consists of the $n$ vectors\n",
    "\\begin{equation}\n",
    "\\label{stand_basis}\n",
    "\\vv e_1 = \\bm 1 \\\\ 0 \\\\ 0 \\\\ \\vdots \\\\ 0\\em,\n",
    "\\vv e_2 = \\bm 0 \\\\ 1 \\\\ 0 \\\\ \\vdots \\\\ 0\\em, \\ldots, \n",
    "\\vv e_n = \\bm 0 \\\\ 0 \\\\ \\vdots \\\\ 0 \\\\ 1\\em\n",
    "\\end{equation}\n",
    "The vectors in [](#stand_basis) span $\\mathbb{R}^n$: $\\vv x = x_1 \\vv e_1 + x_2 \\vv e_2 + \\ldots + x_n \\vv e_n$, and are linearly independent. \n",
    "\n",
    "```{note}\n",
    "Any basis of $\\mathbb{R}^n$ consists of exactly $n$ vectors.\n",
    "```\n",
    ":::\n",
    "\n",
    ":::{prf:example}\n",
    ":label:basis_eg_2\n",
    "\n",
    "The set $S = \\{1, x, x^2, \\ldots, x^n\\}$ is a basis for [$P^{(n)}$](031-vector_spaces#poly_ex5): the space of polynomials of degree $\\leq n$. This is called the _standard basis for $P^{(n)}$_.\n",
    "\n",
    "```{note}\n",
    "$P^{(n)}$ can have upto $n+1$ terms ($a_0, a_1, \\ldots ,a_n$), and the basis $S$ also has $n+1$ terms.\n",
    "```\n",
    ":::\n",
    "\n",
    "```{important}\n",
    "Suppose a vector space $V$ has a basis composed of $n$ elements $\\vv v_1 ,\\ldots, \\vv v_n$. Then, any other basis for $V$ also has the same number of elements $n$ in it. This number is called the _dimension_ of $V$, written as dim$(V) = n$. \n",
    "```\n",
    "\n",
    ":::{prf:example}\n",
    ":label:dim_eg\n",
    "\n",
    "Both $\\mathbb{R}^n$ and $P^{(n-1)}$ have dimension $n$. dim$(P^{(n)})=n+1$ because of the constant term $a_0$ in $p(x) = a_0 + a_1x + \\ldots + a_nx^n$.\n",
    ":::"
   ]
  },
  {
   "cell_type": "markdown",
   "id": "164f0b5b-29a4-4499-8cf9-f1b676e685d5",
   "metadata": {},
   "source": [
    "## Coordinate system\n",
    "\n",
    "In this section, we will discuss how to impose a \"coordinate system\" on a vector space $V$. If dim$(V) = n$, that is, if the basis has $n$ elements, then the coordinate system makes $V$ behave exactly like $\\mathbb{R}^n$. \n",
    "\n",
    "```{prf:theorem}\n",
    ":label:thm_coord\n",
    "Let $\\vv v_1 ,\\ldots, \\vv v_n$ be a basis for a vector space $V$. Then, for each $\\vv v \\in V$, there exists a **unique** set of coefficients $c_1, \\ldots, c_n$ such that\n",
    "\\begin{equation}\n",
    "\\label{thm_coord_eqn}\n",
    "\\vv v = c_1 \\vv v_1 + c_2 \\vv v_2 + \\ldots + c_n \\vv v_n\n",
    "\\end{equation}\n",
    ":::{prf:proof} Proof of [](#thm_coord)\n",
    ":label: proof-thm_coord\n",
    ":class: dropdown\n",
    "Since $\\vv v_1 ,\\ldots, \\vv v_n$ is a basis for $V$, there exists at least one set of coefficients such that [](#thm_coord_eqn) holds. Suppose $\\vv v$ also has the representation\n",
    "\\begin{equation}\n",
    "\\label{proof_coord_eqn}\n",
    "\\vv v = d_1 \\vv v_1 + d_2 \\vv v_2 + \\ldots + d_n \\vv v_n,\n",
    "\\end{equation}\n",
    "then,\n",
    "\\begin{equation}\n",
    "\\label{proof_coord_eqn_1}\n",
    "\\vv 0 = \\vv v - \\vv v = (d_1 - c_1)\\vv v_1 + (d_2 - c_2)\\vv v_2 + \\ldots + (d_n - c_n)\\vv v_n.\n",
    "\\end{equation}\n",
    "However, since $\\vv v_1 ,\\ldots, \\vv v_n$ forms a basis, they are linearly dependent, meaning [](#proof_coord_eqn) is only satisfied for $d_i - c_i = 0 \\Leftrightarrow d_i = c_i$ for $ = 1, 2, \\ldots, n$.\n",
    ":::\n",
    "```\n",
    "\n",
    "```{important}\n",
    "For a given basis $B = \\{\\vv v_1 ,\\ldots, \\vv v_n\\}$ of a vector space $V$, we can therefore define the vector $\\vv c \\in \\mathbb{R}^n$ as the _coordinates_ of $\\vv x \\in V$ relative to $B$ by using $\\vv c$ as the weights in the representation\n",
    "\\begin{equation}\n",
    "\\label{coord_def}\n",
    "\\vv x = c_1 \\vv v_1 + c_2 \\vv v_2 + \\ldots + c_n \\vv v_n, \\ \\vv c = \\bm c_1 \\\\ c_2 \\\\ \\vdots \\\\ c_n\\em.\n",
    "\\end{equation}\n",
    "```"
   ]
  }
 ],
 "metadata": {
  "jupytext": {
   "cell_metadata_filter": "-all",
   "main_language": "python"
  },
  "kernelspec": {
   "display_name": "Python 3 (ipykernel)",
   "language": "python",
   "name": "python3"
  },
  "language_info": {
   "codemirror_mode": {
    "name": "ipython",
    "version": 3
   },
   "file_extension": ".py",
   "mimetype": "text/x-python",
   "name": "python",
   "nbconvert_exporter": "python",
   "pygments_lexer": "ipython3",
   "version": "3.8.19"
  }
 },
 "nbformat": 4,
 "nbformat_minor": 5
}
