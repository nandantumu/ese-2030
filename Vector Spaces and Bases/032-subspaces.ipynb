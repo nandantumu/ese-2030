{
 "cells": [
  {
   "cell_type": "markdown",
   "id": "fd7554ca-5ac4-4958-b713-648e3fd54114",
   "metadata": {
    "editable": true,
    "slideshow": {
     "slide_type": ""
    },
    "tags": []
   },
   "source": [
    "---\n",
    "title: Subspaces\n",
    "subject: Vector Spaces and Bases\n",
    "subtitle: spaces inside a vector space\n",
    "short_title: Subspaces\n",
    "authors:\n",
    "  - name: Nikolai Matni\n",
    "    affiliations:\n",
    "      - Dept. of Electrical and Systems Engineering\n",
    "      - University of Pennsylvania\n",
    "    email: nmatni@seas.upenn.edu\n",
    "license: CC-BY-4.0\n",
    "keywords: subspaces, closure\n",
    "math:\n",
    "  '\\vv': '\\mathbf{#1}'\n",
    "  '\\bm': '\\begin{bmatrix}'\n",
    "  '\\em': '\\end{bmatrix}'\n",
    "  '\\R': '\\mathbb{R}'\n",
    "---"
   ]
  },
  {
   "cell_type": "markdown",
   "id": "a46f522d-2995-412b-92cf-9ff085526b18",
   "metadata": {},
   "source": [
    "## Reading\n",
    "\n",
    "Material related to this page, as well as additional exercises, can be found in ALA Ch. 2.2 and LAA 4.1."
   ]
  },
  {
   "cell_type": "markdown",
   "id": "d276bcc3-237d-4cda-8bf0-39285b0a09f3",
   "metadata": {},
   "source": [
    "## Learning Objectives\n",
    "\n",
    "By the end of this page, you should know:\n",
    "- what are subspaces\n",
    "- closure under addition and scalar multiplication\n",
    "- examples of subspaces and subsets that are not subspaces"
   ]
  },
  {
   "cell_type": "markdown",
   "id": "170438e7",
   "metadata": {},
   "source": [
    "## Defining subspaces\n",
    "\n",
    "An appropriate subset of vectors from a larger vector space arise a lot in real life applications and analysing such a smaller set will be useful for us. Such space of vectors living \"inside\" another vector spaces are called subspaces.\n",
    "\n",
    "```{prf:definition} Subspace\n",
    ":label:sub_def\n",
    "A subspace of a vector space $V$ is a subset $W \\subset V$ that is a vector space in its own right — under the same operations of vector addition and scalar multiplication, and the same zero element.\n",
    "```\n",
    "\n",
    "One simple way to check if a subset $W \\subset V$ of a vector space $V$ is a subsapce:\n",
    "1. $W$ needs to be non-empty\n",
    "2. $W$ should satisfy\n",
    "   \\begin{equation}\n",
    "   \\label{closure_eqn}\n",
    "   c \\vv v + d \\vv w \\in W,\n",
    "   \\end{equation}\n",
    "   for any vectors $\\vv v, \\vv w \\in W$ and any scalar $c, d \\in \\mathbb{R}$. Subspaces are said to be _closed under addition and scalar multiplication_ because they satisfy [](#closure_eqn)."
   ]
  },
  {
   "cell_type": "markdown",
   "id": "af7f5403-8949-4fd6-92ed-30b6de0894b5",
   "metadata": {},
   "source": [
    ":::{prf:example} Subspaces in $\\mathbb{R}^3$\n",
    ":label:R3_ex1\n",
    "\n",
    "1. The trivial subspace $W = \\{\\vv 0\\}$ that contains only the $\\vv 0$ vector. We can check that $c \\vv 0 + d \\vv 0 = \\vv 0 \\in W$ for any scalar $c, d \\in \\mathbb{R}$. This subspace $W$ is commonly referred to as a _point_ at zero.\n",
    "2. The entire space $\\mathbb{R}^3$: clearly $c \\vv v + d \\vv w \\in \\mathbb{R}^3$ for any vectors $\\vv v, \\vv w \\in \\mathbb{R}^3$ and any scalar $c, d \\in \\mathbb{R}$.\n",
    "3. The set of all vectors of the form $\\bm v \\\\ 2v \\\\ 3v \\em$. We pick two vectors $\\vv v = \\bm v \\\\ 2v \\\\ 3v \\em, \\vv w = \\bm w \\\\ 2w \\\\ 3w \\em$ and two scalars $c d \\in \\mathbb{R}$. Then,\n",
    "   $$\n",
    "   c \\vv v + d \\vv w = \\bm cv+dw \\\\ 2cv + 2dw \\\\ 3cv + 3dw \\em = \\bm cv+dw \\\\ 2(cv + dw) \\\\ 3(cv + dw) \\em = \\bm x \\\\ 2x \\\\ 3x \\em, \\ x = cv+dw \n",
    "   $$\n",
    "   is also in our set. This subspace is a _line_ parallel to $\\bm 1 \\\\ 2 \\\\ 3\\em$ (stretched or shrunk by $v$).\n",
    "4.  The set of all vectors of the form $\\bm x \\\\ y \\\\ 0 \\em$. We pick two vectors $\\vv v = \\bm x \\\\ y \\\\ 0 \\em, \\vv w = \\bm \\hat{x} \\\\ \\hat{y} \\\\ 0 \\em$ and two scalars $c d \\in \\mathbb{R}$. Then,\n",
    "   $$\n",
    "   c \\vv v + d \\vv w = \\bm cx+d\\hat{x} \\\\ cy + d\\hat{y} \\\\ 0 \\em = \\bm \\tilde{x} \\\\ \\tilde{y} \\\\ 0 \\em, \\ \\tilde{x} = cx+d\\hat{x}, \\tilde{y} = cy + d\\hat{y} \n",
    "   $$\n",
    "   is also in our set. This subspace the _xy-plane_.\n",
    "\n",
    "In general, subspaces of $\\mathbb{R}^3$ are one of the above four types: a _point_, a _line_, a _plane_, or all of $\\mathbb{R}^3$.\n",
    "\n",
    "```{warning}\n",
    "Lines and planes not passing through the origin are **not** subspaces. Any subspace of $\\mathbb{R}^3$ should go through the origin.\n",
    "```\n",
    ":::"
   ]
  },
  {
   "cell_type": "markdown",
   "id": "e26bdb53-3bb2-4dd6-94e3-b17d4b294785",
   "metadata": {
    "editable": true,
    "slideshow": {
     "slide_type": ""
    },
    "tags": []
   },
   "source": [
    ":::{prf:example} Subsets of $\\mathbb{R}^3$ that are **not** subspaces\n",
    ":label:R3_ex2\n",
    "\n",
    "1. The set of all vectors of the form $\\bm x \\\\ y \\\\ 1 \\em$, because $\\vv 0$ is not in this set.\n",
    "2. The non-negative orthant $\\theta^{+} = \\{x \\geq 0, y \\geq 0, z \\geq 0\\}$. For any $\\vv x \\in \\theta^{+}, -\\vv x \\notin \\theta^{+}$. Hence, $\\theta^{+}$ is not closed under scalar multiplication.\n",
    "3. The unit sphere $\\mathcal{S}^2 = \\{x^2 + y^2 + z^2 = 1\\}$ because $\\vv 0 \\notin \\mathcal{S}^2$. In general, curved surfaces like the paraboloid ${P = \\{z = x^2 + y^2\\}}$ are not subspaces. Think about connecting two points by a straight line and relate to the closure property. \n",
    ":::"
   ]
  },
  {
   "cell_type": "markdown",
   "id": "fed8844c-73fe-4b07-b153-ddd09659c72c",
   "metadata": {},
   "source": [
    "::::{prf:example}Sampled functions over an interval\n",
    ":label:fns_ex3\n",
    "\n",
    "In digital signal processing and applications such as communication, we work with sampled versions of the functions $f(t)$ over the time interval $[0, 1]$ so that we can store them on a computer. This is obtained by sampling $f(t)$ at times $\\{0, \\tau, 2\\tau, \\ldots, T\\tau = 1\\}$, where $\\tau$ is the sampling period, $\\frac{1}{\\tau} = T$ is the number of samples taken over $[0, 1]$. This gives a [vector](#Rn_ex1) of size $T+1$:\n",
    "$$\n",
    "\\vv f = \\bm f(0) \\\\ f(\\tau) \\\\ f(2\\tau) \\\\ \\vdots \\\\ f(T\\tau) \\em.\n",
    "$$\n",
    " \n",
    ":::{figure}../figures/03-function_sampled.jpg\n",
    ":alt: Sampled function\n",
    ":width: 300px\n",
    ":align: center\n",
    ":::\n",
    "\n",
    "Hence, adding sampled functions $f(t)$ and $g(t)$, and scaling functions $f(t)$ follow the same operations as given in [](#Rn_ex1) for the corresponding vectors $\\vv f$ and $\\vv g$. Sampling the zero function $z(t) = 0$ gives the usual $\\vv 0$ vector. \n",
    "\n",
    "```{note}\n",
    "In summary, the space of functions sampled at the **same $T+1$ time points** over an interval is $\\mathbb{R}^{T \\times 1}$.\n",
    "```\n",
    "::::"
   ]
  },
  {
   "cell_type": "markdown",
   "id": "5c276074-315d-409e-a636-d88d8a208e44",
   "metadata": {},
   "source": [
    ":::{prf:example}Doubly infinite sequences of numbers $\\mathbb{S}$\n",
    ":label:inf_seq_ex4\n",
    "\n",
    "Let $\\mathbb{S}$ be the space of all _doubly infinite sequences of numbers_:\n",
    "\\begin{equaiton}\n",
    "\\label{ex4_eqn}\n",
    "\\{y_k\\} := \\{\\ldots, y_{-2}, y_{-1}, y_0, y_1, y_2, \\ldots\\}.\n",
    "end{equation}\n",
    "The sequences [](#ex4_eqn) can be interpreted as a signal sampled over an undefined interval, which appears in areas such as control theory, signal processing, biology, optics. \n",
    "```{note}\n",
    "$\\mathbb{S}$ is also known as the _space of discrete time signals_.\n",
    "```\n",
    "We define\n",
    "1. addition as $\\{y_k\\} + \\{z_k\\} = \\{y_k + z_k\\}$ (element-wise), and\n",
    "2. scalar multiplication as $c\\{y_k\\} = \\{cy_k\\}$ (scale each entry).\n",
    "\n",
    "```{note} Not finite\n",
    "Each each vector $\\{y_k\\} \\in \\mathbb{S}$ has infinitely many elements, unlike our previous examples. Nevertheless, we can still think of $\\{y_k\\}$ as an \"arrow\" that adds and scales according to [](#vec_add_scale).\n",
    "```\n",
    ":::\n"
   ]
  },
  {
   "cell_type": "markdown",
   "id": "7c9d85a0-a4be-4d75-abbc-9feca6236838",
   "metadata": {},
   "source": [
    ":::{prf:example}Real Polynomials of degree $\\leq n$ $P^{(n)}$\n",
    ":label:poly_ex5\n",
    "\n",
    "Consider the space\n",
    "\n",
    "\\begin{equation}\n",
    "\\label{eqn_ex5}\n",
    "P^{(n)} = \\{p(x) = a_nx^n + a_{n-1}x^{n-1} + \\ldots + a_1x +  a_0\\}\n",
    "\\end{equation}\n",
    "consisting of all real polynomials of degree $\\leq n$. The polynomial coefficients $a_n, a_{n-1}, \\ldots, a_1, a_0$ can be any real numbers. For example, $P^{(1)} = \\{p(x) = a_1x + a_0\\}$ is the set of all linear polynomials, since given any linear equation $q(x) = mx + b$, setting $a_1 = m$ and $a_0 = b$ shows that $q(x) \\in P^{(1)}$. The vector space operations are defined as below.\n",
    "1. Addition:\n",
    "   \\begin{equation}\n",
    "   \\label{poly_add}\n",
    "   p(x) &= a_nx^n + a_{n-1}x^{n-1} + \\ldots + a_1x +  a_0, \\\\ q(x) &= b_nx^n + b_{n-1}x^{n-1} + \\ldots + b_1x +  b_0, \\\\\n",
    "   p(x) + q(x) &= (a_n+b_n)x^n + (a_{n-1}+b_{n-1})x^{n-1} + \\ldots + (a_{1}+b_{1})x +  (a_0+b_0), \\\\\n",
    "   p(x) + q(x) &= d_nx^n + d_{n-1}x^{n-1} + \\ldots + d_{1}x +  d_0, \\\\ d_i &= a_i + b_i\n",
    "   \\end{equation}\n",
    "2. Scalar multiplication:\n",
    "   \\begin{equation}\n",
    "   \\label{poly_scalec}\n",
    "   cp(x) &= ca_nx^n + ca_{n-1}x^{n-1} + \\ldots + ca_1x +  ca_0, \\\\\n",
    "   cp(x) &= \\tilde{a}_{n} x^n + \\tilde{a}_{n-1} x^{n-1} + \\ldots + \\tilde{a}_1 x + \\tilde{a}_0, \\\\\n",
    "   \\tilde{a}_i &= ca_i\n",
    "   \\end{equation}\n",
    "\n",
    "```{note}\n",
    "Addition and scaling of polynomials is very similar to how we did for ordinary vectors. This is not a coincidence at all! We will see why later! \n",
    "```\n",
    "\n",
    "Zero polynomial satisfies $a_n = a_{n-1} = \\ldots = a_1 = a_0 = 0$. Vectors in $P^{(n)}$ are _polynomial functions_ and you should think of them as \"arrows\", similar to ordinary vectors, living in the space of polynomials. \n",
    "\n",
    "```{warning} $n-$degree polynomials\n",
    "The space of $n-$degree polynomials is **not** a vector space. For example, consider $p(x) = x^2 + 1$ and $q(x) = -x^2 + x$, both of degree $2$, but $p(x) + q(x) = x + 1$ that has degree 1! Hence, $P^{(n)}$ is defined as polynomials of degree $\\leq n$ so that we do not go out of the space when we add elements.\n",
    "```\n",
    "\n",
    "```{warning}\n",
    "A scalar $c \\in \\mathbb{R}$ and the constant polynomial $a_0 \\in P^{(n)}$ are different objects, even though they look similar! You should think of $a_0$ as an \"arrow\" in $P^{(n)}$ and not a scalar. \n",
    "```\n",
    "\n",
    ":::\n"
   ]
  },
  {
   "cell_type": "markdown",
   "id": "e1f65f6b-f37e-4636-9c8a-ae463b8aee23",
   "metadata": {},
   "source": [
    ":::{prf:example}Real valued functions over an interval $\\mathcal{F}(I)$\n",
    ":label:func_ex6\n",
    "\n",
    "Let $I \\subset \\mathbb{R}$ be an interval (a common choice is $[0, 1]$, the closed interval from $0$ to $1$). The _function space_ $\\mathcal{F}(I)$ is defined as a vector space whose elements are all real-valued function $f(x)$ defined for all $x \\in I$. The operations are\n",
    "\n",
    "1. Addition in the usual way $(f+g)(x) = f(x) + g(x)$ for all $x \\in I$\n",
    "2. Scalar multiplication $(cf)(x) = c f(x)$\n",
    "\n",
    "```{note}\n",
    "$(f+g)$ denotes the new function obtained by adding $f$ and $g$. We define the value of $f+g$ at $x \\in I$ by $(f+g)(x) = f(x) + g(x)$. The vector elements here are $f+g, f, g$, while the variable $x$ is not related to the vector space. The variable $x$ is used only to define how $f+g$ is computed from $f$ and $g$. A useful trick is to not write out the argument $x$ when performing vector space operations.   \n",
    "```\n",
    "\n",
    "#### Example\n",
    "\n",
    "Let $f(x) = 1  +\\sin(2x)$ and $g(x) = 2 + 0.5x$ and set $I = [0, 1]$. Then, $f, g \\in \\mathcal{F}(I)$. To compute $f+g$,\n",
    "\\begin{equation}\n",
    "\\label{func_ex}\n",
    "(f+g)(x) &= f(x) + g(x), \\\\\n",
    "&= 1 + \\sin(2x) + 2 + 0.5x, \\\\\n",
    "(f+g)(x) &= 3 + 0.5x + \\sin(2x)\n",
    "\\end{equation}\n",
    "From [](#func_ex), the function $f+g$ is defined for all $x \\in [0, 1]$. Hence, $f+g \\in \\mathcal{F}(I)$.\n",
    "\n",
    "```{tip} \n",
    "If the above discussion is confusing, pretend that we are using sampled version $\\vv f$ and $\\vv g$ of $f(t)$ and $g(t)$, respectively, but with possibly infinite and continuous elements. Adding $\\vv f + \\vv g$ gives me a new vector, just like adding $f + g$ gives me a new function\n",
    "```\n",
    ":::\n"
   ]
  }
 ],
 "metadata": {
  "jupytext": {
   "cell_metadata_filter": "-all",
   "main_language": "python"
  },
  "kernelspec": {
   "display_name": "Python 3 (ipykernel)",
   "language": "python",
   "name": "python3"
  },
  "language_info": {
   "codemirror_mode": {
    "name": "ipython",
    "version": 3
   },
   "file_extension": ".py",
   "mimetype": "text/x-python",
   "name": "python",
   "nbconvert_exporter": "python",
   "pygments_lexer": "ipython3",
   "version": "3.8.19"
  }
 },
 "nbformat": 4,
 "nbformat_minor": 5
}
