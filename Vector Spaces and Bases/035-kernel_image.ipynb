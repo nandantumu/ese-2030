{
 "cells": [
  {
   "cell_type": "markdown",
   "id": "fd7554ca-5ac4-4958-b713-648e3fd54114",
   "metadata": {
    "editable": true,
    "slideshow": {
     "slide_type": ""
    },
    "tags": []
   },
   "source": [
    "---\n",
    "title: Kernel and Image\n",
    "subject: Vector Spaces and Bases\n",
    "subtitle: null space and column space of a matrix\n",
    "short_title: Kernel and Image\n",
    "authors:\n",
    "  - name: Nikolai Matni\n",
    "    affiliations:\n",
    "      - Dept. of Electrical and Systems Engineering\n",
    "      - University of Pennsylvania\n",
    "    email: nmatni@seas.upenn.edu\n",
    "license: CC-BY-4.0\n",
    "keywords: null spaces, column spaces, linear transformations\n",
    "math:\n",
    "  '\\vv': '\\mathbf{#1}'\n",
    "  '\\bm': '\\begin{bmatrix}'\n",
    "  '\\em': '\\end{bmatrix}'\n",
    "  '\\R': '\\mathbb{R}'\n",
    "---"
   ]
  },
  {
   "cell_type": "markdown",
   "id": "a46f522d-2995-412b-92cf-9ff085526b18",
   "metadata": {},
   "source": [
    "## Reading\n",
    "\n",
    "Material related to this page, as well as additional exercises, can be found in ALA Ch. 2.5 and LAA 4.2."
   ]
  },
  {
   "cell_type": "markdown",
   "id": "d276bcc3-237d-4cda-8bf0-39285b0a09f3",
   "metadata": {},
   "source": [
    "## Learning Objectives\n",
    "\n",
    "By the end of this page, you should know:\n",
    "- what is a kernel (null space) and image (column space) of a matrix\n",
    "- linear transformations"
   ]
  },
  {
   "cell_type": "markdown",
   "id": "a1b52c01-f3b4-4b43-baeb-f97bc73802a8",
   "metadata": {},
   "source": [
    "## Introduction\n",
    "\n",
    "The following two subspaces of $\\mathbb{R}^n$ (or generic vector spaces $V$) typically arise in applications of linear algebra and are closely related to systems of linear equations.\n",
    "\n",
    "1. **Null space**: set of all solutions to a system of linear equations of the form $A \\vv x = \\vv 0$. called a _homogeneous_ linear system.\n",
    "2. span of certain specified vectors. One common example is the **column space** of a matrix $A$, which will be detailed in this page. "
   ]
  },
  {
   "cell_type": "markdown",
   "id": "95553d95-0888-448b-a55f-3147b14b90c4",
   "metadata": {},
   "source": [
    "## Null Space of a Matrix\n",
    "\n",
    "\n",
    "```{prf:definition} Null space\n",
    ":label: null_defn\n",
    "The _Null space_ of a matrix $A \\in \\mathbb{R}^{m \\times n}$ is the subspace Null$A \\subset \\mathbb{R}^n$ consisting of all vectors that are annihilated by $A$:\n",
    "\\begin{equation}\n",
    "\\label{null_eqn}\n",
    "\\textrm{Null}(A) = \\{ vv x \\in \\mathbb{R}^n \\ | \\ A \\vv x = \\vv 0 \\} \\subset \\mathbb{R}^n.\n",
    "\\end{equation}\n",
    "```\n",
    "If we think of the function $f(\\vv x) = A \\vv x$ that maps $\\vv x \\mapsto A \\vv x$, then Null$(A)$ is the subset of $\\mathbb{R}^n$ that $f(\\vv x)$ to $\\vv 0$.\n",
    "```{note}\n",
    "The _Null space_ is also known as the _kernel_ of the matrix. We will use Null$(A)$ in our notes even though ALA uses _kernel_, because _null space_ is more descriptive of what it actually is: $\\{ \\vv x \\in \\mathbb{R}^n \\ | \\ A \\vv x = \\vv 0 \\}$. \n",
    "```\n",
    "\n",
    ":::{prf:example}\n",
    ":label:null_eg\n",
    "\n",
    "Consider the following system of homogeneous equations\n",
    "\\begin{equation}\n",
    "\\label{null_eg_eqn}\n",
    "x_1 + 2x_2 + x_3 &= 0, \\\\\n",
    "-x_1 + 4x_2 + 2x_3 &= 0, \n",
    "\\end{equation}\n",
    "or in matrix form $A \\vv x = \\vv 0$, where $A = \\bm1 & 2 & 1 \\\\ -1 & 4 & 2 \\em$.\n",
    "The set of $\\vv x$ satisfying $A \\vv x = \\vv 0$ is the [solution set](../Linear Algebraic Systems/026-linsys-general.ipynb#solution_set) of [](#null_eg_eqn). Our goal is to relate the solution set to the amtrix $A$ which will give us a geometric interpretation. \n",
    "\n",
    "Is $\\vv u = \\bm 0 \\\\ 1 \\\\ -2 \\em$ in Null$(A)$? \n",
    "\n",
    "Evaluating $A \\vv u = \\bm1 & 2 & 1 \\\\ -1 & 4 & 2 \\em\\bm 0 \\\\ 1 \\\\ -2 \\em = \\bm 0 \\\\ 0\\em \\Rightarrow A \\vv u = \\vv 0 \\Rightarrow \\vv u \\in $Null$(A)$. \n",
    ":::\n",
    "\n",
    "We call Null$(A)$ the null _space_ because Null$(A)$ is a [subspace](./032-subspaces.ipynb#sub_def) and we test it as follows. Suppose $\\vv u, \\vv v \\in $Null$(A)$ and $c d \\in \\mathbb{R}$. We need to check if $c \\vv u + d \\vv v \\in$Null$(A)$. \n",
    "\\begin{equation}\n",
    "\\label{null_space_check}\n",
    "A(c \\vv u + d \\vv v) &= c A \\vv u + d A \\vv v, \\ (\\textrm{linearly of matrix multiplication}) \\\\\n",
    "&= c \\vv 0 + d \\vv 0, \\ (\\vv u, \\vv v \\in \\textrm{Null}(A)) \\\\\n",
    "&= \\vv 0\n",
    "\\end{equation}\n",
    "\n",
    "From [](#null_space_check), if $A \\in \\mathbb{R}^{m \\times n}$, then Null$(A)$ is a subspace of $\\mathbb{R}^n$ which leads ot the following principle. \n",
    "\n",
    "```{prf:theorem} Superposition principle\n",
    ":label: super_thm\n",
    "If $\\vv u_1, \\vv u_2, \\ldots, \\vv u_k$ are each solutions to $A \\vv u = 0$, then so is every [linear combination](./033-span_lin_ind.ipynb#ln_comb) $c_1 \\vv u_1 + c_2\\vv u_2 + \\ldots + c_k\\vv u_k$.\n",
    "```\n",
    "\n",
    "```{warning}\n",
    "The set of solutions to $A \\vv x = \\vv b$ where $\\vv b \\neq \\vv 0$ is not a subspace! \n",
    "```\n",
    "\n",
    "```{important}\n",
    "[Superposition](#super_thm) has the following practical implication. We only need to find a few specific solutions to $A \\vv u = 0$ to construct every possible solution via linear combinations.\n",
    "```\n",
    "\n",
    "```{note}\n",
    "The same ideas of solving linear systems with a matrix representation extend to more general linear systems with infinite dimensional vector spaces such as linear differential equations, which we will see later in the course. \n",
    "```"
   ]
  },
  {
   "cell_type": "markdown",
   "id": "32f650ea-b1d6-4601-89a3-ca703fe6fd66",
   "metadata": {},
   "source": [
    "## Describing the Null Space\n",
    "\n",
    "An explicit description of Null$(A)$ can be obtained by solving $A \\vv x = 0$, for example, using Gaussian Elimination.\n",
    "\n",
    ":::{prf:example}\n",
    ":label:null_eg_GE\n",
    "Let us find a [basis](./034-basis_dim.ipynb#basis_defn) for Null$(A)$, where \n",
    "$A = \\bm -3 & 6 & -1 & 1 & -7 \\\\\n",
    "1 & -2 & 2 & 3 & -1 \\\\\n",
    "2 & -4 & 5 & 8 & -4\n",
    "\\em$. We reduce $A$ to row echelon form\n",
    "\\begin{equation}\n",
    "\\label{null_GE_eqn}\n",
    "A \\leftrightarrow \\bm 1 & -2 & 0 & -1 & 3 \\\\\n",
    "0 & 0 & 1 & 2 & -2 \\\\\n",
    "0 & 0 & 0 & 0 & 0\n",
    "\\em \\leftrightarrow x_1 = 2x_2 + x_4 - 3x_5, \\ x_3 = -2x_4 + 2x_5.\n",
    "\\end{equation}\n",
    "From [](#null_GE_eqn), the free variables are $x_2, x_4, x_4$ and the basic variables are $x_1, x_3$, since, the pivots are at $(1, 1), (2, 3)$. We can decompose the general solution as\n",
    "\\begin{equation}\n",
    "\\label{null_soln}\n",
    "\\bm x_1 \\\\ x_2 \\\\ x_3 \\\\ x_4 \\\\ x_5\\em = \\bm 2x_2 + x_4 - 3x_5 \\\\ x_2 \\\\ -2x_4 + 2x_5 \\\\ x_4 \\\\ x_5\\em = x_2 \\bm 2 \\\\ 1 \\\\ 0 \\\\ 0 \\\\ 0\\em + x_4 \\bm 1 \\\\ 0 \\\\ -2 \\\\ 1 \\\\ 0\\em + x_5 \\bm -3 \\\\ 0 \\\\ 2 \\\\ 0 \\\\ 1\\em = x_2 \\vv u_1 + x_4 \\vv u_2 + x_5 \\vv u_3, \\\\\n",
    "\\textrm{where}, \\vv u_1 = \\bm 2 \\\\ 1 \\\\ 0 \\\\ 0 \\\\ 0\\em, \\ \\vv u_2 = \\bm 1 \\\\ 0 \\\\ -2 \\\\ 1 \\\\ 0\\em, \\ \\vv u_3 = \\bm -3 \\\\ 0 \\\\ 2 \\\\ 0 \\\\ 1\\em.\n",
    "\\end{equation}\n",
    "From [](#null_soln), every linear combination of $\\vv u_1, \\vv u_2, \\vv u_3$ is in Null$(A)$. Also, $\\vv u_1, \\vv u_2, \\vv u_3$ are linearly independent (think when does [](#null_soln) become zero and why so?), hence, $\\vv u_1, \\vv u_2, \\vv u_3$ form a basis for Null$(A)$.\n",
    "\n",
    "We conclude that Null$(A) \\subset \\mathbb{R}^5$ is a subspace of [dimension](./034-basis_dim.ipynb#dim_defn) 3.\n",
    "\n",
    ":::"
   ]
  },
  {
   "cell_type": "code",
   "execution_count": null,
   "id": "5f9dfaeb-01bd-4e1b-ae04-fa1bd3215523",
   "metadata": {},
   "outputs": [],
   "source": []
  }
 ],
 "metadata": {
  "jupytext": {
   "cell_metadata_filter": "-all",
   "main_language": "python"
  },
  "kernelspec": {
   "display_name": "Python 3 (ipykernel)",
   "language": "python",
   "name": "python3"
  },
  "language_info": {
   "codemirror_mode": {
    "name": "ipython",
    "version": 3
   },
   "file_extension": ".py",
   "mimetype": "text/x-python",
   "name": "python",
   "nbconvert_exporter": "python",
   "pygments_lexer": "ipython3",
   "version": "3.8.19"
  }
 },
 "nbformat": 4,
 "nbformat_minor": 5
}
