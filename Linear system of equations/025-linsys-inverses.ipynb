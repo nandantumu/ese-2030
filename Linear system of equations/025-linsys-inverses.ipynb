{
 "cells": [
  {
   "cell_type": "markdown",
   "id": "fd7554ca-5ac4-4958-b713-648e3fd54114",
   "metadata": {
    "editable": true,
    "slideshow": {
     "slide_type": ""
    },
    "tags": []
   },
   "source": [
    "---\n",
    "title: Matrix inverses\n",
    "subject:  Linear System of Equations\n",
    "subtitle: reciprocal of matrices\n",
    "short_title: Matrix inverses\n",
    "authors:\n",
    "  - name: Nikolai Matni\n",
    "    affiliations:\n",
    "      - Dept. of Electrical and Systems Engineering\n",
    "      - University of Pennsylvania\n",
    "    email: nmatni@seas.upenn.edu\n",
    "license: CC-BY-4.0\n",
    "keywords: systems of linear equations, solution sets, forward elimination, back substitution\n",
    "---"
   ]
  },
  {
   "cell_type": "markdown",
   "id": "efca8556-3e7f-4f1c-b466-04f0e14b12e5",
   "metadata": {
    "jp-MarkdownHeadingCollapsed": true
   },
   "source": [
    "## Reading\n",
    "Material related to this page, as well as additional exercises, can be found in ALA Ch. 1.5, LAA Ch 2.2.  These notes are mostly based on ALA Ch 1.5."
   ]
  },
  {
   "cell_type": "markdown",
   "id": "170438e7",
   "metadata": {},
   "source": [
    "## Learning Objectives\n",
    "\n",
    "By the end of this page, you should know:\n",
    "- what is the inverse of a matrix\n",
    "- computing inverse for 2x2 matrices\n",
    "- "
   ]
  },
  {
   "cell_type": "markdown",
   "id": "ebd6aeff-4ad9-42b7-9fb4-a82ada3e07b6",
   "metadata": {
    "editable": true,
    "slideshow": {
     "slide_type": ""
    },
    "tags": []
   },
   "source": [
    "## Basic definition\n",
    "\n",
    "The inverse of a matrix is analogous to the reciprocal $a^{−1} =\\frac{1}{a}$ of a nonzero scalar $a \\neq 0$. We already encountered the inverses of matrices corresponding to elementary row operations. In this section, we will study inverses of general square matrices. We begin with the formal deﬁnition.\n",
    "\n",
    "```{prf:definition} Matrix inverse\n",
    ":label: inverse\n",
    "Let $A$ be a square matrix of size $n \\times n$. An  $n \\times n$ matrix $X$ is called the inverse of $A$ if it satisﬁes\n",
    "$$\n",
    "X A = I = A X,\n",
    "$$\n",
    "where $I = I_n$ is the $n \\times n$ identity matrix. The inverse of $A$ is commonly denoted by $A^{−1}$.\n",
    "```\n",
    "\n",
    "```{warning}\n",
    "Every square matrix does not necessarily have an inverse, just like every scalar does not have an inverse: $0^{-1} = \\frac{1}{0}$ is not defined since $0x = 1$ has no solution.\n",
    "```\n",
    "```{warning}\n",
    "In general, there is no straightforward way to guess the entries of $A^{-1}$ by looking at the entries of $A$.\n",
    "```"
   ]
  },
  {
   "cell_type": "markdown",
   "id": "aebf45f1-aed4-4ba9-be1a-318a2e0dbe4f",
   "metadata": {},
   "source": [
    "## Formula for 2x2 matrices\n",
    "\n",
    "We want to find the inverse of the matrix $A$, that is denoted by $X$\n",
    "\n",
    "$$\n",
    "A = \\begin{bmatrix}\n",
    "a & b \\\\ c & d\n",
    "\\end{bmatrix}, X = \\begin{bmatrix}\n",
    "x & y \\\\ z & w\n",
    " \\end{bmatrix} \\Rightarrow AX = I = \\begin{bmatrix}\n",
    "1 & 0 \\\\ 0 & 1\n",
    " \\end{bmatrix}\n",
    "$$\n",
    "The above matrix equation will produce a set of four linear equations for each entry in $I$, where the unknowns are $(x, y, z, w)$. Solving by Gaussian Elimination, we get\n",
    "\\begin{equation}\n",
    "\\label{inv_2x2}\n",
    "x = \\frac{d}{ad-bc}, \\ y = \\frac{-b}{ad-bc}, \\ z = \\frac{-c}{ad-bc}, \\ w = \\frac{a}{ad-bc} \\Rightarrow X = \\frac{1}{ad-bc}\\begin{bmatrix}\n",
    "d & -b \\\\ -c & a\n",
    " \\end{bmatrix}\n",
    "\\end{equation}\n",
    "You can verify that $XA = I$ also holds. \n",
    "```{warning}\n",
    "The inverse of $A$ exists if and only if $ad-bc \\neq0$.\n",
    "```"
   ]
  },
  {
   "cell_type": "markdown",
   "id": "636cb1e7-6a17-4d2d-b4eb-b594ed46a68f",
   "metadata": {},
   "source": [
    "## Some useful properties\n",
    "\n",
    "```{tip}\n",
    "The inverse of a matrix $A$ reverses the changes $A$ does to a vector $\\textbf{x}$ via matrix-vector multiplication. \n",
    "$$\n",
    "\\textbf{x} \\xrightarrow{A} A \\textbf{x} \\xrightarrow{A^{-1}} A^{-1}A\\textbf{x} = \\textbf{x}\n",
    "$$\n",
    "```\n",
    "\n",
    "For example, the elementary operation of adding twice the first row to the third row is given by \n",
    "\n",
    "$$\n",
    "E = \\begin{bmatrix}1 & 0 & 0 \\\\ 0 & 1 & 0 \\\\ 2 & 0 & 1 \\end{bmatrix},\n",
    "$$\n",
    "while the inverse operation is given by\n",
    "$$\n",
    "L = \\begin{bmatrix}1 & 0 & 0 \\\\ 0 & 1 & 0 \\\\ -2 & 0 & 1 \\end{bmatrix},\n",
    "$$\n",
    "and you can verify that $L = E^{-1}$. You can also verify similarly for permutation matrices with exactly one interchange \n",
    "$$\n",
    "P = \\begin{bmatrix} 0 & 1 & 0 \\\\ 1 & 0 & 0 \\\\ 0 & 0 & 1 \\end{bmatrix} = P^{-1}.\n",
    "$$\n",
    "\n",
    "```{important}\n",
    "A square matrix has an inverse if and only if it is nonsingular\n",
    "```\n",
    "\n",
    "The above statement will be proved later, but for now think about the scalar analogy. The equation $ax=b$ has a unique solution $x = a^{-1}b$ if and only if $a \\neq 0$. Similarly, $A \\textbf{x} = \\textbf{b}$ has a unique solution $\\textbf{x} = A^{-1}\\textbf{b}$ if and only if $A^{-1}$ exists.\n",
    "\n",
    "```{note} Properties\n",
    "1. The inverse of a square matrix, if it exists, is unique.\n",
    "2. If $A$ is invertible, so is $A^{-1}$ and $\\left(A^{-1}\\right)^{-1} = A$.\n",
    "3. If $A$ and $B$ are invertible matrices of the same size, then their product $AB$ is also invertible, and\n",
    "$$\n",
    "(AB)^{-1} = B^{-1}A^{-1} \\\\ \\textbf{order is reversed!}\n",
    "$$\n",
    "```"
   ]
  },
  {
   "cell_type": "markdown",
   "id": "8525c0cb-a973-4e86-8d3b-b77ea2c1235b",
   "metadata": {
    "editable": true,
    "slideshow": {
     "slide_type": ""
    },
    "tags": []
   },
   "source": [
    "## Worked examples"
   ]
  },
  {
   "cell_type": "markdown",
   "id": "6ceffd52-56eb-4625-8fbc-e4696a69e3f4",
   "metadata": {},
   "source": [
    "````{exercise}  TODO\n",
    ":label: row-reduce-ex1\n",
    "Write me\n",
    ":::{hint} Click me for a hint!\n",
    ":class: dropdown\n",
    "Write me\n",
    "\n",
    ":::\n",
    "```{solution} my-exercise\n",
    ":class: dropdown\n",
    "Write me\n",
    "```\n",
    "````"
   ]
  },
  {
   "cell_type": "markdown",
   "id": "2c6493b5-6b12-415a-a159-646579661219",
   "metadata": {},
   "source": [
    "````{exercise}  TODO\n",
    ":label: row-reduce-ex1\n",
    "Write me\n",
    ":::{hint} Click me for a hint!\n",
    ":class: dropdown\n",
    "Write me\n",
    "\n",
    ":::\n",
    "```{solution} my-exercise\n",
    ":class: dropdown\n",
    "Write me\n",
    "```\n",
    "````"
   ]
  },
  {
   "cell_type": "markdown",
   "id": "10d74d88-58e1-41a8-9d89-e2de2c9e6edd",
   "metadata": {},
   "source": []
  }
 ],
 "metadata": {
  "jupytext": {
   "cell_metadata_filter": "-all",
   "main_language": "python"
  },
  "kernelspec": {
   "display_name": "Python 3 (ipykernel)",
   "language": "python",
   "name": "python3"
  },
  "language_info": {
   "codemirror_mode": {
    "name": "ipython",
    "version": 3
   },
   "file_extension": ".py",
   "mimetype": "text/x-python",
   "name": "python",
   "nbconvert_exporter": "python",
   "pygments_lexer": "ipython3",
   "version": "3.8.19"
  }
 },
 "nbformat": 4,
 "nbformat_minor": 5
}
