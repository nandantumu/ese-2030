{
 "cells": [
  {
   "cell_type": "markdown",
   "id": "fd7554ca-5ac4-4958-b713-648e3fd54114",
   "metadata": {
    "editable": true,
    "slideshow": {
     "slide_type": ""
    },
    "tags": []
   },
   "source": [
    "---\n",
    "title: General Linear Systems\n",
    "subject:  Linear System of Equations\n",
    "subtitle: solving with nonsingular coefficient matrices\n",
    "short_title: General Linear Systems\n",
    "authors:\n",
    "  - name: Nikolai Matni\n",
    "    affiliations:\n",
    "      - Dept. of Electrical and Systems Engineering\n",
    "      - University of Pennsylvania\n",
    "    email: nmatni@seas.upenn.edu\n",
    "license: CC-BY-4.0\n",
    "keywords: inverse, Gauss Jordan elimination, identity matrix\n",
    "---"
   ]
  },
  {
   "cell_type": "markdown",
   "id": "efca8556-3e7f-4f1c-b466-04f0e14b12e5",
   "metadata": {
    "jp-MarkdownHeadingCollapsed": true
   },
   "source": [
    "## Reading\n",
    "Material related to this page, as well as additional exercises, can be found in ALA Ch. 1.8."
   ]
  },
  {
   "cell_type": "markdown",
   "id": "170438e7",
   "metadata": {},
   "source": [
    "## Learning Objectives\n",
    "\n",
    "By the end of this page, you should know:\n",
    "- row echelon form of matrices\n",
    "- "
   ]
  },
  {
   "cell_type": "markdown",
   "id": "ebd6aeff-4ad9-42b7-9fb4-a82ada3e07b6",
   "metadata": {
    "editable": true,
    "slideshow": {
     "slide_type": ""
    },
    "tags": []
   },
   "source": [
    "## Row echelon form\n",
    "\n",
    "So far we have discussed techniques to solve only equations that have nonsingular coefficient matrices, since they always have a unique solution. Now, we move towards general systems that have $m$ equations and $n$ unknowns, including non-square ($m \\neq n$) and singular coefficient matrices. We first define a generalized version of the upper triangular matrix as the _row echelon form_ of a matrix. \n",
    "\n",
    "```{prf:definition} Row echelon form\n",
    ":label: row_echelon\n",
    "A $m \\times n$ matrix $U$ is said to be in _row echelon form_ if it has the following \"staircase\" structure:\n",
    "\n",
    ":::{figure}../figures/02-row_echelon.jpg\n",
    ":alt: Row echelon form\n",
    ":width: 500px\n",
    ":align: center\n",
    ":::\n",
    "\n",
    "The entries $\\circledast$ are the _pivots_ that must be nonzero. The ﬁrst $r$ rows of $U$ each contain exactly one pivot, but not all columns are required to include a pivot entry. The entries below the “staircase”, indicated by the solid line, are all zero, while the non-pivot\n",
    "entries above the staircase, indicated by $*$, can be anything. The last $m − r$ rows are all zeros.\n",
    "```\n",
    "\n",
    "An example of a matrix in row echelon form is\n",
    "\\begin{equation}\n",
    "\\begin{bmatrix}\n",
    "\\textbf{2} & 0 & 1 & -5 & 6 \\\\\n",
    "0 & 0 & \\textbf{1} & 1 & 7 \\\\\n",
    "0 & 0 & 0 & \\textbf{-3} & 1\\\\\n",
    "0 & 0 & 0 & 0 & 0\n",
    "\\end{bmatrix},\n",
    "\\end{equation}\n",
    "where $r=3, m=4$ and the pivots are in $\\textbf{bold}$\n",
    "\n",
    "```{warning} Missing variables\n",
    "In rare cases, a row echelon matrix could be\n",
    "\\begin{equation}\n",
    "\\label{rare_row_echelon}\n",
    "\\begin{bmatrix}\n",
    "0 & 0 & \\textbf{1} & -5 & 6 \\\\\n",
    "0 & 0 & 0 & \\textbf{3} & 10 \\\\\n",
    "0 & 0 & 0 & 0 & \\textbf{1}\\\\\n",
    "0 & 0 & 0 & 0 & 0\n",
    "\\end{bmatrix},\n",
    "\\end{equation}\n",
    "where the first two columns are all zeros. The matrix in [](#rare_row_echelon) corresponds to a linear system where the first two variables do not appear in any of the equations. Such systems almost never happen in real applications.\n",
    "```\n",
    "\n",
    "```{prf:theorem}\n",
    "Every matrix can be reduced to row echelon form by a sequence of row operations ([scaling and adding](./023-linsys-gauuss.ipynb#rowop1), [swapping](./024-linsys-perms.ipynb#rowop2)).\n",
    "```\n",
    "\n",
    "```{note}Matrix notation\n",
    "If $A$ is an $m \\times n$ matrix, then we can find an $m \\times m$ permutation matrix $P$ and an $m \\times m$ lower triangular matrix $L$ such that \n",
    "$$\n",
    "PA = LU,\n",
    "$$\n",
    "where $U$ is an $m \\times n$ matrix in row echelon form. This is a generalized version of the permuted LU decomposition. \n",
    "```\n",
    "\n",
    "For example, consider the linear system with the augmented matrix\n",
    "\\begin{equation}\n",
    "\\left[ \\begin{array}{ccccc|c} 1 & 3 & 2 & -1 & 0 & a \\\\ 2 & 6 & 1 & 4 & 3 & b \\\\ -1 & -3 & -3 & 3 & 1 & c \\\\ 3 & 9 & 8 & 7 & 2 & d\\end{array}\\right],\n",
    "\\end{equation}\n",
    "where $\\textbf{b} = \\begin{bmatrix} a \\\\ b \\\\ c \\\\ d\\end{bmatrix}$ is a generic vector. The $(1,1)$ entry is a pivot. We use elementary row operations to make the entries below the pivot to be zero.\n",
    "\\begin{equation}\n",
    "\\label{no_pivot}\n",
    "\\left[ \\begin{array}{ccccc|c} 1 & 3 & 2 & -1 & 0 & a \\\\ 0 & 0 & -3 & 6 & 3 & b-2a \\\\ 0 & 0 & -1 & 2 & 1 & c+a \\\\ 0 & 0 & 2 & 10 & 2 & d-3a\\end{array}\\right],\n",
    "\\end{equation}\n",
    "In [](#no_pivot), the diagonal entry in the second row is zero. Hence, the pivot is the $(2, 3)^{rd}$ entry for the second row. This already is a generalized version of the upper triangular matrix we worked with previously. Continuing our process of making entries below the pivot to be zero, we get\n",
    "\\begin{equation}\n",
    "\\left[ \\begin{array}{ccccc|c} 1 & 3 & 2 & -1 & 0 & a \\\\ 0 & 0 & -3 & 6 & 3 & b-2a \\\\ 0 & 0 & 0 & 0 & 0 & c-\\frac{b}{3}+\\frac{5}{3}a \\\\ 0 & 0 & 0 & 8 & 4 & d + \\frac{2}{3}b-\\frac{13}{3}a\\end{array}\\right].\n",
    "\\end{equation}\n",
    "After swapping the last two rows, the left-hand matrix in row echelon form is\n",
    "\\begin{equation}\n",
    "\\left[ \\begin{array}{ccccc|c} 1 & 3 & 2 & -1 & 0 & a \\\\ 0 & 0 & -3 & 6 & 3 & b-2a \\\\  0 & 0 & 0 & 8 & 4 & d + \\frac{2}{3}b-\\frac{13}{3}a \\\\ 0 & 0 & 0 & 0 & 0 & c-\\frac{b}{3}+\\frac{5}{3}a \\end{array}\\right].\n",
    "\\end{equation}\n",
    "The three pivots are $1, -3, 8$ at $(1,1), (2, 3), (3, 4)$.\n",
    "\n",
    "```{warning}\n",
    "The pivots can only come from the coefficient matrix. Hence, the entries in the last column to the right side of the vertical line cannot be used as pivots since they are the right hand side of the equations.\n",
    "```"
   ]
  },
  {
   "cell_type": "markdown",
   "id": "aebf45f1-aed4-4ba9-be1a-318a2e0dbe4f",
   "metadata": {},
   "source": [
    "## Rank of a matrix\n",
    "\n",
    "```{prf:definition} Rank\n",
    "The _rank_ of a matrix is the numer of pivots in its row echelon form.\n",
    "```\n",
    "\n",
    "Rank plays a central role in our study of linear algebra, but right now we will explore the connections between rank and the solution set of a linear system. \n",
    "\n",
    "```{note} Properties\n",
    "1. For an $m \\times n$ matrix $A$, we have $0 \\leq r = \\textnormal{rank}(A) \\leq \\min\\{m, n\\}$\n",
    "2. The only matrix with zero rank is the zero matrix.\n",
    "3. An $n \\times n$ square matrix is nonsingular if and only if it has rank=$n$.\n",
    "4. A matrix always has the same number of pivots even if we perform different row operations to reduce it to row echelon form.\n",
    "```"
   ]
  },
  {
   "cell_type": "code",
   "execution_count": 5,
   "id": "2e53951c-0ba2-4873-a398-ebc1392d8972",
   "metadata": {},
   "outputs": [
    {
     "name": "stdout",
     "output_type": "stream",
     "text": [
      "Row echelon form of the matrix:\n",
      " (Matrix([\n",
      "[1, 3, 0, 0,  8/7],\n",
      "[0, 0, 1, 0, -3/7],\n",
      "[0, 0, 0, 1,  2/7],\n",
      "[0, 0, 0, 0,    0]]), (0, 2, 3))\n",
      "\n",
      "Rank of the matrix:  3\n",
      "\n",
      "Rank of the matrix using numpy:  3\n"
     ]
    }
   ],
   "source": [
    "## Row echelon form\n",
    "import sympy\n",
    "import numpy as np\n",
    "\n",
    "# find the reduced row echelon form\n",
    "A = sympy.Matrix([[1, 3, 2, -1, 0], [2, 6 ,1, 4, 3], [-1, -3, -3, 3, 1], [3, 9, 8, 7, 2]])\n",
    "A_re = A.rref()\n",
    "\n",
    "# find the rank of matrix\n",
    "print(\"Row echelon form of the matrix:\\n\", A_re)\n",
    "\n",
    "# find the rank of matrix\n",
    "print(\"\\nRank of the matrix: \", A.rank())\n",
    "\n",
    "# Rank of a matrix using numpy\n",
    "A_n = np.array([[1, 3, 2, -1, 0], [2, 6 ,1, 4, 3], [-1, -3, -3, 3, 1], [3, 9, 8, 7, 2]])\n",
    "print(\"\\nRank of the matrix using numpy: \", np.linalg.matrix_rank(A_n))"
   ]
  },
  {
   "cell_type": "markdown",
   "id": "636cb1e7-6a17-4d2d-b4eb-b594ed46a68f",
   "metadata": {},
   "source": [
    "## Solving linear systems in row echelon form\n",
    "\n"
   ]
  },
  {
   "cell_type": "markdown",
   "id": "8525c0cb-a973-4e86-8d3b-b77ea2c1235b",
   "metadata": {
    "editable": true,
    "slideshow": {
     "slide_type": ""
    },
    "tags": []
   },
   "source": [
    "## Worked examples"
   ]
  },
  {
   "cell_type": "markdown",
   "id": "6ceffd52-56eb-4625-8fbc-e4696a69e3f4",
   "metadata": {},
   "source": [
    "````{exercise}  TODO\n",
    ":label: row-reduce-ex1\n",
    "Write me\n",
    ":::{hint} Click me for a hint!\n",
    ":class: dropdown\n",
    "Write me\n",
    "\n",
    ":::\n",
    "```{solution} my-exercise\n",
    ":class: dropdown\n",
    "Write me\n",
    "```\n",
    "````"
   ]
  },
  {
   "cell_type": "markdown",
   "id": "2c6493b5-6b12-415a-a159-646579661219",
   "metadata": {},
   "source": [
    "````{exercise}  TODO\n",
    ":label: row-reduce-ex1\n",
    "Write me\n",
    ":::{hint} Click me for a hint!\n",
    ":class: dropdown\n",
    "Write me\n",
    "\n",
    ":::\n",
    "```{solution} my-exercise\n",
    ":class: dropdown\n",
    "Write me\n",
    "```\n",
    "````"
   ]
  }
 ],
 "metadata": {
  "jupytext": {
   "cell_metadata_filter": "-all",
   "main_language": "python"
  },
  "kernelspec": {
   "display_name": "Python 3 (ipykernel)",
   "language": "python",
   "name": "python3"
  },
  "language_info": {
   "codemirror_mode": {
    "name": "ipython",
    "version": 3
   },
   "file_extension": ".py",
   "mimetype": "text/x-python",
   "name": "python",
   "nbconvert_exporter": "python",
   "pygments_lexer": "ipython3",
   "version": "3.8.19"
  }
 },
 "nbformat": 4,
 "nbformat_minor": 5
}
