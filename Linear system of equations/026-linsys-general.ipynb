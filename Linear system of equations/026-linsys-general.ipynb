{
 "cells": [
  {
   "cell_type": "markdown",
   "id": "fd7554ca-5ac4-4958-b713-648e3fd54114",
   "metadata": {
    "editable": true,
    "slideshow": {
     "slide_type": ""
    },
    "tags": []
   },
   "source": [
    "---\n",
    "title: General Linear Systems\n",
    "subject:  Linear System of Equations\n",
    "subtitle: solving with nonsingular coefficient matrices\n",
    "short_title: General Linear Systems\n",
    "authors:\n",
    "  - name: Nikolai Matni\n",
    "    affiliations:\n",
    "      - Dept. of Electrical and Systems Engineering\n",
    "      - University of Pennsylvania\n",
    "    email: nmatni@seas.upenn.edu\n",
    "license: CC-BY-4.0\n",
    "keywords: inverse, Gauss Jordan elimination, identity matrix\n",
    "---"
   ]
  },
  {
   "cell_type": "markdown",
   "id": "efca8556-3e7f-4f1c-b466-04f0e14b12e5",
   "metadata": {
    "jp-MarkdownHeadingCollapsed": true
   },
   "source": [
    "## Reading\n",
    "Material related to this page, as well as additional exercises, can be found in ALA Ch. 1.8."
   ]
  },
  {
   "cell_type": "markdown",
   "id": "170438e7",
   "metadata": {},
   "source": [
    "## Learning Objectives\n",
    "\n",
    "By the end of this page, you should know:\n",
    "- row echelon form of matrices\n",
    "- "
   ]
  },
  {
   "cell_type": "markdown",
   "id": "ebd6aeff-4ad9-42b7-9fb4-a82ada3e07b6",
   "metadata": {
    "editable": true,
    "slideshow": {
     "slide_type": ""
    },
    "tags": []
   },
   "source": [
    "## Row echelon form\n",
    "\n",
    "So far we have discussed techniques to solve only equations that have nonsingular coefficient matrices, since they always have a unique solution. Now, we move towards general systems that have $m$ equations and $n$ unknowns, including non-square ($m \\neq n$) and singular coefficient matrices. We first define a generalized version of the upper triangular matrix as the _row echelon form_ of a matrix. \n",
    "\n",
    "```{prf:definition} Row echelon form\n",
    ":label: row_echelon\n",
    "A $m \\times n$ matrix $U$ is said to be in _row echelon form_ if it has the following \"staircase\" structure:\n",
    "\n",
    ":::{figure}../figures/02-row_echelon.jpg\n",
    ":alt: Row echelon form\n",
    ":width: 500px\n",
    ":align: center\n",
    ":::\n",
    "\n",
    "The entries $\\circledast$ are the _pivots_ that must be nonzero. The ﬁrst $r$ rows of $U$ each contain exactly one pivot, but not all columns are required to include a pivot entry. The entries below the “staircase”, indicated by the solid line, are all zero, while the non-pivot\n",
    "entries above the staircase, indicated by $*$, can be anything. The last $m − r$ rows are all zeros.\n",
    "```\n",
    "\n",
    "An example of a matrix in row echelon form is\n",
    "\\begin{equation}\n",
    "\\begin{bmatrix}\n",
    "\\textbf{2} & 0 & 1 & -5 & 6 \\\\\n",
    "0 & 0 & \\textbf{1} & 1 & 7 \\\\\n",
    "0 & 0 & 0 & \\textbf{-3} & 1\\\\\n",
    "0 & 0 & 0 & 0 & 0\n",
    "\\end{bmatrix},\n",
    "\\end{equation}\n",
    "where $r=3, m=4$ and the pivots are in $\\textbf{bold}$\n",
    "\n",
    "```{warning} Missing variables\n",
    "In rare cases, a row echelon matrix could be\n",
    "\\begin{equation}\n",
    "\\label{rare_row_echelon}\n",
    "\\begin{bmatrix}\n",
    "0 & 0 & \\textbf{1} & -5 & 6 \\\\\n",
    "0 & 0 & 0 & \\textbf{3} & 10 \\\\\n",
    "0 & 0 & 0 & 0 & \\textbf{1}\\\\\n",
    "0 & 0 & 0 & 0 & 0\n",
    "\\end{bmatrix},\n",
    "\\end{equation}\n",
    "where the first two columns are all zeros. The matrix in [](#rare_row_echelon) corresponds to a linear system where the first two variables do not appear in any of the equations. Such systems almost never happen in real applications.\n",
    "```\n",
    "\n",
    "```{prf:theorem}\n",
    "Every matrix can be reduced to row echelon form by a sequence of row operations ([scaling and adding](./023-linsys-gauuss.ipynb#rowop1), [swapping](./024-linsys-perms.ipynb#rowop2)).\n",
    "```\n",
    "\n",
    "```{note}Matrix notation\n",
    "If $A$ is an $m \\times n$ matrix, then we can find an $m \\times m$ permutation matrix $P$ and an $m \\times m$ lower triangular matrix $L$ such that \n",
    "$$\n",
    "PA = LU,\n",
    "$$\n",
    "where $U$ is an $m \\times n$ matrix in row echelon form. This is a generalized version of the permuted LU decomposition. \n",
    "```\n",
    "\n",
    "For example, consider the linear system with the augmented matrix\n",
    "\\begin{equation}\n",
    "\\left[ \\begin{array}{ccccc|c} 1 & 3 & 2 & -1 & 0 & a \\\\ 2 & 6 & 1 & 4 & 3 & b \\\\ -1 & -3 & -3 & 3 & 1 & c \\\\ 3 & 9 & 8 & 7 & 2 & d\\end{array}\\right],\n",
    "\\end{equation}\n",
    "where $\\textbf{b} = \\begin{bmatrix} a \\\\ b \\\\ c \\\\ d\\end{bmatrix}$ is a generic vector. The $(1,1)$ entry is a pivot. We use elementary row operations to make the entries below the pivot to be zero.\n",
    "\\begin{equation}\n",
    "\\label{no_pivot}\n",
    "\\left[ \\begin{array}{ccccc|c} 1 & 3 & 2 & -1 & 0 & a \\\\ 0 & 0 & -3 & 6 & 3 & b-2a \\\\ 0 & 0 & -1 & 2 & 1 & c+a \\\\ 0 & 0 & 2 & 10 & 2 & d-3a\\end{array}\\right],\n",
    "\\end{equation}\n",
    "In [](#no_pivot), the diagonal entry in the second row is zero. Hence, the pivot is the $(2, 3)^{rd}$ entry for the second row. This already is a generalized version of the upper triangular matrix we worked with previously. Continuing our process of making entries below the pivot to be zero, we get\n",
    "\\begin{equation}\n",
    "\\left[ \\begin{array}{ccccc|c} 1 & 3 & 2 & -1 & 0 & a \\\\ 0 & 0 & -3 & 6 & 3 & b-2a \\\\ 0 & 0 & 0 & 0 & 0 & c-\\frac{b}{3}+\\frac{5}{3}a \\\\ 0 & 0 & 0 & 8 & 4 & d + \\frac{2}{3}b-\\frac{13}{3}a\\end{array}\\right].\n",
    "\\end{equation}\n",
    "After swapping the last two rows, the left-hand matrix in row echelon form is\n",
    "\\begin{equation}\n",
    "\\left[ \\begin{array}{ccccc|c} 1 & 3 & 2 & -1 & 0 & a \\\\ 0 & 0 & -3 & 6 & 3 & b-2a \\\\  0 & 0 & 0 & 8 & 4 & d + \\frac{2}{3}b-\\frac{13}{3}a \\\\ 0 & 0 & 0 & 0 & 0 & c-\\frac{b}{3}+\\frac{5}{3}a \\end{array}\\right].\n",
    "\\end{equation}\n",
    "The three pivots are $1, -3, 8$ at $(1,1), (2, 3), (3, 4)$.\n",
    "\n",
    "```{warning}\n",
    "The pivots can only come from the coefficient matrix. Hence, the entries in the last column to the right side of the vertical line cannot be used as pivots since they are the right hand side of the equations.\n",
    "```"
   ]
  },
  {
   "cell_type": "markdown",
   "id": "aebf45f1-aed4-4ba9-be1a-318a2e0dbe4f",
   "metadata": {},
   "source": [
    "## Rank of a matrix\n",
    "\n",
    "```{prf:definition} Rank\n",
    "The _rank_ of a matrix is the numer of pivots in its row echelon form.\n",
    "```\n",
    "\n",
    "Rank plays a central role in our study of linear algebra, but right now we will explore the connections between rank and the solution set of a linear system. \n",
    "\n",
    "```{note} Properties\n",
    "1. For an $m \\times n$ matrix $A$, we have $0 \\leq r = \\textnormal{rank}(A) \\leq \\min\\{m, n\\}$\n",
    "2. The only matrix with zero rank is the zero matrix.\n",
    "3. An $n \\times n$ square matrix is nonsingular if and only if it has rank=$n$.\n",
    "4. A matrix always has the same number of pivots even if we perform different row operations to reduce it to row echelon form.\n",
    "```"
   ]
  },
  {
   "cell_type": "code",
   "execution_count": 5,
   "id": "2e53951c-0ba2-4873-a398-ebc1392d8972",
   "metadata": {},
   "outputs": [
    {
     "name": "stdout",
     "output_type": "stream",
     "text": [
      "Row echelon form of the matrix:\n",
      " (Matrix([\n",
      "[1, 3, 0, 0,  8/7],\n",
      "[0, 0, 1, 0, -3/7],\n",
      "[0, 0, 0, 1,  2/7],\n",
      "[0, 0, 0, 0,    0]]), (0, 2, 3))\n",
      "\n",
      "Rank of the matrix:  3\n",
      "\n",
      "Rank of the matrix using numpy:  3\n"
     ]
    }
   ],
   "source": [
    "## Row echelon form\n",
    "import sympy\n",
    "import numpy as np\n",
    "\n",
    "# find the reduced row echelon form\n",
    "A = sympy.Matrix([[1, 3, 2, -1, 0], [2, 6 ,1, 4, 3], [-1, -3, -3, 3, 1], [3, 9, 8, 7, 2]])\n",
    "A_re = A.rref()\n",
    "\n",
    "# find the rank of matrix\n",
    "print(\"Row echelon form of the matrix:\\n\", A_re)\n",
    "\n",
    "# find the rank of matrix\n",
    "print(\"\\nRank of the matrix: \", A.rank())\n",
    "\n",
    "# Rank of a matrix using numpy\n",
    "A_n = np.array([[1, 3, 2, -1, 0], [2, 6 ,1, 4, 3], [-1, -3, -3, 3, 1], [3, 9, 8, 7, 2]])\n",
    "print(\"\\nRank of the matrix using numpy: \", np.linalg.matrix_rank(A_n))"
   ]
  },
  {
   "cell_type": "markdown",
   "id": "636cb1e7-6a17-4d2d-b4eb-b594ed46a68f",
   "metadata": {},
   "source": [
    "## Solving linear systems in row echelon form\n",
    "\n",
    "```{tip}\n",
    "The inverse of a matrix $A$ reverses the changes $A$ does to a vector $\\textbf{x}$ via matrix-vector multiplication. \n",
    "$$\n",
    "\\textbf{x} \\xrightarrow{A} A \\textbf{x} \\xrightarrow{A^{-1}} A^{-1}A\\textbf{x} = \\textbf{x}\n",
    "$$\n",
    "```\n",
    "\n",
    "For example, the elementary operation of adding twice the first row to the third row is given by \n",
    "\n",
    "$$\n",
    "E = \\begin{bmatrix}1 & 0 & 0 \\\\ 0 & 1 & 0 \\\\ 2 & 0 & 1 \\end{bmatrix},\n",
    "$$\n",
    "while the inverse operation is given by\n",
    "$$\n",
    "L = \\begin{bmatrix}1 & 0 & 0 \\\\ 0 & 1 & 0 \\\\ -2 & 0 & 1 \\end{bmatrix},\n",
    "$$\n",
    "and you can verify that $L = E^{-1}$. You can also verify similarly for permutation matrices with exactly one interchange \n",
    "$$\n",
    "P = \\begin{bmatrix} 0 & 1 & 0 \\\\ 1 & 0 & 0 \\\\ 0 & 0 & 1 \\end{bmatrix} = P^{-1}.\n",
    "$$\n",
    "\n",
    "```{important}\n",
    "A square matrix has an inverse if and only if it is nonsingular\n",
    "```\n",
    "\n",
    "The above statement will be proved later, but for now think about the scalar analogy. The equation $ax=b$ has a unique solution $x = a^{-1}b$ if and only if $a \\neq 0$. Similarly, $A \\textbf{x} = \\textbf{b}$ has a unique solution $\\textbf{x} = A^{-1}\\textbf{b}$ if and only if $A^{-1}$ exists.\n",
    "\n",
    "```{note} Properties\n",
    "1. The inverse of a square matrix, if it exists, is unique.\n",
    "2. If $A$ is invertible, so is $A^{-1}$ and $\\left(A^{-1}\\right)^{-1} = A$.\n",
    "3. If $A$ and $B$ are invertible matrices of the same size, then their product $AB$ is also invertible, and\n",
    "$$\n",
    "(AB)^{-1} = B^{-1}A^{-1} \\\\ \\textbf{order is reversed!}\n",
    "$$\n",
    "We have to undo transformations in the right order.\n",
    "$$\n",
    "\\textbf{x} \\xrightarrow{B} B \\textbf{x} \\xrightarrow{A} AB\\textbf{x} \\xrightarrow{A^{-1}} A^{-1}AB\\textbf{x} = B\\textbf{x} \\xrightarrow{B^{-1}} B^{-1}B\\textbf{x} = \\textbf{x}\n",
    "$$\n",
    "```"
   ]
  },
  {
   "cell_type": "markdown",
   "id": "8525c0cb-a973-4e86-8d3b-b77ea2c1235b",
   "metadata": {
    "editable": true,
    "slideshow": {
     "slide_type": ""
    },
    "tags": []
   },
   "source": [
    "## Worked examples"
   ]
  },
  {
   "cell_type": "markdown",
   "id": "6ceffd52-56eb-4625-8fbc-e4696a69e3f4",
   "metadata": {},
   "source": [
    "````{exercise}  TODO\n",
    ":label: row-reduce-ex1\n",
    "Write me\n",
    ":::{hint} Click me for a hint!\n",
    ":class: dropdown\n",
    "Write me\n",
    "\n",
    ":::\n",
    "```{solution} my-exercise\n",
    ":class: dropdown\n",
    "Write me\n",
    "```\n",
    "````"
   ]
  },
  {
   "cell_type": "markdown",
   "id": "2c6493b5-6b12-415a-a159-646579661219",
   "metadata": {},
   "source": [
    "````{exercise}  TODO\n",
    ":label: row-reduce-ex1\n",
    "Write me\n",
    ":::{hint} Click me for a hint!\n",
    ":class: dropdown\n",
    "Write me\n",
    "\n",
    ":::\n",
    "```{solution} my-exercise\n",
    ":class: dropdown\n",
    "Write me\n",
    "```\n",
    "````"
   ]
  },
  {
   "cell_type": "code",
   "execution_count": 1,
   "id": "7c9e2d87-ca3c-4d8e-a3c4-4d0c16c47509",
   "metadata": {},
   "outputs": [
    {
     "name": "stdout",
     "output_type": "stream",
     "text": [
      "A_2_inv: \n",
      " [[ 1.  2.]\n",
      " [-0. -1.]] \n",
      "A_inv: \n",
      " [[ 1. -2.  0.]\n",
      " [-0.  1. -0.]\n",
      " [ 0.  3.  1.]]\n",
      "\n",
      "Checking inverses: \n",
      " [[1. 0.]\n",
      " [0. 1.]] \n",
      " [[1. 0. 0.]\n",
      " [0. 1. 0.]\n",
      " [0. 0. 1.]]\n"
     ]
    }
   ],
   "source": [
    "# Matrix inverse\n",
    "\n",
    "import numpy as np\n",
    "from scipy.linalg import lu\n",
    "\n",
    "A_2 = np.array([[1, 2],\n",
    "              [0, -1]])\n",
    "\n",
    "A = np.array([[1, 2, 0],\n",
    "              [0, 1, 0],\n",
    "              [0, -3, 1]])\n",
    "\n",
    "A_2_inv = np.linalg.inv(A_2)\n",
    "A_inv = np.linalg.inv(A)\n",
    "print(\"A_2_inv: \\n\", A_2_inv, \"\\nA_inv: \\n\", A_inv)\n",
    "print(\"\\nChecking inverses: \\n\", A_2_inv @ A_2, \"\\n\", A @ A_inv)"
   ]
  },
  {
   "cell_type": "code",
   "execution_count": 2,
   "id": "e987c5fb-0090-46fe-8347-f283fe46d853",
   "metadata": {},
   "outputs": [
    {
     "name": "stdout",
     "output_type": "stream",
     "text": [
      "\n",
      "Inverse of product: \n",
      " [[ 1.         -2.66666667  0.        ]\n",
      " [-0.          0.33333333 -0.        ]\n",
      " [-1.          6.66666667  1.        ]] \n",
      "Product of inverses:\n",
      " [[ 1.         -2.66666667  0.        ]\n",
      " [ 0.          0.33333333  0.        ]\n",
      " [-1.          6.66666667  1.        ]]\n"
     ]
    }
   ],
   "source": [
    "# Inverse of the product\n",
    "\n",
    "B = np.array([[1, 2, 0],\n",
    "              [0, 3, 0],\n",
    "              [1, -3, 1]])\n",
    "\n",
    "B_inv = np.linalg.inv(B)\n",
    "\n",
    "AB_inv = np.linalg.inv(A@B)\n",
    "print(\"\\nInverse of product: \\n\", AB_inv, \"\\nProduct of inverses:\\n\", B_inv @ A_inv)"
   ]
  },
  {
   "cell_type": "markdown",
   "id": "486bd141-e390-44ec-ab7f-a40e1d4b9ff6",
   "metadata": {},
   "source": [
    "## Gauss Jordan Elimination\n",
    "\n",
    "Gauss Jordan Elimination (GJE) is the principal algorithm for computing inverses of a nonsingular matrix. \n",
    "\n",
    "```{important}\n",
    "For a square matrix $A$, we only need to solve the _right inverse_ $AX = I$, since the _left inverse_ $XA = I$ is an automatic consequence.\n",
    "```\n",
    "\n",
    "```{note}\n",
    "Some matrices may satsify only one of the two conditions: either a right inverse $AX = I$ or a left inverse $XA = I$. For a non-square matrix, the same $X$ cannot satisfy $AX = XA = I$ (check dimensions). Hence, we emphasize that for $X$ to be an inverse of $A$, both left and right inverse conditions should be satisfied. \n",
    "```\n",
    "\n",
    "We focus on the identity matrix which is the result after multiplying a matrix with its inverse. We define the $n \\times 1$ _unit vectors_ $\\textbf{e}_i$:\n",
    "$$\n",
    "\\textbf{e}_1 = \\begin{bmatrix} 1 \\\\ 0 \\\\ 0 \\\\ \\vdots \\\\ 0 \\end{bmatrix}, \\ \\textbf{e}_2 = \\begin{bmatrix} 0 \\\\ 1 \\\\ 0 \\\\ \\vdots \\\\ 0 \\end{bmatrix}, \\cdots, \\ \\textbf{e}_n = \\begin{bmatrix} 0 \\\\ 0 \\\\ \\vdots \\\\ 1 \\end{bmatrix}\n",
    "$$\n",
    "as the vectors with exactly one entry of $1$ in the $i^{th}$ position and zeros elsewhere. The vectors $\\textbf{e}_i$ are the columns of the identity matrix $I_n$:\n",
    "$$\n",
    "I_n = \\begin{bmatrix} \\textbf{e}_1 & \\textbf{e}_2 & \\cdots & \\textbf{e}_n \\end{bmatrix}\n",
    "$$\n",
    "Hence, the right inverse equation can be written as\n",
    "$$\n",
    "AX = I \\Leftrightarrow A \\begin{bmatrix} \\textbf{x}_1 & \\textbf{x}_2 & \\cdots & \\textbf{x}_n \\end{bmatrix} = \\begin{bmatrix} \\textbf{e}_1 & \\textbf{e}_2 & \\cdots & \\textbf{e}_n \\end{bmatrix} \\Leftrightarrow A\\textbf{x}_1 = \\textbf{e}_1, A\\textbf{x}_2 = \\textbf{e}_2, \\cdots, A\\textbf{x}_n = \\textbf{e}_n\n",
    "$$\n",
    "\n",
    "The above set of $n$ linear system of equations have the same coefficient matrix $A$ and hence we can construct the following large augmented matrix $M$.\n",
    "\\begin{equation}\n",
    "\\label{big_augm}\n",
    "M = \\left[ \\begin{array}{c|ccc} A & \\textbf{e}_1 & \\textbf{e}_2 & \\cdots & \\textbf{e}_n  \\end{array}\\right] = \\left[ \\begin{array}{c|c} A & I  \\end{array}\\right].\n",
    "\\end{equation}\n",
    "\n",
    "Applying row operations ([scaling and adding](./023-linsys-gauuss.ipynb#rowop1), [swapping](./024-linsys-perms.ipynb#rowop2)) to [](#big_augm), we can reduce to upper triangular form\n",
    "$$\n",
    "M = \\left[ \\begin{array}{c|c} A & I  \\end{array}\\right] \\leftrightarrow N = \\left[ \\begin{array}{c|c} U & C  \\end{array}\\right].\n",
    "$$\n",
    "Then, we can solve the below set of $n$ linear systems via back substitution.\n",
    "$$\n",
    "U\\textbf{x}_1 = \\textbf{c}_1, U\\textbf{x}_2 = \\textbf{c}_2, \\cdots, U\\textbf{x}_n = \\textbf{c}_n\n",
    "$$\n",
    "\n",
    "For example, consider the following $A$ matrix and the corresponding upper triangular form\n",
    "\\begin{equation}\n",
    "\\label{U_I}\n",
    "A = \\begin{bmatrix}0 & 2 & 1 \\\\ 2 & 6 & 1 \\\\ 1 & 1 & 4 \\end{bmatrix} \\Rightarrow M =  \n",
    "\\left[ \\begin{array}{ccc|ccc} 0 & 2 & 1 & 1 & 0 & 0 \\\\ 2 & 6 & 1 & 0 & 1 & 0 \\\\ 1 & 1 & 4 & 0 & 0 & 1 \\end{array}\\right] \\leftrightarrow N = \\left[ \\begin{array}{ccc|ccc} 2 & 6 & 1 & 0 & 1 & 0 \\\\ 0 & 2 & 1 & 1 & 0 & 0 \\\\ 0 & 0 & \\frac{9}{2} & 1 & -\\frac{1}{2} & 1 \\end{array}\\right].\n",
    "\\end{equation}\n",
    "A mot common version of GJE continues to apply row operations and fully reduce the augmented matrix to the form $\\left[ \\begin{array}{c|c} I & X  \\end{array}\\right]$ so that $X$ is the inverse of $A$. However, in our current form $\\left[ \\begin{array}{c|c} U & C  \\end{array}\\right] $, the diagonal pivots of $U$ are not $1$. \n",
    "```{prf:observation} Elementary Row Operation \\#3\n",
    ":label: rowop3\n",
    "Multiplying a row of the augmented matrix by a nonzero scalar yields an equivalent linear system.\n",
    "```\n",
    "The [scaling operation](#rowop3) on $N$ in [](#U_I) reduces the augmented matrix to\n",
    "\\begin{equation}\n",
    "\\label{V}\n",
    "N = \\left[ \\begin{array}{ccc|ccc} 2 & 6 & 1 & 0 & 1 & 0 \\\\ 0 & 2 & 1 & 1 & 0 & 0 \\\\ 0 & 0 & \\frac{9}{2} & 1 & -\\frac{1}{2} & 1 \\end{array}\\right] \\leftrightarrow \\left[ \\begin{array}{c|c} V & B \\end{array}\\right] = \\left[ \\begin{array}{ccc|ccc} 1 & 3 & \\frac{1}{2} & 0 & \\frac{1}{2} & 0 \\\\ 0 & 1 & \\frac{1}{2} & \\frac{1}{2} & 0 & 0 \\\\ 0 & 0 & 1 & \\frac{2}{9} & -\\frac{1}{9} & \\frac{2}{9} \\end{array}\\right],\n",
    "\\end{equation}\n",
    "\n",
    "where we divide each row by its corresponding pivot. Now, to make $V$ identity, we perform row operations starting from $(2, 3)$ since we need to make the upper triangular entries $0$.\n",
    "\\begin{equation}\n",
    "\\label{I_X}\n",
    "\\left[ \\begin{array}{c|c} V & B \\end{array}\\right] = \\left[ \\begin{array}{ccc|ccc} 1 & 3 & \\frac{1}{2} & 0 & \\frac{1}{2} & 0 \\\\ 0 & 1 & \\frac{1}{2} & \\frac{1}{2} & 0 & 0 \\\\ 0 & 0 & 1 & \\frac{2}{9} & -\\frac{1}{9} & \\frac{2}{9} \\end{array}\\right] \\leftrightarrow \\left[ \\begin{array}{ccc|ccc} 1 & 0 & 0 & -\\frac{23}{18} & \\frac{7}{18} & \\frac{2}{9} \\\\ 0 & 1 & 0 & \\frac{7}{18} & \\frac{1}{18} & -\\frac{1}{9} \\\\ 0 & 0 & 1 & \\frac{2}{9} & -\\frac{1}{9} & \\frac{2}{9} \\end{array}\\right]\n",
    "\\end{equation}\n",
    "Finally, the right-hand matrix in [](#I_X) is the inverse of $A$:\n",
    "$$\n",
    "A^{-1} = \\left[ \\begin{array}{ccc}  -\\frac{23}{18} & \\frac{7}{18} & \\frac{2}{9} \\\\  \\frac{7}{18} & \\frac{1}{18} & -\\frac{1}{9} \\\\  \\frac{2}{9} & -\\frac{1}{9} & \\frac{2}{9} \\end{array}\\right]\n",
    "$$\n",
    "\n",
    ":::{hint} Think!\n",
    ":class: dropdown\n",
    "What is the [elementary matrix](./023a-linsys-LU.ipynb#elementary) corresponding to the [scaling operation](#row-op3)? Start from the identity matrix as before."
   ]
  }
 ],
 "metadata": {
  "jupytext": {
   "cell_metadata_filter": "-all",
   "main_language": "python"
  },
  "kernelspec": {
   "display_name": "Python 3 (ipykernel)",
   "language": "python",
   "name": "python3"
  },
  "language_info": {
   "codemirror_mode": {
    "name": "ipython",
    "version": 3
   },
   "file_extension": ".py",
   "mimetype": "text/x-python",
   "name": "python",
   "nbconvert_exporter": "python",
   "pygments_lexer": "ipython3",
   "version": "3.8.19"
  }
 },
 "nbformat": 4,
 "nbformat_minor": 5
}
