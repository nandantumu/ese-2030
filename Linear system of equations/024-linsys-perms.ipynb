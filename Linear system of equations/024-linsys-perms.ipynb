{
 "cells": [
  {
   "cell_type": "markdown",
   "id": "fd7554ca-5ac4-4958-b713-648e3fd54114",
   "metadata": {
    "editable": true,
    "slideshow": {
     "slide_type": ""
    },
    "tags": []
   },
   "source": [
    "---\n",
    "title: The Permuted LU-Factorization\n",
    "subject:  Linear System of Equations\n",
    "subtitle: Let's mix things up a little\n",
    "short_title: Permuted LU-Factorization\n",
    "authors:\n",
    "  - name: Nikolai Matni\n",
    "    affiliations:\n",
    "      - Dept. of Electrical and Systems Engineering\n",
    "      - University of Pennsylvania\n",
    "    email: nmatni@seas.upenn.edu\n",
    "license: CC-BY-4.0\n",
    "keywords: systems of linear equations, permutation matrices, interchanging rows\n",
    "---"
   ]
  },
  {
   "cell_type": "markdown",
   "id": "efca8556-3e7f-4f1c-b466-04f0e14b12e5",
   "metadata": {
    "jp-MarkdownHeadingCollapsed": true
   },
   "source": [
    "## Reading\n",
    "Material related to this page, as well as additional exercises, can be found in ALA Ch. 1.4, LAA Ch 2.5, and ILA Ch. 2.4.  These notes are mostly based on ALA Ch 1.4."
   ]
  },
  {
   "cell_type": "markdown",
   "id": "170438e7",
   "metadata": {},
   "source": [
    "## Learning Objectives\n",
    "\n",
    "By the end of this page, you should know:\n",
    "- how to solve linear equations if $A$ is not regular\n",
    "- what are permutation matrices\n",
    "- how to use permuted LU factorization"
   ]
  },
  {
   "cell_type": "markdown",
   "id": "ebd6aeff-4ad9-42b7-9fb4-a82ada3e07b6",
   "metadata": {
    "editable": true,
    "slideshow": {
     "slide_type": ""
    },
    "tags": []
   },
   "source": [
    "## Interchanging rows\n",
    "\n",
    "The method of Gaussian Elimination works only if the matrices are regular[^regular]. However, not every matrix is regular as given in the example below.\n",
    "\n",
    "[^regular]: We'll call a square matrix $A$ _regular_ if Gaussian Elimination successfully reduces $A$ to the upper triangular form $U$ with all nonzero pivots on the diagonal.  If this fails to happen, i.e., if a pivot appearing on the diagonal is zero, then the matrix is not regular.\n",
    "\n",
    "\\begin{eqnarray}\n",
    "\\label{non_regular}\n",
    "2y + z & = 2,\\\\\n",
    "2x +6y + z & = 7,\\\\\n",
    "x+y+4z & =3,\n",
    "\\end{eqnarray}\n",
    "\n",
    "The augmented coefficient matrix for the above set of equations is\n",
    "\n",
    "\\begin{equation}\n",
    "\\label{augm}\n",
    "\\left[ \\begin{array}{ccc|c} 0 & 2 & 1 & 2\\\\ 2& 6 & 1 & 7\\\\ 1 & 1 & 4 & 3 \\end{array}\\right].\n",
    "\\end{equation}\n",
    "\n",
    "In the above example, the entry $(1,1)$ is 0, which is the first diagonal element, but cannot serve as a pivot. The \"problem\" is because $x$ does not appear in the first equation, but this is actually a bonus because we already have an equation that has only two variables in it. Hence, we need to eliminate $x$ from only one of the other two equations. Let us interchange the first two rows of [](#augm):\n",
    "\n",
    "\\begin{equation}\n",
    "\\label{augm_swap}\n",
    "\\left[ \\begin{array}{ccc|c}  2& 6 & 1 & 7\\\\ 0 & 2 & 1 & 2\\\\ 1 & 1 & 4 & 3 \\end{array}\\right],\n",
    "\\end{equation}\n",
    "\n",
    "which clearly does not change the solution set, but now we have a pivot at $(1,1)$ and $(2,2)$. Interchanging the first and second row is equivalent to swapping the first and second equation. Now, we can proceed as in Gaussian Elimination to zero out $(3, 1)$ and $(3, 2)$ using [elementary row operations](./023-linsys-gauuss.ipynb#rowop1) to get  \n",
    "\n",
    "\\begin{equation}\n",
    "\\label{augm_swap}\n",
    "\\left[ \\begin{array}{c|c}  U &  \\textbf{c} \\end{array}\\right] = \n",
    "\\left[ \\begin{array}{ccc|c}  2& 6 & 1 & 7\\\\ 0 & 2 & 1 & 2\\\\ 0 & 0 & \\frac{9}{2} & \\frac{3}{2} \\end{array}\\right].\n",
    "\\end{equation}\n",
    "\n",
    "The pivots are $2, 2, \\frac{9}{2}$ and solving via back substitution yields the solution $x=\\frac{5}{6}, y = \\frac{5}{6}, z = \\frac{1}{3}$. We observe the swapping operation as another elementary row operation, in addition to [type 1](./023-linsys-gauuss.ipynb#rowop1).\n",
    "\n",
    "```{prf:observation} Elementary Row Operation \\#2\n",
    ":label: rowop2\n",
    "Interchanging two rows of the augmented matrix $M$ is the equivalent of swapping two equations in the system of linear equations it defines. As such, this does not change the solution set and leads to an equivalent augmented matrix.\n",
    "```\n",
    "\n",
    "So far, we have worked with matrices than can be reduced to upper triangular form with all non-zero diagonals, which is formally defined below.\n",
    "\n",
    "```{prf:definition} Nonsingular\n",
    ":label: nonsingular\n",
    "A square matrix is called _nonsingular_ if it can be reduced to upper triangular form with all non-zero elements on the diagonal — the pivots — by elementary row operations of types [1](./023-linsys-gauuss.ipynb#rowop1) and [2](#rowop2).\n",
    "```\n",
    "\n",
    "In contrast, a singular square matrix cannot be reduced to such upper triangular form\n",
    "by such row operations, because at some stage in the elimination procedure the diagonal\n",
    "entry and all the entries below it are zero. \n",
    "\n",
    "```{warning}\n",
    ":label: nonsingular_regular\n",
    "Every regular matrix is nonsingular, but, as we just saw, not every nonsingular matrix is regular.\n",
    "```\n",
    "\n",
    "```{prf:theorem} Uniqueness of solution\n",
    ":label: uniqueness\n",
    "A linear system $A \\textbf{x} = \\textbf{b}$ has a unique solution for every choice of right-hand side $b$ if and only if its coeﬃcient matrix $A$ is square and [nonsingular](#nonsingular).\n",
    "```\n",
    "We are able to prove the “if” part of this theorem, since nonsingularity implies reduction\n",
    "to an equivalent upper triangular form that has the same solutions as the original system.\n",
    "The unique solution to the system is then found by back substitution. The “only if” part will be proved later."
   ]
  },
  {
   "cell_type": "markdown",
   "id": "dfebd67e-0243-4689-b5a6-bc60b3414c21",
   "metadata": {},
   "source": [
    "## Small Pivots cause numerical issues\n",
    "\n",
    "Consider the example\n",
    "\n",
    "\\begin{eqnarray}\n",
    "\\label{small_pivot}\n",
    "0.01x +1.6y & = 32.1,\\\\\n",
    "x+0.6y & = 22,\n",
    "\\end{eqnarray}\n",
    "\n",
    "where, the exact solution is $x=10, y=20$ (verify for yourself). Let us assume we have a calculator that only retains three digits. The actual augmented matrix is given below after making it upper triangular.\n",
    "\n",
    "\\begin{equation} \n",
    "\\left[ \\begin{array}{cc|c}  .01 & 1.6 & 32.1\\\\ 1 & .6 & 22 \\end{array}\\right] \\leftrightarrow \n",
    "\\left[ \\begin{array}{cc|c}  .01 & 1.6 & 32.1\\\\ 0 & -159.4 & -3188 \\end{array}\\right].\n",
    "\\end{equation}\n",
    "\n",
    "Since the calculator only retains three digits, the matrix computed by the calculator is\n",
    "\\begin{equation} \n",
    "\\label{small_pivot_augm} \n",
    "\\left[ \\begin{array}{cc|c}  .01 & 1.6 & 32.1\\\\ 0 & -159 & -319 \\end{array}\\right].\n",
    "\\end{equation}\n",
    "\n",
    "Solving by back substitution using [](#small_pivot_augm) is $y = \\frac{-3190}{159} \\approx 20.1 \\Rightarrow x \\approx -10$. Hence, a small error in $y$, i.e,  0.1, produces a large error in $x$! The problem is because of the small pivot $0.01$ at $(1,1)$. The small error in $y$ is scaled up when evaluating the first equation, where we have to divide the exression by the small pivot $0.01$. If we interchanged the rows so that the pivot is $1$ and proceed from there via Gauss Elimination, the approximate solution is ${y \\approx 20.1, x \\approx 9.9}$.\n",
    "\n",
    "```{tip}\n",
    ":label: interchange_small_pivot\n",
    "Small pivots cause issues in numerical computations. Use row interchanges to avoid small pivots.\n",
    "```\n",
    "\n",
    "```{note}\n",
    ":label: finite_digits\n",
    "Computers have much higher capacity to retain digits, but still finite. Similar numerical issues arise in computers as well. \n",
    "```"
   ]
  },
  {
   "cell_type": "markdown",
   "id": "4d47473f-4b98-412f-9fa8-8dfc38dc8296",
   "metadata": {},
   "source": [
    "## Permutation matrices\n",
    "\n",
    "Similar to how [type 1 operations](./023-linsys-gauuss.ipynb#rowop1) are represented using [elementary matrices](./023a-linsys-LU.ipynb#elementary), we can represent [type 2 operations](rowop2) using _permutation matrices_. \n",
    "\n",
    "```{prf:definition} Permutation matrices\n",
    ":label: perm_matrix\n",
    "A permutation matrix is a matrix obtained from the identity matrix by _any_ combination of row interchanges.\n",
    "```\n",
    "\n",
    "For example, to swap rows 1 and 2 of the matrix $A$, we left multiply $A$ by $P$ as follows.\n",
    "\n",
    "\\begin{equation} \n",
    "\\label{perm_matrix} \n",
    "A = \\begin{bmatrix}\n",
    "1 & 2 & 3 \\\\\n",
    "4 & 5 & 6 \\\\\n",
    "7 & 8 & 9\n",
    "\\end{bmatrix}, P = \\begin{bmatrix}\n",
    "0 & 1 & 0 \\\\\n",
    "1 & 0 & 0 \\\\\n",
    "0 & 0 & 1\n",
    "\\end{bmatrix} \\Rightarrow PA = \\begin{bmatrix}\n",
    "4 & 5 & 6 \\\\\n",
    "1 & 2 & 3 \\\\\n",
    "7 & 8 & 9\n",
    "\\end{bmatrix}\n",
    "\\end{equation}\n",
    "\n",
    "```{note} Also a Permutation matrix\n",
    ":label: perm_matrix_alt\n",
    "A matrix $P$ is a permutation matrix if and only if each row of $P$ contains all $0$ entries except for a single $1$, and, in addition, each column of $P$ also contains all $0$ entries except for a single $1$\n",
    "```\n",
    "\n",
    ":::{important} Properties\n",
    "1. If $P_1, P_2$ are permutation matrices, then their products $P_1P_2, P_2P_1$ are also permutation matrices.\n",
    "2. In general, permutation matrices do not commute $P_1P_2 \\neq P_2P_1$, since the order of swapping matters.\n",
    "3. If $P_1$ is a permutation matrix that swaps exactly one row with another, then $P_1P_1 = I$, because the inverse operation of interchanging two rows is the same original operation. This is **not true** for general permutation matrices that encode multiple swaps. \n",
    ":::"
   ]
  },
  {
   "cell_type": "markdown",
   "id": "d75c14f8-45ce-4627-89a8-b27503907c78",
   "metadata": {},
   "source": [
    "## Permuted LU-factorization\n",
    "\n",
    "From [](#nonsingular), every nonsingular matrix $A$ can be reduced to upper triangular form using [type 1 operations](./023-linsys-gauuss.ipynb#rowop1) and [type 2 operations](rowop2). If we perform all the permutations first using a permutation matrix $P$, then we obtain a [regular matrix](./023a-linsys-LU.ipynb#regular_matrix) $PA$ that admits an $LU$ factorization. Hence we can define the _permuted LU factorization_ of a nonsingular matrix $A$ as\n",
    "\\begin{equation} \n",
    "\\label{perm_LU} \n",
    "PA = LU\n",
    "\\end{equation}\n",
    "\n",
    "Given a permuted LU factorization of the matrix $A$, we can solve the system of equations by first doing forward substitution with $L\\textbf{z}= P\\textbf{b}$ and back substitution with $U\\textbf{x} = \\textbf{z}$. "
   ]
  },
  {
   "cell_type": "markdown",
   "id": "8525c0cb-a973-4e86-8d3b-b77ea2c1235b",
   "metadata": {
    "editable": true,
    "slideshow": {
     "slide_type": ""
    },
    "tags": []
   },
   "source": [
    "## Worked examples"
   ]
  },
  {
   "cell_type": "markdown",
   "id": "6ceffd52-56eb-4625-8fbc-e4696a69e3f4",
   "metadata": {},
   "source": [
    "````{exercise}  TODO\n",
    ":label: row-reduce-ex1\n",
    "Write me\n",
    ":::{hint} Click me for a hint!\n",
    ":class: dropdown\n",
    "Write me\n",
    "\n",
    ":::\n",
    "```{solution} my-exercise\n",
    ":class: dropdown\n",
    "Write me\n",
    "```\n",
    "````"
   ]
  },
  {
   "cell_type": "markdown",
   "id": "2c6493b5-6b12-415a-a159-646579661219",
   "metadata": {},
   "source": [
    "````{exercise}  TODO\n",
    ":label: row-reduce-ex1\n",
    "Write me\n",
    ":::{hint} Click me for a hint!\n",
    ":class: dropdown\n",
    "Write me\n",
    "\n",
    ":::\n",
    "```{solution} my-exercise\n",
    ":class: dropdown\n",
    "Write me\n",
    "```\n",
    "````"
   ]
  },
  {
   "cell_type": "code",
   "execution_count": 1,
   "id": "567468ed-5e61-4134-8e8d-33617206a7e5",
   "metadata": {},
   "outputs": [
    {
     "name": "stdout",
     "output_type": "stream",
     "text": [
      "P: \n",
      " [[0. 1. 0.]\n",
      " [1. 0. 0.]\n",
      " [0. 0. 1.]] \n",
      "L: \n",
      " [[ 1.   0.   0. ]\n",
      " [ 0.   1.   0. ]\n",
      " [ 0.5 -1.   1. ]] \n",
      "U: \n",
      " [[2.  6.  1. ]\n",
      " [0.  2.  1. ]\n",
      " [0.  0.  4.5]]\n"
     ]
    }
   ],
   "source": [
    "# Permuted LU factorization\n",
    "\n",
    "import numpy as np\n",
    "from scipy.linalg import lu\n",
    "\n",
    "A = np.array([[0, 2, 1],\n",
    "              [2, 6, 1],\n",
    "              [1, 1, 4]])\n",
    "P, L, U = lu(A)\n",
    "print(\"P: \\n\", P, \"\\nL: \\n\", L, \"\\nU: \\n\", U)"
   ]
  }
 ],
 "metadata": {
  "jupytext": {
   "cell_metadata_filter": "-all",
   "main_language": "python"
  },
  "kernelspec": {
   "display_name": "Python 3 (ipykernel)",
   "language": "python",
   "name": "python3"
  },
  "language_info": {
   "codemirror_mode": {
    "name": "ipython",
    "version": 3
   },
   "file_extension": ".py",
   "mimetype": "text/x-python",
   "name": "python",
   "nbconvert_exporter": "python",
   "pygments_lexer": "ipython3",
   "version": "3.8.19"
  }
 },
 "nbformat": 4,
 "nbformat_minor": 5
}
