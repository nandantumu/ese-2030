{
 "cells": [
  {
   "cell_type": "markdown",
   "id": "fd7554ca-5ac4-4958-b713-648e3fd54114",
   "metadata": {
    "editable": true,
    "slideshow": {
     "slide_type": ""
    },
    "tags": []
   },
   "source": [
    "---\n",
    "title: The Permuted LU-Factorization\n",
    "subject:  Linear Algebraic Systems\n",
    "subtitle: Let's mix things up a little\n",
    "short_title: Permutations and Permutation Matrices\n",
    "authors:\n",
    "  - name: Nikolai Matni\n",
    "    affiliations:\n",
    "      - Dept. of Electrical and Systems Engineering\n",
    "      - University of Pennsylvania\n",
    "    email: nmatni@seas.upenn.edu\n",
    "license: CC-BY-4.0\n",
    "keywords: systems of linear equations, solution sets, forward elimination, back substitution\n",
    "---"
   ]
  },
  {
   "cell_type": "markdown",
   "id": "efca8556-3e7f-4f1c-b466-04f0e14b12e5",
   "metadata": {
    "jp-MarkdownHeadingCollapsed": true
   },
   "source": [
    "## Reading\n",
    "Material related to this page, as well as additional exercises, can be found in ALA Ch. 1.4, LAA Ch 2.5, and ILA Ch. 2.4.  These notes are mostly based on ALA Ch 1.4."
   ]
  },
  {
   "cell_type": "markdown",
   "id": "170438e7",
   "metadata": {},
   "source": [
    "## Learning Objectives\n",
    "\n",
    "By the end of this page, you should know:\n",
    "- how to solve linear equations if $A$ is not regular\n",
    "- what are permutation matrices\n",
    "- how to use permuted LU factorization"
   ]
  },
  {
   "cell_type": "markdown",
   "id": "ebd6aeff-4ad9-42b7-9fb4-a82ada3e07b6",
   "metadata": {
    "editable": true,
    "slideshow": {
     "slide_type": ""
    },
    "tags": []
   },
   "source": [
    "## Permutations\n",
    "\n",
    "The method of Gaussian Elimination works only if the matrices are regular[^regular]. However, not every matrix is regular as given in the example below.\n",
    "\n",
    "[^regular]: We'll call a square matrix $A$ _regular_ if Gaussian Elimination successfully reduces $A$ to the upper triangular form $U$ with all nonzero pivots on the diagonal.  If this fails to happen, i.e., if a pivot appearing on the diagonal is zero, then the matrix is not regular.\n",
    "\n",
    "\\begin{eqnarray}\n",
    "\\label{non_regular}\n",
    "2y + z & = 2,\\\\\n",
    "2x +6y + z & = 7,\\\\\n",
    "x+y+4z & =3,\n",
    "\\end{eqnarray}\n",
    "\n",
    "The augmented coefficient matrix for the above set of equations is\n",
    "\n",
    "\\begin{equation}\n",
    "\\label{augm}\n",
    "\\left[ \\begin{array}{ccc|c} 0 & 2 & 1 & 2\\\\ 2& 6 & 1 & 7\\\\ 1 & 1 & 4 & 3 \\end{array}\\right].\n",
    "\\end{equation}\n",
    "\n",
    "In the above example, the entry $(1,1)$ is 0, which is the first diagonal element, but cannot serve as a pivot. The \"problem\" is because $x$ does not appear in the first equation, but this is actually a bonus because we already have an equation that has only two variables in it. Hence, we need to eliminate $x$ from only one of the other two equations. Let us interchange the first two rows of [](#augm):\n",
    "\n",
    "\\begin{equation}\n",
    "\\label{augm_swap}\n",
    "\\left[ \\begin{array}{ccc|c}  2& 6 & 1 & 7\\\\ 0 & 2 & 1 & 2\\\\ 1 & 1 & 4 & 3 \\end{array}\\right],\n",
    "\\end{equation}\n",
    "\n",
    "which clearly does not change the solution set, but now we have a pivot at $(1,1)$ and $(2,2)$. Interchanging the first and second row is equivalent to swapping the first and second equation. Now, we can proceed as in Gaussian Elimination to zero out $(3, 1)$ and $(3, 2)$ using [elementary row operations](./023-linsys-gauuss.ipynb#rowop1) to get  \n",
    "\n",
    "\\begin{equation}\n",
    "\\label{augm_swap}\n",
    "\\left[ \\begin{array}{c|c}  U & c \\end{array}\\right] = \n",
    "\\left[ \\begin{array}{ccc|c}  2& 6 & 1 & 7\\\\ 0 & 2 & 1 & 2\\\\ 0 & 0 & \\frac{9}{2} & \\frac{3}{2} \\end{array}\\right].\n",
    "\\end{equation}\n",
    "\n",
    "The pivots are $2, 2, \\frac{9}{2}$ and solving via back substitution yields the solution $x=\\frac{5}{6}, y = \\frac{5}{6}, z = \\frac{1}{3}$. We observe the swapping operation as another elementary row operation, in addition to [type 1](./023-linsys-gauuss.ipynb#rowop1).\n",
    "\n",
    "```{prf:observation} Elementary Row Operation \\#2\n",
    ":label: rowop2\n",
    "Interchanging two rows of the augmented matrix $M$ is the equivalent of swapping two equations in the system of linear equations it defines. As such, this does not change the solution set and leads to an equivalent augmented matrix.\n",
    "```\n",
    "\n",
    "So far, we have worked with matrices than can be reduced to upper triangular form with all non-zero diagonals, which is formally defined below.\n",
    "\n",
    "```{prf:definition} Nonsingular\n",
    ":label: nonsingular\n",
    "A square matrix is called _nonsingular_ if it can be reduced to upper triangular form with all non-zero elements on the diagonal — the pivots — by elementary row operations of types [1](./023-linsys-gauuss.ipynb#rowop1) and [2](#rowop2).\n",
    "```\n",
    "\n",
    "In contrast, a singular square matrix cannot be reduced to such upper triangular form\n",
    "by such row operations, because at some stage in the elimination procedure the diagonal\n",
    "entry and all the entries below it are zero. \n",
    "\n",
    "```{warning}\n",
    ":label: nonsingular_regular\n",
    "Every regular matrix is nonsingular, but, as we just saw, not every nonsingular matrix is regular.\n",
    "```\n",
    "\n",
    "```{prf:theorem} Uniqueness of solution\n",
    ":label: uniqueness\n",
    "A linear system $A x = b$ has a unique solution for every choice of right-hand side $b$ if and only if its coeﬃcient matrix $A$ is square and [nonsingular](#nonsingular).\n",
    "```\n",
    "We are able to prove the “if” part of this theorem, since nonsingularity implies reduction\n",
    "to an equivalent upper triangular form that has the same solutions as the original system.\n",
    "The unique solution to the system is then found by back substitution. The “only if” part will be proved later."
   ]
  },
  {
   "cell_type": "markdown",
   "id": "8525c0cb-a973-4e86-8d3b-b77ea2c1235b",
   "metadata": {
    "editable": true,
    "slideshow": {
     "slide_type": ""
    },
    "tags": []
   },
   "source": [
    "## Worked examples"
   ]
  },
  {
   "cell_type": "markdown",
   "id": "6ceffd52-56eb-4625-8fbc-e4696a69e3f4",
   "metadata": {},
   "source": [
    "````{exercise}  TODO\n",
    ":label: row-reduce-ex1\n",
    "Write me\n",
    ":::{hint} Click me for a hint!\n",
    ":class: dropdown\n",
    "Write me\n",
    "\n",
    ":::\n",
    "```{solution} my-exercise\n",
    ":class: dropdown\n",
    "Write me\n",
    "```\n",
    "````"
   ]
  },
  {
   "cell_type": "markdown",
   "id": "2c6493b5-6b12-415a-a159-646579661219",
   "metadata": {},
   "source": [
    "````{exercise}  TODO\n",
    ":label: row-reduce-ex1\n",
    "Write me\n",
    ":::{hint} Click me for a hint!\n",
    ":class: dropdown\n",
    "Write me\n",
    "\n",
    ":::\n",
    "```{solution} my-exercise\n",
    ":class: dropdown\n",
    "Write me\n",
    "```\n",
    "````"
   ]
  },
  {
   "cell_type": "markdown",
   "id": "10d74d88-58e1-41a8-9d89-e2de2c9e6edd",
   "metadata": {},
   "source": []
  }
 ],
 "metadata": {
  "jupytext": {
   "cell_metadata_filter": "-all",
   "main_language": "python"
  },
  "kernelspec": {
   "display_name": "Python 3 (ipykernel)",
   "language": "python",
   "name": "python3"
  },
  "language_info": {
   "codemirror_mode": {
    "name": "ipython",
    "version": 3
   },
   "file_extension": ".py",
   "mimetype": "text/x-python",
   "name": "python",
   "nbconvert_exporter": "python",
   "pygments_lexer": "ipython3",
   "version": "3.8.19"
  }
 },
 "nbformat": 4,
 "nbformat_minor": 5
}
