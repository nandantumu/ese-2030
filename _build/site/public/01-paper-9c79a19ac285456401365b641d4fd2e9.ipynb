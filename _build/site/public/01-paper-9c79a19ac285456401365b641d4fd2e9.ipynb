{
 "cells": [
  {
   "cell_type": "markdown",
   "id": "fd7554ca-5ac4-4958-b713-648e3fd54114",
   "metadata": {},
   "source": [
    "---\n",
    "title: A guide to using this book\n",
    "subject: How-to\n",
    "subtitle: Interactive and responsive lecture notes\n",
    "short_title: How to use this book\n",
    "authors:\n",
    "  - name: Nikolai Matni\n",
    "    affiliations:\n",
    "      - Dept. of Electrical and Systems Engineering\n",
    "      - University of Pennsylvania\n",
    "    email: nmatni@seas.upenn.edu\n",
    "license: CC-BY-4.0\n",
    "keywords: sample notes, ese 2030, linear algebra\n",
    "abstract: |\n",
    "    This page previews some of the functionality of this online textbook.  Don't be afraid to click, hover over, and otherwise explore the contents of this page.  And don't worry, whenever we come across a new functionality in the main text for the first time, we'll remind you how to use it.\n",
    "---"
   ]
  },
  {
   "cell_type": "markdown",
   "id": "170438e7",
   "metadata": {},
   "source": [
    "## Ways to get your attention!\n",
    "\n",
    "To make these notes more pleasant to read and easy to follow, we'll use different kinds of environments to focus your attention on key results or definitions, warn about pitfalls, include worked examples, etc.  We show a few examples here that you'll come across as you read through this book. First, we'll highlight important facts or key takeaways with a _quote_ environment:\n",
    "\n",
    "> Mitochondria are the powerhouse of the cell\n",
    "\n",
    "Sometimes, when we want to make something even more eye-catching, we'll use a _pull-quote_:\n",
    "\n",
    ":::{pull-quote}\n",
    "Linear algebra is the powerhouse of modern science and engineering.\n",
    ":::\n",
    "\n",
    "Of course, quotes are nice, but sometimes, we really want a pop of color.  For example, here's a tip:\n",
    "\n",
    "(apple)= \n",
    ":::{tip}\n",
    "An apple a day keeps the doctor away!\n",
    ":::"
   ]
  },
  {
   "cell_type": "markdown",
   "id": "89561d6f-8a8c-4bae-a05b-87d7fc88dc4e",
   "metadata": {},
   "source": [
    "If something is really important, we'll make sure to highlight that too:\n",
    ":::{important}\n",
    "In linear algebra, _concepts_ and _computation_ are equally important.\n",
    ":::\n",
    "\n",
    "Sometimes we'll need to _warn_ you of common pitfalls:\n",
    "\n",
    ":::{warning}\n",
    "This course can be challenging at times, but it is potentially the most wortwhile undergraduate math class you'll take.\n",
    ":::\n",
    "\n",
    "And in case of extreme risks, we'll alert you of danger!\n",
    "````{danger}\n",
    ":name: divide-by-zero\n",
    "Dividing by zero can get you into some serious trouble, just ask this guy:\n",
    "```{image} divide_by_zero.png\n",
    ":alt: He divided by zero\n",
    ":width: 250px\n",
    ":align: center\n",
    "```\n",
    "````\n",
    "\n",
    "Linear algebra can be overwhelming at first, as you will have to learn and remember a lot of new concepts.  To help with this, we'll make use of _hover cards_ to remind you of key definitions, theorems, and [tips 🍎](#apple). "
   ]
  },
  {
   "cell_type": "markdown",
   "id": "3b7618b1-97c9-4576-8c76-6a388a8b0e09",
   "metadata": {},
   "source": [
    "## A sample worked example\n",
    "\n",
    "Concepts intoduced in this class will sometimes seem abstract at first, but we'll always make sure to show you how to use them via worked examples.  All worked examples will come with both hints (in case you're stuck but don't want a full solution) and solutions.\n",
    "\n",
    "````{exercise}  My first system of linear equations\n",
    ":label: my-exercise\n",
    "Find the solution to the following system of linear equations\n",
    "\\begin{eqnarray}\n",
    "\\label{eq:linsys}\n",
    "x_1 - 2x_2 & = -1 \\\\\n",
    "-x_1 + 3x_2 & = 3\n",
    "\\end{eqnarray}\n",
    ":::{hint} Click me for a hint!\n",
    ":class: dropdown\n",
    "Try adding the two equations of [](#eq:linsys) together to eliminate $x_1$.[^note]\n",
    "\n",
    "[^note]: By the way, did you try hovering over the equation number?\n",
    ":::\n",
    "```{solution} my-exercise\n",
    ":class: dropdown\n",
    "Adding the two equations of [](#eq:linsys) gives us that $x_2 = 2$, which we plug back into $x_1 - 2x_2 = -1$ to conclude that $x_1=3$.  We conclude that the system of linear equations [](#eq:linsys) has a unique solution $(3,2)$.\n",
    "```\n",
    "````"
   ]
  },
  {
   "cell_type": "markdown",
   "id": "e26bdb53-3bb2-4dd6-94e3-b17d4b294785",
   "metadata": {},
   "source": [
    "## Definitions and theorems (and proofs)\n",
    "\n",
    "This is a math class designed for engineers by engineers, but it is still a math class, which means that we'll be introducing new concepts through definitions, and telling you about the properties that they enjoy through theorems.  Although this class does not focus on proofs, and we will never ask you to prove something in homework or exam questions, we still provide you with the proofs in case you're curious.  Those of you who think you may want to pursue more theoretical work in the future are strongly encouraged to take a look at these!\n",
    "\n",
    "To highlight some of the useful features of the online textbook format, we'll introduce a very important definitions that we'll work with a lot this semester, _linear dependence_ and _linear independence_.\n",
    "\n",
    ":::{prf:definition} Linear dependence\n",
    ":label: def-lindep\n",
    "A sequence of vectors $\\mathbf{v}_1, \\mathbf{v}_2, \\dots, \\mathbf{v}_k$ from a vector space $\\mathcal{V}$ is said to be _linearly dependent_, if there exist scalars $a_1, a_2, \\dots, a_k,$ not all zero, such that\n",
    "$$\n",
    "\\label{eq-lindep}\n",
    "a_1\\mathbf{v}_1 + a_2\\mathbf{v}_2 + \\cdots + a_k\\mathbf{v}_k = \\mathbf{0},\n",
    "$$\n",
    "where $\\mathbf{0}$ denotes the zero vector.\n",
    ":::\n",
    "\n",
    ":::{prf:definition} Linear independence\n",
    ":label: def-linindep\n",
    "A sequence of vectors $\\mathbf{v}_1, \\mathbf{v}_2, \\dots, \\mathbf{v}_k$ from a vector space $\\mathcal{V}$ is said to be _linearly independent_, if they are not [linearly dependent](#def-lindep), i.e.,\n",
    "$$\n",
    "a_1\\mathbf{v}_1 + a_2\\mathbf{v}_2 + \\cdots + a_k\\mathbf{v}_k = \\mathbf{0},\n",
    "$$\n",
    "only if $a_1=a_2=\\cdots=a_k=0$.\n",
    ":::\n",
    "\n",
    "Notice that if you put your cursor over [linearly dependent](#def-lindep) in the above, the definition appears in a hover card.  In general, any link that cross-references a prior definition, theorem, equation, figure, etc. is equipped with such a hover card.  This can come in really handy while you're still getting familiar with new concepts! \n",
    "\n",
    ":::{prf:theorem} Unique coefficients\n",
    ":label: thm-coeffs\n",
    "Suppose a vector $\\mathbf{x}$ is a combination of [linearly independent](#def-linindep) vectors $\\mathbf{v}_1, \\mathbf{v}_2, \\dots, \\mathbf{v}_k$:\n",
    "$$\n",
    "\\label{rep1}\n",
    "\\mathbf{x}=a_1\\mathbf{v}_1 + a_2\\mathbf{v}_2 + \\cdots + a_k\\mathbf{v}_k.\n",
    "$$\n",
    "Then the coefficients $\\{a_i\\}_{i=1}^k$ are unique, i.e., if \n",
    "$$\n",
    "\\label{rep2}\n",
    "\\mathbf{x}=b_1\\mathbf{v}_1 + b_2\\mathbf{v}_2 + \\cdots + b_k\\mathbf{v}_k,\n",
    "$$\n",
    "then $a_i=b_i$ for $i=1,\\dots,k$.\n",
    ":::\n",
    ":::{prf:proof} Proof of [](#thm-coeffs)\n",
    ":label: prf-coeffs\n",
    ":class: dropdown\n",
    "Subtracting equation [](#rep2) from equation [](#rep1), we see that \n",
    "$$\n",
    "(a_1-b_1)\\mathbf{v}_1 + (a_2-b_2)\\mathbf{v}_2 + \\cdots + (a_k-b_k)\\mathbf{v}_k=\\mathbf 0.\n",
    "$$\n",
    "Since the vectors $\\mathbf{v}_1, \\mathbf{v}_2, \\dots, \\mathbf{v}_k$ are [linearly independent](#def-linindep) and the above sums to $\\mathbf 0$, we must have that $a_i-b_i=0$ for $i=1,\\dots,k$.\n",
    ":::"
   ]
  },
  {
   "cell_type": "markdown",
   "id": "8525c0cb-a973-4e86-8d3b-b77ea2c1235b",
   "metadata": {},
   "source": [
    "## _Applying_ linear algebra\n",
    "This class is an _applied linear algebra_ class, which means that you will apply the concepts you learn to exciting applications in engineering and AI.  In order to do this, we'll use <wiki:Python_(programming_language)> to bring the math to life.\n",
    "\n",
    "While we do assume that you have had some exposure to programming (at the level of CIS 1100), we do not assume that you've worked with Python before.  This is not a programming class, and so our strategy will be to give you the minimum background necessary to solve cool problems.  With that in mind, you'll see that code blocks and their outputs, such as the one below, will be integrated throughout the course notes.  \n",
    "\n",
    "Even more exciting is that we've provided you with z\n",
    "\n",
    "[![Binder](https://mybinder.org/badge_logo.svg)](https://mybinder.org/v2/gh/nikolaimatni/ese-2030/HEAD?labpath=01-paper.ipynb)"
   ]
  },
  {
   "cell_type": "code",
   "execution_count": 1,
   "id": "5fe96c1a-f434-4195-ad50-8567313906a9",
   "metadata": {},
   "outputs": [
    {
     "name": "stdout",
     "output_type": "stream",
     "text": [
      "hello, there!\n"
     ]
    }
   ],
   "source": [
    "hello = \"hello\"\n",
    "there = \"there\"\n",
    "phrase = f\"{hello}, {there}!\"\n",
    "print(phrase)"
   ]
  },
  {
   "cell_type": "markdown",
   "id": "0de7db8c-9a28-467d-a658-a6583f6c727c",
   "metadata": {},
   "source": [
    "[2i2c]: https://2i2c.org/\n",
    "[curvenote]: https://curvenote.com\n",
    "[docutils]: https://docutils.sourceforge.io/\n",
    "[executablebooks]: https://executablebooks.org/\n",
    "[jupyterbook]: https://jupyterbook.org/\n",
    "[jupyterlab-myst]: https://github.com/executablebooks/jupyterlab-myst\n",
    "[sphinx]: https://www.sphinx-doc.org/"
   ]
  },
  {
   "cell_type": "code",
   "execution_count": null,
   "id": "a54a957f-0c39-4faa-a302-4d6ed705961d",
   "metadata": {},
   "outputs": [],
   "source": []
  }
 ],
 "metadata": {
  "jupytext": {
   "cell_metadata_filter": "-all",
   "main_language": "python"
  },
  "kernelspec": {
   "display_name": "Python 3 (ipykernel)",
   "language": "python",
   "name": "python3"
  },
  "language_info": {
   "codemirror_mode": {
    "name": "ipython",
    "version": 3
   },
   "file_extension": ".py",
   "mimetype": "text/x-python",
   "name": "python",
   "nbconvert_exporter": "python",
   "pygments_lexer": "ipython3",
   "version": "3.12.3"
  }
 },
 "nbformat": 4,
 "nbformat_minor": 5
}
