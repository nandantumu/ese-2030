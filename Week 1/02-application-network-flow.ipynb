{
 "cells": [
  {
   "cell_type": "markdown",
   "id": "fd7554ca-5ac4-4958-b713-648e3fd54114",
   "metadata": {
    "editable": true,
    "slideshow": {
     "slide_type": ""
    },
    "tags": []
   },
   "source": [
    "---\n",
    "title: Modeling Network Flow using Systems of Equations\n",
    "subject: Applied Linear Algebra\n",
    "subtitle: Interactive and responsive lecture notes\n",
    "short_title: Modeling Network FLow\n",
    "authors:\n",
    "  - name: Renukanandan Tumu\n",
    "    affiliations:\n",
    "      - Dept. of Electrical and Systems Engineering\n",
    "      - University of Pennsylvania\n",
    "    email: nandant@seas.upenn.edu\n",
    "license: CC-BY-4.0\n",
    "keywords: sample notes, ese 2030, linear algebra\n",
    "abstract: |\n",
    "    This page previews some of the functionality of this online textbook.  Don't be afraid to click, hover over, and otherwise explore the contents of this page.  And don't worry, whenever we come across a new functionality in the main text for the first time, we'll remind you how to use it.\n",
    "---"
   ]
  },
  {
   "cell_type": "markdown",
   "id": "170438e7",
   "metadata": {},
   "source": [
    "## What is network flow?\n",
    "\n",
    "We can think about network flow as the flow of traffic through a road network, or water through a grid of pipes. \n",
    "In this section, we will try to answer questions about how much traffic or water moved through specific links in our network, and think about what would happen if we were to modify or delete those links.\n",
    "A key assumption we will make is one of conservation. In the figure below, this means that $x_1+x_2 = 30$\n",
    "\n",
    "```{image} 02-net-flow.png\n",
    ":alt: Network Flow\n",
    ":width: 250px\n",
    ":align: center\n",
    "```"
   ]
  },
  {
   "cell_type": "markdown",
   "id": "89561d6f-8a8c-4bae-a05b-87d7fc88dc4e",
   "metadata": {},
   "source": [
    "## What Linear Algebra tools do we need to model network flow?\n",
    "### Concepts\n",
    "1. Gaussian Elimination / Row Reduction\n",
    "\n",
    "\n",
    "### Computation\n",
    "1. Python\n",
    "1. Numpy"
   ]
  },
  {
   "cell_type": "markdown",
   "id": "3b7618b1-97c9-4576-8c76-6a388a8b0e09",
   "metadata": {},
   "source": [
    "## Small Example\n",
    "\n",
    "```{image} 02-basic-network.png\n",
    ":alt: Simple networks\n",
    ":width: 300px\n",
    ":align: center\n",
    "```\n",
    "\n"
   ]
  },
  {
   "cell_type": "markdown",
   "id": "7477fb95-d986-46b6-85c2-d4930b07965e",
   "metadata": {
    "tags": []
   },
   "source": [
    "> Adapted from LAA by Lay, Lay, and McDonald \n",
    "\n",
    "The system of equations that corresponds to this system is:\n",
    "\n",
    "```{math}\n",
    ":label: simple-system\n",
    "\\begin{align}\n",
    "10 + 40 &= x_2 + x_4 \\\\\n",
    "x_2 + x_3 &= x_1 + 30 \\\\\n",
    "30 + 50 &= x_3 + x_5 \\\\\n",
    "x_5 + x_4 &= 60\n",
    "\\end{align}\n",
    "```\n",
    "The equations model the flow in the intermediate nodes. We can represent this as the matrix below:\n",
    "\n",
    "```{math}\n",
    "\\begin{bmatrix}\n",
    "    0 & 1 & 0 & 1 & 0 & 50 \\\\\n",
    "    -1 & 1 & 1 & 0 & 0 & 30 \\\\\n",
    "    0 & 0 & 1 & 0 & 1 & 80 \\\\\n",
    "    0 & 0 & 0 & 1 & 1 &  60 \\\\\n",
    "\\end{bmatrix}\n",
    "```"
   ]
  },
  {
   "cell_type": "code",
   "execution_count": 6,
   "id": "6e22c20b-d188-4b25-a148-cd123d630ce3",
   "metadata": {
    "editable": true,
    "slideshow": {
     "slide_type": ""
    },
    "tags": []
   },
   "outputs": [],
   "source": [
    "import numpy as np\n",
    "from numpy.linalg import lstsq\n",
    "M = np.array([\n",
    "    [0 , 1 , 0 , 1, 0, 50],\n",
    "    [-1 , 1 , 1 , 0 , 0, 30],\n",
    "    [1 , 0 , 1 , 0 , 1, 80],\n",
    "    [0 , 0 , 0 , 1,   1, 60],\n",
    "])\n",
    "A = M[:,:-1]\n",
    "B = M[:, -1]"
   ]
  },
  {
   "cell_type": "code",
   "execution_count": 10,
   "id": "d9a9a76a-192d-46f8-b082-dc8cb957c08b",
   "metadata": {
    "editable": true,
    "slideshow": {
     "slide_type": ""
    },
    "tags": []
   },
   "outputs": [],
   "source": [
    "x, residuals, rank, s = lstsq(A,B, rcond=None)"
   ]
  },
  {
   "cell_type": "code",
   "execution_count": 11,
   "id": "1a6e2d15-e134-4d8b-afd8-df4b79981baa",
   "metadata": {
    "tags": []
   },
   "outputs": [
    {
     "data": {
      "text/plain": [
       "array([20. , 22.5, 27.5, 27.5, 32.5])"
      ]
     },
     "execution_count": 11,
     "metadata": {},
     "output_type": "execute_result"
    }
   ],
   "source": [
    "x"
   ]
  },
  {
   "cell_type": "markdown",
   "id": "308cbd60-db33-4031-817d-8f7f01e9bb3b",
   "metadata": {},
   "source": [
    "## Penn Engineering Road Network\n",
    "```{image} 02-penn-roads.png\n",
    ":alt: Penn Road Network\n",
    ":width: 400px\n",
    ":align: center\n",
    "```\n"
   ]
  },
  {
   "cell_type": "markdown",
   "id": "a16ae86a-c1ab-4d94-a922-a036964230ea",
   "metadata": {},
   "source": [
    "The above figure shows a road network that looks similar to that around Penn Engineering. We model these road networks the same way, by balancing the inflows and outflows of each node. This yields the following equations:\n",
    "\n",
    "```{math}\n",
    "\\begin{align}\n",
    "60 &= x_1 + x_4 \\\\\n",
    "x_1 + x_5 &= x_2 \\\\ \n",
    "x_2 &= x_6 + x_3 \\\\ \n",
    "x_3 + x_7 = 80 \\\\\n",
    "\n",
    "x_4 + x_8 &= 40 + x_{11} \\\\\n",
    "x_9 + x_{10} &= x_8 + x_5 \\\\\n",
    "x_{10} + x_6 &= x_{11} + x_9 \\\\\n",
    "60 &= x_{10} + x_7 \\\\\n",
    "\n",
    "80 + x_{11} &= x_{12} \\\\\n",
    "x_{12} + x_{11} &= x_{10} + 80\n",
    "\\end{align}\n",
    "```"
   ]
  },
  {
   "cell_type": "markdown",
   "id": "2c2d0b68-a21e-4efe-8891-05f7d694cbf7",
   "metadata": {},
   "source": [
    "This gives us the following matrix\n",
    "```{math}\n",
    "\\begin{bmatrix}\n",
    "    x_1 & x_2 & x_3 & x_4 & x_5 & x_6 & x_7 & x_8 & x_9 & x_{10} & x_{11} & x_{12} & C \\\\\n",
    "    \\hline\n",
    "    1   & 0   & 0   & 1   & 0   & 0   & 0   & 0   & 0   & 0      & 0      & 0      & 60 \\\\\n",
    "    1   & -1  & 0   & 0   & 1   & 0   & 0   & 0   & 0   & 0      & 0      & 0      & 0 \\\\\n",
    "    0   & 1   & -1  & 0   & 0   & -1  & 0   & 0   & 0   & 0      & 0      & 0      & 0 \\\\\n",
    "    0   & 0   & 1   & 0   & 0   & 0   & 1   & 0   & 0   & 0      & 0      & 0      & 80 \\\\\n",
    "\n",
    "    0   & 0   & 0   & 1   & 0   & 0   & 0   & 1   & 0   & 0      & -1     & 0      & 40 \\\\\n",
    "    0   & 0   & 0   & 0   & -1  & 0   & 0   & -1  & 1   & 1      & 0      & 0      & 0 \\\\\n",
    "    0   & 0   & 0   & 0   & 0   & 1   & 0   & 0   & -1  & 1      & -1     & 0      & 0 \\\\\n",
    "    0   & 0   & 0   & 0   & 0   & 0   & -1  & 0   & 0   & -1     & 0      & 0      & 60 \\\\\n",
    "\n",
    "    0   & 0   & 0   & 0   & 0   & 0   & 0   & 0   & 0   & 0      & -1     & 1      & 80 \\\\\n",
    "    0   & 0   & 0   & 0   & 0   & 0   & 0   & 0   & 0   & -1     & 1      & 1      & 80 \\\\\n",
    "\\end{bmatrix}\n",
    "```"
   ]
  },
  {
   "cell_type": "code",
   "execution_count": 53,
   "id": "493a7e23-8fda-491b-a698-e256d196472a",
   "metadata": {
    "tags": []
   },
   "outputs": [],
   "source": [
    "M = np.array(\n",
    "    [\n",
    "        [1, 0, 0, 1, 0, 0, 0, 0, 0, 0, 0, 0, 60],\n",
    "        [1, -1, 0, 0, 1, 0, 0, 0, 0, 0, 0, 0, 0],\n",
    "        [0, 1, -1, 0, 0, -1, 0, 0, 0, 0, 0, 0, 0],\n",
    "        [0, 0, 1, 0, 0, 0, 1, 0, 0, 0, 0, 0, 80],\n",
    "        [0, 0, 0, 1, 0, 0, 0, 1, 0, 0, -1, 0, 40],\n",
    "        [0, 0, 0, 0, -1, 0, 0, -1, 1, 1, 0, 0, 0],\n",
    "        [0, 0, 0, 0, 0, 1, 0, 0, -1, 1, -1, 0, 0],\n",
    "        [0, 0, 0, 0, 0, 0, -1, 0, 0, -1, 0, 0, 60],\n",
    "        [0, 0, 0, 0, 0, 0, 0, 0, 0, 0, -1, 1, 80],\n",
    "        [0, 0, 0, 0, 0, 0, 0, 0, 0, -1, 1, 1, 80],\n",
    "    ]\n",
    ")\n",
    "A = M[:,:-1]\n",
    "B = M[:, -1]"
   ]
  },
  {
   "cell_type": "code",
   "execution_count": 54,
   "id": "38d30cc1-9bcd-4524-ae65-edab7b52cab8",
   "metadata": {
    "tags": []
   },
   "outputs": [],
   "source": [
    "x, residuals, rank, s = lstsq(A,B, rcond=-1)"
   ]
  },
  {
   "cell_type": "code",
   "execution_count": 55,
   "id": "def6ad89-443f-4220-9f64-153e098ae75e",
   "metadata": {
    "tags": []
   },
   "outputs": [
    {
     "data": {
      "text/plain": [
       "array([ 45.84962406,  39.65413534,  60.5112782 ,  26.15037594,\n",
       "       -18.19548872,  -8.85714286,   7.4887218 , -37.89473684,\n",
       "       -12.60150376, -55.4887218 , -39.7443609 ,  52.2556391 ])"
      ]
     },
     "execution_count": 55,
     "metadata": {},
     "output_type": "execute_result"
    }
   ],
   "source": [
    "x"
   ]
  },
  {
   "cell_type": "code",
   "execution_count": 56,
   "id": "87419a43-2461-41f6-9215-e59da87e5f96",
   "metadata": {
    "tags": []
   },
   "outputs": [
    {
     "data": {
      "text/plain": [
       "9"
      ]
     },
     "execution_count": 56,
     "metadata": {},
     "output_type": "execute_result"
    }
   ],
   "source": [
    "rank"
   ]
  },
  {
   "cell_type": "markdown",
   "id": "c42a23df-dd5c-46da-b489-514643f3721a",
   "metadata": {
    "tags": []
   },
   "source": [
    "Uh oh, this is weird, we can't have negative traffic flowing through the system! If we look at the rank of this matrix, it is only 9, even though we have 12 variables. We will learn later in the course that this means that there are infinite solutions to this system.\n",
    "\n",
    "Let's try to get a more plausible solution by using a different solver, which prevents non-negative solutions."
   ]
  },
  {
   "cell_type": "code",
   "execution_count": 65,
   "id": "6908f313-c62f-42f6-9ea2-96151f5df5b6",
   "metadata": {
    "tags": []
   },
   "outputs": [
    {
     "data": {
      "text/plain": [
       "(array([52.30769231, 61.53846154, 70.76923077, 16.92307692,  0.        ,\n",
       "         0.        ,  0.        , 13.84615385,  4.61538462,  0.        ,\n",
       "         0.        , 80.        ]),\n",
       " 64.45033866354896)"
      ]
     },
     "execution_count": 65,
     "metadata": {},
     "output_type": "execute_result"
    }
   ],
   "source": [
    "from scipy.optimize import nnls\n",
    "x = nnls(A,B)\n",
    "x"
   ]
  },
  {
   "cell_type": "markdown",
   "id": "9d121abb-9d0e-491e-a25b-fa55ae2a5d79",
   "metadata": {},
   "source": [
    "## Modeling Road Closures\n",
    "Let's see what happens if we have to shut down $x_4$ due to construction! What will the impact be on the network?"
   ]
  },
  {
   "cell_type": "code",
   "execution_count": 69,
   "id": "dd673f05-2853-4c78-9e9d-b7b1ad29a3ee",
   "metadata": {
    "tags": []
   },
   "outputs": [],
   "source": [
    "M = np.array(\n",
    "    [\n",
    "        [1, 0, 0, 1, 0, 0, 0, 0, 0, 0, 0, 0, 60],\n",
    "        [1, -1, 0, 0, 1, 0, 0, 0, 0, 0, 0, 0, 0],\n",
    "        [0, 1, -1, 0, 0, -1, 0, 0, 0, 0, 0, 0, 0],\n",
    "        [0, 0, 1, 0, 0, 0, 1, 0, 0, 0, 0, 0, 80],\n",
    "        [0, 0, 0, 1, 0, 0, 0, 1, 0, 0, -1, 0, 40],\n",
    "        [0, 0, 0, 0, -1, 0, 0, -1, 1, 1, 0, 0, 0],\n",
    "        [0, 0, 0, 0, 0, 1, 0, 0, -1, 1, -1, 0, 0],\n",
    "        [0, 0, 0, 0, 0, 0, -1, 0, 0, -1, 0, 0, 60],\n",
    "        [0, 0, 0, 0, 0, 0, 0, 0, 0, 0, -1, 1, 80],\n",
    "        [0, 0, 0, 0, 0, 0, 0, 0, 0, -1, 1, 1, 80],\n",
    "\n",
    "        [0, 0, 0, 1, 0, 0, 0, 0, 0, 0, 0, 0, 0],\n",
    "        # [0, 0, 0, 1, 0, 0, 0, 0, 0, 0, 0, 0, 0],\n",
    "        # [0, 0, 0, 0, 0, 0, 0, 0, 0, 0, 1, 0, 0],\n",
    "    ]\n",
    ")\n",
    "A = M[:,:-1]\n",
    "B = M[:, -1]"
   ]
  },
  {
   "cell_type": "code",
   "execution_count": 70,
   "id": "1874b941-863d-4236-ab6a-80dcb84fe127",
   "metadata": {
    "tags": []
   },
   "outputs": [],
   "source": [
    "x, rnorm = nnls(A,B)"
   ]
  },
  {
   "cell_type": "code",
   "execution_count": 71,
   "id": "16239593-23f0-464c-9c6c-f5f3fbefece6",
   "metadata": {
    "tags": []
   },
   "outputs": [
    {
     "data": {
      "text/plain": [
       "array([68.57142857, 77.14285714, 71.42857143,  0.        ,  0.        ,\n",
       "       14.28571429,  0.        , 31.42857143, 22.85714286,  0.        ,\n",
       "        0.        , 80.        ])"
      ]
     },
     "execution_count": 71,
     "metadata": {},
     "output_type": "execute_result"
    }
   ],
   "source": [
    "x"
   ]
  },
  {
   "cell_type": "markdown",
   "id": "7e242090-9a2a-45d7-9a52-725cafe23a39",
   "metadata": {},
   "source": [
    "We can see that the traffic reflows around the closed link."
   ]
  },
  {
   "cell_type": "code",
   "execution_count": null,
   "id": "f88e138f-67dc-49bd-8d3d-bfed8737da73",
   "metadata": {},
   "outputs": [],
   "source": []
  }
 ],
 "metadata": {
  "jupytext": {
   "cell_metadata_filter": "-all",
   "main_language": "python"
  },
  "kernelspec": {
   "display_name": "Python 3 (ipykernel)",
   "language": "python",
   "name": "python3"
  },
  "language_info": {
   "codemirror_mode": {
    "name": "ipython",
    "version": 3
   },
   "file_extension": ".py",
   "mimetype": "text/x-python",
   "name": "python",
   "nbconvert_exporter": "python",
   "pygments_lexer": "ipython3",
   "version": "3.9.10"
  }
 },
 "nbformat": 4,
 "nbformat_minor": 5
}
