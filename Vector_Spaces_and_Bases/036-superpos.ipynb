{
 "cells": [
  {
   "cell_type": "markdown",
   "id": "fd7554ca-5ac4-4958-b713-648e3fd54114",
   "metadata": {
    "editable": true,
    "slideshow": {
     "slide_type": ""
    },
    "tags": []
   },
   "source": [
    "---\n",
    "title: Applying the Superposition Principle\n",
    "subject: Vector Spaces and Bases\n",
    "subtitle: solutions for different right-hand vectors\n",
    "short_title: Superposition Principle's application\n",
    "authors:\n",
    "  - name: Nikolai Matni\n",
    "    affiliations:\n",
    "      - Dept. of Electrical and Systems Engineering\n",
    "      - University of Pennsylvania\n",
    "    email: nmatni@seas.upenn.edu\n",
    "license: CC-BY-4.0\n",
    "keywords: null spaces, column spaces, linear transformations\n",
    "math:\n",
    "  '\\vv': '\\mathbf{#1}'\n",
    "  '\\bm': '\\begin{bmatrix}'\n",
    "  '\\em': '\\end{bmatrix}'\n",
    "  '\\R': '\\mathbb{R}'\n",
    "---"
   ]
  },
  {
   "cell_type": "markdown",
   "id": "a46f522d-2995-412b-92cf-9ff085526b18",
   "metadata": {},
   "source": [
    "## Reading\n",
    "\n",
    "Material related to this page, as well as additional exercises, can be found in ALA Ch. 2.5."
   ]
  },
  {
   "cell_type": "markdown",
   "id": "d276bcc3-237d-4cda-8bf0-39285b0a09f3",
   "metadata": {},
   "source": [
    "## Learning Objectives\n",
    "\n",
    "By the end of this page, you should know:\n",
    "- how to use superposition principle to solve linear systems $A \\vv x = \\vv b$ with same $A$ and different $\\vv b$"
   ]
  },
  {
   "cell_type": "markdown",
   "id": "a1b52c01-f3b4-4b43-baeb-f97bc73802a8",
   "metadata": {},
   "source": [
    "## The idea\n",
    "\n",
    "For homogeneous systems $A \\vv x = \\vv 0$, [superposition](./035-kernel_image.ipynb#super_thm) let us generate new solutions by combining known solutions. For _inhomogeneous systems_ $A \\vv x = \\vv b$, superposition lets us combine solutions for different $\\vv b$ vectors.\n",
    "\n",
    "Suppose we have solutions $\\vv x_1^*$ and $\\vv x_2^*$ to $A \\vv x = \\vv b_1$ and $A \\vv x = \\vv b_2$, respectively. Can I build a solution to $A \\vv x = c_1 \\vv b_1 + c_2 \\vv b_2$ for some $c_1, c_2 \\in \\mathbb{R}$? The answer is [superposition](./035-kernel_image.ipynb#super_thm)!  Let's try $\\vv x^* = c_1 \\vv x_1^* + c_2 \\vv x_2^*$:\n",
    "\\begin{equation}\n",
    "\\label{super_eqn}\n",
    "A \\vv x^* = A (c_1 \\vv x_1^* + c_2 \\vv x_2^*) = c_1 (A \\vv x_1^*) + c_2 (A \\vv x_2^*) = c_1 \\vv b_1 + c_2 \\vv b_2.\n",
    "\\end{equation}\n",
    "From [](#super_eqn), $\\vv x^* = c_1 \\vv x_1^* + c_2 \\vv x_2^*$ is a solution to $A \\vv x = c_1 \\vv b_1 + c_2 \\vv b_2$. "
   ]
  },
  {
   "cell_type": "markdown",
   "id": "d52741b0-3bf7-4b39-bbd8-021b03a6aa42",
   "metadata": {},
   "source": [
    "## "
   ]
  }
 ],
 "metadata": {
  "jupytext": {
   "cell_metadata_filter": "-all",
   "main_language": "python"
  },
  "kernelspec": {
   "display_name": "Python 3 (ipykernel)",
   "language": "python",
   "name": "python3"
  },
  "language_info": {
   "codemirror_mode": {
    "name": "ipython",
    "version": 3
   },
   "file_extension": ".py",
   "mimetype": "text/x-python",
   "name": "python",
   "nbconvert_exporter": "python",
   "pygments_lexer": "ipython3",
   "version": "3.8.19"
  }
 },
 "nbformat": 4,
 "nbformat_minor": 5
}
