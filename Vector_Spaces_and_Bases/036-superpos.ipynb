{
 "cells": [
  {
   "cell_type": "markdown",
   "id": "fd7554ca-5ac4-4958-b713-648e3fd54114",
   "metadata": {
    "editable": true,
    "slideshow": {
     "slide_type": ""
    },
    "tags": []
   },
   "source": [
    "---\n",
    "title: Applying the Superposition Principle\n",
    "subject: Vector Spaces and Bases\n",
    "subtitle: solutions for different right-hand vectors\n",
    "short_title: Superposition Principle's application\n",
    "authors:\n",
    "  - name: Nikolai Matni\n",
    "    affiliations:\n",
    "      - Dept. of Electrical and Systems Engineering\n",
    "      - University of Pennsylvania\n",
    "    email: nmatni@seas.upenn.edu\n",
    "license: CC-BY-4.0\n",
    "keywords: null spaces, column spaces, linear transformations\n",
    "math:\n",
    "  '\\vv': '\\mathbf{#1}'\n",
    "  '\\bm': '\\begin{bmatrix}'\n",
    "  '\\em': '\\end{bmatrix}'\n",
    "  '\\R': '\\mathbb{R}'\n",
    "---"
   ]
  },
  {
   "cell_type": "markdown",
   "id": "a46f522d-2995-412b-92cf-9ff085526b18",
   "metadata": {},
   "source": [
    "## Reading\n",
    "\n",
    "Material related to this page, as well as additional exercises, can be found in ALA Ch. 2.5."
   ]
  },
  {
   "cell_type": "markdown",
   "id": "d276bcc3-237d-4cda-8bf0-39285b0a09f3",
   "metadata": {},
   "source": [
    "## Learning Objectives\n",
    "\n",
    "By the end of this page, you should know:\n",
    "- how to use superposition principle to solve linear systems $A \\vv x = \\vv b$ with same $A$ and different $\\vv b$"
   ]
  },
  {
   "cell_type": "markdown",
   "id": "a1b52c01-f3b4-4b43-baeb-f97bc73802a8",
   "metadata": {},
   "source": [
    "## The idea\n",
    "\n",
    "For homogeneous systems $A \\vv x = \\vv 0$, [superposition](./035-kernel_image.ipynb#super_thm) let us generate new solutions by combining known solutions. For _inhomogeneous systems_ $A \\vv x = \\vv b$, superposition lets us combine solutions for different $\\vv b$ vectors.\n",
    "\n",
    "Suppose we have solutions $\\vv x_1^*$ and $\\vv x_2^*$ to $A \\vv x = \\vv b_1$ and $A \\vv x = \\vv b_2$, respectively. Can I build a solution to $A \\vv x = c_1 \\vv b_1 + c_2 \\vv b_2$ for some $c_1, c_2 \\in \\mathbb{R}$? The answer is [superposition](./035-kernel_image.ipynb#super_thm)!  Let's try $\\vv x^* = c_1 \\vv x_1^* + c_2 \\vv x_2^*$:\n",
    "\\begin{equation}\n",
    "\\label{super_eqn}\n",
    "A \\vv x^* = A (c_1 \\vv x_1^* + c_2 \\vv x_2^*) = c_1 (A \\vv x_1^*) + c_2 (A \\vv x_2^*) = c_1 \\vv b_1 + c_2 \\vv b_2.\n",
    "\\end{equation}\n",
    "From [](#super_eqn), $\\vv x^* = c_1 \\vv x_1^* + c_2 \\vv x_2^*$ is a solution to $A \\vv x = c_1 \\vv b_1 + c_2 \\vv b_2$. \n",
    "\n",
    ":::{prf:example}\n",
    ":label:sup_eg\n",
    "\n",
    "The system\n",
    "$$\n",
    "\\bm 4 & 1 \\\\ 1 & 4 \\em \\bm x_1 \\\\ x_2 \\em = \\bm f_1 \\\\ f_2 \\em\n",
    "$$\n",
    "models the mechanical response of a pair of masses connected by springs subject to external forcing. \n",
    "\n",
    "The solution $\\vv x = \\bm x_1 \\\\ x_2 \\em$ is the displacement of the masses and the right-hand side $\\vv f = \\bm f_1 \\\\ f_2 \\em$ are the appplied forces.\n",
    "\n",
    "For $\\vv f = \\vv e_1 = \\bm 1 \\\\ 0 \\em$, $\\vv x_1^* = \\bm \\frac{4}{15} \\\\ -\\frac{1}{15}\\em$; and $\\vv f = \\vv e_2 = \\bm 0 \\\\ 1 \\em$, $\\vv x_2^* = \\bm -\\frac{1}{15} \\\\ \\frac{4}{15}\\em$. \n",
    "\n",
    "Hence, we can write the general solution for $\\vv f = \\bm f_1 \\\\ f_2 \\em f_1 \\vv e_1 + f_2 \\vv e_2$ as $\\vv x^* = f_1 \\vv x_1^* + f_2 \\vv x_2^*$.  \n",
    ":::"
   ]
  },
  {
   "cell_type": "markdown",
   "id": "d52741b0-3bf7-4b39-bbd8-021b03a6aa42",
   "metadata": {},
   "source": [
    "## The General form\n",
    "\n",
    "We can generalize the above idea to more than two solutions. \n",
    "\n",
    "If $\\vv x_1^*, \\vv x_2^*, \\ldots, \\vv x_k^*$ are solutions to $A \\vv x = \\vv b_1, A \\vv x = \\vv b_2, \\ldots, A \\vv x = \\vv b_k$, then, for any choice of $c_1, c_2, \\ldots, c_k \\in \\mathbb{R}$, a particular solution to\n",
    "\\begin{equation}\n",
    "\\label{gen}\n",
    "A \\vv x = c_1 \\vv b_1 + c_2 \\vv b_2 + \\ldots + c_k \\vv b_k\n",
    "\\end{equation}\n",
    "is given by $\\vv x^* = c_1 \\vv x_1^* + c_2 \\vv x_2^* + \\ldots + c_k \\vv x_k^*$. The general solution to [](#gen) is\n",
    "\\begin{equation}\n",
    "\\label{gen_n}\n",
    "\\vv x = \\vv x^* + \\vv n = c_1 \\vv x_1^* + c_2 \\vv x_2^* + \\ldots + c_k \\vv x_k^* + \\vv n,\n",
    "\\end{equation}\n",
    "where $\\vv n \\in $Null$(A)$.\n",
    "\n",
    ":::{important}\n",
    ":label: sup_imp\n",
    "If we know the particular solutions $\\vv x_1^*, \\vv x_2^*, \\ldots, \\vv x_m^*$ to $A \\vv x = \\vv e_i$ for $i = 1, 2, \\ldots, m$, where $\\vv e_1, \\ldots, \\vv e_m$ are the standard basis vectors of $\\mathbb{R}^m$, then, we can construct a particular solution $\\vv x^*$\n",
    " to $A \\vv x = \\vv b$ by first writing \n",
    " $$\n",
    "\\vv b = b_1 \\vv e_1 + b_2 \\vv e_2  +\\ldots + b_m \\vv e_m\n",
    " $$\n",
    " to conclude that $\\vv x = b_1 \\vv x_1 + b_2 \\vv x_2  +\\ldots + b_m \\vv x_m$ is a solution to $A \\vv x = \\vv b$. This tells us how the elements $b_i$ of $\\vv b$ affect our solution $\\vv x^*$.\n",
    ":::\n",
    "\n",
    "```{note}\n",
    "If $A$ is square, then [this fact](#sup_imp) is another way of computing $A^{-1}$. The vectors $\\vv x_1^*, \\vv x_2^*, \\ldots, \\vv x_m^*$ are the columns of $A^{-1}$(what are the $m$ linear systems?), and $\\vv x^* = A^{-1}\\vv b$.\n",
    "```\n",
    "\n"
   ]
  }
 ],
 "metadata": {
  "jupytext": {
   "cell_metadata_filter": "-all",
   "main_language": "python"
  },
  "kernelspec": {
   "display_name": "Python 3 (ipykernel)",
   "language": "python",
   "name": "python3"
  },
  "language_info": {
   "codemirror_mode": {
    "name": "ipython",
    "version": 3
   },
   "file_extension": ".py",
   "mimetype": "text/x-python",
   "name": "python",
   "nbconvert_exporter": "python",
   "pygments_lexer": "ipython3",
   "version": "3.8.19"
  }
 },
 "nbformat": 4,
 "nbformat_minor": 5
}
