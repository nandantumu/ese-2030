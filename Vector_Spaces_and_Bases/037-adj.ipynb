{
 "cells": [
  {
   "cell_type": "markdown",
   "id": "fd7554ca-5ac4-4958-b713-648e3fd54114",
   "metadata": {
    "editable": true,
    "slideshow": {
     "slide_type": ""
    },
    "tags": []
   },
   "source": [
    "---\n",
    "title: Adjoint Systems, Left Null Space, and Row Space\n",
    "subject: Vector Spaces and Bases\n",
    "subtitle: transpose of the matrix\n",
    "short_title: Adjoint, Left Null and Row Space\n",
    "authors:\n",
    "  - name: Nikolai Matni\n",
    "    affiliations:\n",
    "      - Dept. of Electrical and Systems Engineering\n",
    "      - University of Pennsylvania\n",
    "    email: nmatni@seas.upenn.edu\n",
    "license: CC-BY-4.0\n",
    "keywords: transpose, adjoint, left null space, row spaces\n",
    "math:\n",
    "  '\\vv': '\\mathbf{#1}'\n",
    "  '\\bm': '\\begin{bmatrix}'\n",
    "  '\\em': '\\end{bmatrix}'\n",
    "  '\\R': '\\mathbb{R}'\n",
    "---"
   ]
  },
  {
   "cell_type": "markdown",
   "id": "a46f522d-2995-412b-92cf-9ff085526b18",
   "metadata": {},
   "source": [
    "## Reading\n",
    "\n",
    "Material related to this page, as well as additional exercises, can be found in ALA Ch. 2.5."
   ]
  },
  {
   "cell_type": "markdown",
   "id": "d276bcc3-237d-4cda-8bf0-39285b0a09f3",
   "metadata": {},
   "source": [
    "## Learning Objectives\n",
    "\n",
    "By the end of this page, you should know:\n",
    "- what is the transpose of a matrix\n",
    "- Adjoint systems\n",
    "- Left Null Space\n",
    "- Row Space"
   ]
  },
  {
   "cell_type": "markdown",
   "id": "a1b52c01-f3b4-4b43-baeb-f97bc73802a8",
   "metadata": {},
   "source": [
    "## Matrix Transpose\n",
    "\n",
    "The transpose $A^{\\top}$ of an $m \\times n$ matrix $A$ is the $n \\times m$ matrix obtained by interchanging its rows and columns. Hence, if $B = A^{\\top}$, then $b_{ij} = a_{ji}$. \n",
    "\n",
    ":::{prf:example}\n",
    ":label:tr_eg\n",
    "1. If $A = \\bm -1 & 8 \\\\ 5 & 7 \\\\ 2 & -5\\em$, then $A^{\\top} = \\bm -1 & 5 & 2 \\\\ 8 & 7 & -5\\em$.\n",
    "2. Transpose of a row vector $\\vv c^{\\top} = \\bm 3 & -1 & -2\\em$ is a column vector $\\vv c = \\bm 3 \\\\ -1 \\\\ -2\\em$.\n",
    ":::\n",
    "\n",
    "```{note} Properties\n",
    "1. $\\left(A^{\\top}\\right)^{\\top} = A$ (Transpose of transpose brings back to original form) \n",
    "2. $(A + B)^{\\top} = A^{\\top} + B^{\\top}$ (Transpose and addition commute)\n",
    "3. $(AB)^{\\top} = B^{\\top}A^{\\top}$ (Reverses order on products)\n",
    "4. $\\left(A^{-1}\\right)^{\\top} = \\left(A^{\\top}\\right)^{-1} = A^{-T}$ (inverse and transpose commute, provided $A^{-1}$ exists)\n",
    "\n",
    "A special case if the product of a row vector $\\vv v^{\\top}$ and a column vector $\\vv w$ (which we will revisit):\n",
    "\\begin{equation}\n",
    "\\label{row_col}\n",
    "\\vv v^{\\top} \\vv w = \\left(\\vv v^{\\top} \\vv w\\right)^{\\top} = \\vv w^{\\top} \\vv v,\n",
    "\\end{equation}\n",
    "because the product in [](#row_col) is a scalar and the transpose of a scalar is itself.\n",
    "```"
   ]
  },
  {
   "cell_type": "markdown",
   "id": "d52741b0-3bf7-4b39-bbd8-021b03a6aa42",
   "metadata": {},
   "source": [
    "## Adjoint System\n",
    "\n",
    "This section explores the properties of the system of linear equations defined by $A^{\\top}$.\n",
    "\n",
    ":::{prf:definition} Adjoint System\n",
    ":label: adj_defn\n",
    "The _adjoint_ to a linear system $A \\vv x = \\vv b$ of $m$ equations in $n$ unknowns is the linear system \n",
    "\\begin{equation}\n",
    "\\label{adj_eqn}\n",
    "A^{\\top} \\vv y = \\vv f\n",
    "\\end{equation}\n",
    "consisting of $n$ equations in $m$ unknowns $\\vv y \\in \\mathbb{R}^m$ with right-hand side $\\vv f \\in \\mathbb{R}^n$.\n",
    ":::\n",
    "\n",
    ":::{prf:example}\n",
    ":label:adj_eg\n",
    "Consider the linear system $A \\vv x = \\vv b$ with\n",
    "$$\n",
    "A = \\bm 1 & 5 & -2 & 2 \\\\ 0 & 1 & 2 & -5 \\\\ 1 & 3 & -3 & 7\\em,\n",
    "$$\n",
    "which has the transpose \n",
    "$$\n",
    "A^{\\top} = \\bm 1 & 0 & 1 \\\\ 5 & 1 & 3 \\\\ -2 & 2 & -3 \\\\ 2 & -5 & 7\\em.\n",
    "$$\n",
    "Thus, the adjoint system $A^{\\top} \\vv y = \\vv f$ is\n",
    "$$\n",
    "y_1 + y_2 &= f_1, \\\\\n",
    "5y_1 + y_2 + 3y_3 &= f_2, \\\\\n",
    "-2y_1 + 2y_2 - 3y_3 &= f_3, \\\\\n",
    "2y_1 - 5y_2 + 7y_3 &= f_4.\n",
    "$$\n",
    ":::\n",
    "\n",
    "We will see some surprising connections between the solutions of $A \\vv x = \\vv b$ and $A^{\\top} \\vv y = \\vv f$ later in the course.\n",
    "\n"
   ]
  },
  {
   "cell_type": "markdown",
   "id": "dc5f4f1d-5b54-47d8-98ac-c01ff6680fce",
   "metadata": {},
   "source": [
    "## Row Space and Left Null Space\n",
    "\n",
    "\n",
    ":::{prf:definition} Row Space\n",
    ":label: rows_defn\n",
    "The _row space (coimage)_ of $A \\in \\mathbb{R}^{m \\times n}$ is the column space of its transpose\n",
    "\\begin{equation}\n",
    "\\label{row_eqn}\n",
    "\\textrm{Row}(A) = \\textrm{Col}(A^{\\top}) = \\{\\vv f \\in \\mathbb{R}^n : \\vv f = A^{\\top} \\vv y \\ \\textrm{for some} \\ \\vv y \\in \\mathbb{R}^m\\} \\subset \\mathbb{R}^n\n",
    "\\end{equation}\n",
    ":::\n",
    "It is called the row space because it is the subspace of $\\mathbb{R}^n$ spanned by the rows of $A$. \n",
    "\n",
    ":::{prf:definition} Left Null Space\n",
    ":label: nulls_defn\n",
    "The _left null space (cokernel)_ of $A \\in \\mathbb{R}^{m \\times n}$ is the null space of its transpose\n",
    "\\begin{equation}\n",
    "\\label{nulls_eqn}\n",
    "\\textrm{LNull}(A) = \\textrm{Null}(A^{\\top}) = \\{\\vv w \\in \\mathbb{R}^m :  A^{\\top} \\vv w = \\vv 0\\} \\subset \\mathbb{R}^m\n",
    "\\end{equation}\n",
    ":::\n",
    "It is called the left null space of $A$ because LNull$(A)$ is composed of row vectors $\\vv w^{\\top}$ that satisfy $\\vv w^{\\top} A = \\vv 0^{\\top}$.\n",
    "\n",
    "\n",
    ":::{prf:example} TO DO: Single example for Col\n",
    ":label:all_eg\n",
    ":::"
   ]
  }
 ],
 "metadata": {
  "jupytext": {
   "cell_metadata_filter": "-all",
   "main_language": "python"
  },
  "kernelspec": {
   "display_name": "Python 3 (ipykernel)",
   "language": "python",
   "name": "python3"
  },
  "language_info": {
   "codemirror_mode": {
    "name": "ipython",
    "version": 3
   },
   "file_extension": ".py",
   "mimetype": "text/x-python",
   "name": "python",
   "nbconvert_exporter": "python",
   "pygments_lexer": "ipython3",
   "version": "3.8.19"
  }
 },
 "nbformat": 4,
 "nbformat_minor": 5
}
